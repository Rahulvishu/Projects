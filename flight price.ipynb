{
 "cells": [
  {
   "cell_type": "code",
   "execution_count": 59,
   "id": "f5dc5e11",
   "metadata": {},
   "outputs": [],
   "source": [
    "import numpy as np\n",
    "import pandas as pd\n",
    "import seaborn as sns\n",
    "import matplotlib.pyplot as plt\n",
    "import warnings\n",
    "warnings.filterwarnings('ignore')"
   ]
  },
  {
   "cell_type": "code",
   "execution_count": 60,
   "id": "f7a18b49",
   "metadata": {},
   "outputs": [],
   "source": [
    "from pandas import ExcelWriter\n",
    "from pandas import ExcelFile"
   ]
  },
  {
   "cell_type": "code",
   "execution_count": 61,
   "id": "71c68f21",
   "metadata": {},
   "outputs": [],
   "source": [
    "df_train=pd.read_excel('flight_train.xlsx') # we are loading training data set"
   ]
  },
  {
   "cell_type": "code",
   "execution_count": 62,
   "id": "5d3af7d0",
   "metadata": {},
   "outputs": [
    {
     "data": {
      "text/html": [
       "<div>\n",
       "<style scoped>\n",
       "    .dataframe tbody tr th:only-of-type {\n",
       "        vertical-align: middle;\n",
       "    }\n",
       "\n",
       "    .dataframe tbody tr th {\n",
       "        vertical-align: top;\n",
       "    }\n",
       "\n",
       "    .dataframe thead th {\n",
       "        text-align: right;\n",
       "    }\n",
       "</style>\n",
       "<table border=\"1\" class=\"dataframe\">\n",
       "  <thead>\n",
       "    <tr style=\"text-align: right;\">\n",
       "      <th></th>\n",
       "      <th>Airline</th>\n",
       "      <th>Date_of_Journey</th>\n",
       "      <th>Source</th>\n",
       "      <th>Destination</th>\n",
       "      <th>Route</th>\n",
       "      <th>Dep_Time</th>\n",
       "      <th>Arrival_Time</th>\n",
       "      <th>Duration</th>\n",
       "      <th>Total_Stops</th>\n",
       "      <th>Additional_Info</th>\n",
       "      <th>Price</th>\n",
       "    </tr>\n",
       "  </thead>\n",
       "  <tbody>\n",
       "    <tr>\n",
       "      <th>0</th>\n",
       "      <td>IndiGo</td>\n",
       "      <td>24/03/2019</td>\n",
       "      <td>Banglore</td>\n",
       "      <td>New Delhi</td>\n",
       "      <td>BLR → DEL</td>\n",
       "      <td>22:20</td>\n",
       "      <td>01:10 22 Mar</td>\n",
       "      <td>2h 50m</td>\n",
       "      <td>non-stop</td>\n",
       "      <td>No info</td>\n",
       "      <td>3897</td>\n",
       "    </tr>\n",
       "    <tr>\n",
       "      <th>1</th>\n",
       "      <td>Air India</td>\n",
       "      <td>1/05/2019</td>\n",
       "      <td>Kolkata</td>\n",
       "      <td>Banglore</td>\n",
       "      <td>CCU → IXR → BBI → BLR</td>\n",
       "      <td>05:50</td>\n",
       "      <td>13:15</td>\n",
       "      <td>7h 25m</td>\n",
       "      <td>2 stops</td>\n",
       "      <td>No info</td>\n",
       "      <td>7662</td>\n",
       "    </tr>\n",
       "    <tr>\n",
       "      <th>2</th>\n",
       "      <td>Jet Airways</td>\n",
       "      <td>9/06/2019</td>\n",
       "      <td>Delhi</td>\n",
       "      <td>Cochin</td>\n",
       "      <td>DEL → LKO → BOM → COK</td>\n",
       "      <td>09:25</td>\n",
       "      <td>04:25 10 Jun</td>\n",
       "      <td>19h</td>\n",
       "      <td>2 stops</td>\n",
       "      <td>No info</td>\n",
       "      <td>13882</td>\n",
       "    </tr>\n",
       "    <tr>\n",
       "      <th>3</th>\n",
       "      <td>IndiGo</td>\n",
       "      <td>12/05/2019</td>\n",
       "      <td>Kolkata</td>\n",
       "      <td>Banglore</td>\n",
       "      <td>CCU → NAG → BLR</td>\n",
       "      <td>18:05</td>\n",
       "      <td>23:30</td>\n",
       "      <td>5h 25m</td>\n",
       "      <td>1 stop</td>\n",
       "      <td>No info</td>\n",
       "      <td>6218</td>\n",
       "    </tr>\n",
       "    <tr>\n",
       "      <th>4</th>\n",
       "      <td>IndiGo</td>\n",
       "      <td>01/03/2019</td>\n",
       "      <td>Banglore</td>\n",
       "      <td>New Delhi</td>\n",
       "      <td>BLR → NAG → DEL</td>\n",
       "      <td>16:50</td>\n",
       "      <td>21:35</td>\n",
       "      <td>4h 45m</td>\n",
       "      <td>1 stop</td>\n",
       "      <td>No info</td>\n",
       "      <td>13302</td>\n",
       "    </tr>\n",
       "    <tr>\n",
       "      <th>...</th>\n",
       "      <td>...</td>\n",
       "      <td>...</td>\n",
       "      <td>...</td>\n",
       "      <td>...</td>\n",
       "      <td>...</td>\n",
       "      <td>...</td>\n",
       "      <td>...</td>\n",
       "      <td>...</td>\n",
       "      <td>...</td>\n",
       "      <td>...</td>\n",
       "      <td>...</td>\n",
       "    </tr>\n",
       "    <tr>\n",
       "      <th>10678</th>\n",
       "      <td>Air Asia</td>\n",
       "      <td>9/04/2019</td>\n",
       "      <td>Kolkata</td>\n",
       "      <td>Banglore</td>\n",
       "      <td>CCU → BLR</td>\n",
       "      <td>19:55</td>\n",
       "      <td>22:25</td>\n",
       "      <td>2h 30m</td>\n",
       "      <td>non-stop</td>\n",
       "      <td>No info</td>\n",
       "      <td>4107</td>\n",
       "    </tr>\n",
       "    <tr>\n",
       "      <th>10679</th>\n",
       "      <td>Air India</td>\n",
       "      <td>27/04/2019</td>\n",
       "      <td>Kolkata</td>\n",
       "      <td>Banglore</td>\n",
       "      <td>CCU → BLR</td>\n",
       "      <td>20:45</td>\n",
       "      <td>23:20</td>\n",
       "      <td>2h 35m</td>\n",
       "      <td>non-stop</td>\n",
       "      <td>No info</td>\n",
       "      <td>4145</td>\n",
       "    </tr>\n",
       "    <tr>\n",
       "      <th>10680</th>\n",
       "      <td>Jet Airways</td>\n",
       "      <td>27/04/2019</td>\n",
       "      <td>Banglore</td>\n",
       "      <td>Delhi</td>\n",
       "      <td>BLR → DEL</td>\n",
       "      <td>08:20</td>\n",
       "      <td>11:20</td>\n",
       "      <td>3h</td>\n",
       "      <td>non-stop</td>\n",
       "      <td>No info</td>\n",
       "      <td>7229</td>\n",
       "    </tr>\n",
       "    <tr>\n",
       "      <th>10681</th>\n",
       "      <td>Vistara</td>\n",
       "      <td>01/03/2019</td>\n",
       "      <td>Banglore</td>\n",
       "      <td>New Delhi</td>\n",
       "      <td>BLR → DEL</td>\n",
       "      <td>11:30</td>\n",
       "      <td>14:10</td>\n",
       "      <td>2h 40m</td>\n",
       "      <td>non-stop</td>\n",
       "      <td>No info</td>\n",
       "      <td>12648</td>\n",
       "    </tr>\n",
       "    <tr>\n",
       "      <th>10682</th>\n",
       "      <td>Air India</td>\n",
       "      <td>9/05/2019</td>\n",
       "      <td>Delhi</td>\n",
       "      <td>Cochin</td>\n",
       "      <td>DEL → GOI → BOM → COK</td>\n",
       "      <td>10:55</td>\n",
       "      <td>19:15</td>\n",
       "      <td>8h 20m</td>\n",
       "      <td>2 stops</td>\n",
       "      <td>No info</td>\n",
       "      <td>11753</td>\n",
       "    </tr>\n",
       "  </tbody>\n",
       "</table>\n",
       "<p>10683 rows × 11 columns</p>\n",
       "</div>"
      ],
      "text/plain": [
       "           Airline Date_of_Journey    Source Destination  \\\n",
       "0           IndiGo      24/03/2019  Banglore   New Delhi   \n",
       "1        Air India       1/05/2019   Kolkata    Banglore   \n",
       "2      Jet Airways       9/06/2019     Delhi      Cochin   \n",
       "3           IndiGo      12/05/2019   Kolkata    Banglore   \n",
       "4           IndiGo      01/03/2019  Banglore   New Delhi   \n",
       "...            ...             ...       ...         ...   \n",
       "10678     Air Asia       9/04/2019   Kolkata    Banglore   \n",
       "10679    Air India      27/04/2019   Kolkata    Banglore   \n",
       "10680  Jet Airways      27/04/2019  Banglore       Delhi   \n",
       "10681      Vistara      01/03/2019  Banglore   New Delhi   \n",
       "10682    Air India       9/05/2019     Delhi      Cochin   \n",
       "\n",
       "                       Route Dep_Time  Arrival_Time Duration Total_Stops  \\\n",
       "0                  BLR → DEL    22:20  01:10 22 Mar   2h 50m    non-stop   \n",
       "1      CCU → IXR → BBI → BLR    05:50         13:15   7h 25m     2 stops   \n",
       "2      DEL → LKO → BOM → COK    09:25  04:25 10 Jun      19h     2 stops   \n",
       "3            CCU → NAG → BLR    18:05         23:30   5h 25m      1 stop   \n",
       "4            BLR → NAG → DEL    16:50         21:35   4h 45m      1 stop   \n",
       "...                      ...      ...           ...      ...         ...   \n",
       "10678              CCU → BLR    19:55         22:25   2h 30m    non-stop   \n",
       "10679              CCU → BLR    20:45         23:20   2h 35m    non-stop   \n",
       "10680              BLR → DEL    08:20         11:20       3h    non-stop   \n",
       "10681              BLR → DEL    11:30         14:10   2h 40m    non-stop   \n",
       "10682  DEL → GOI → BOM → COK    10:55         19:15   8h 20m     2 stops   \n",
       "\n",
       "      Additional_Info  Price  \n",
       "0             No info   3897  \n",
       "1             No info   7662  \n",
       "2             No info  13882  \n",
       "3             No info   6218  \n",
       "4             No info  13302  \n",
       "...               ...    ...  \n",
       "10678         No info   4107  \n",
       "10679         No info   4145  \n",
       "10680         No info   7229  \n",
       "10681         No info  12648  \n",
       "10682         No info  11753  \n",
       "\n",
       "[10683 rows x 11 columns]"
      ]
     },
     "execution_count": 62,
     "metadata": {},
     "output_type": "execute_result"
    }
   ],
   "source": [
    "df_train"
   ]
  },
  {
   "cell_type": "code",
   "execution_count": 63,
   "id": "322ec833",
   "metadata": {},
   "outputs": [
    {
     "data": {
      "text/plain": [
       "Index(['Airline', 'Date_of_Journey', 'Source', 'Destination', 'Route',\n",
       "       'Dep_Time', 'Arrival_Time', 'Duration', 'Total_Stops',\n",
       "       'Additional_Info', 'Price'],\n",
       "      dtype='object')"
      ]
     },
     "execution_count": 63,
     "metadata": {},
     "output_type": "execute_result"
    }
   ],
   "source": [
    "df_train.columns"
   ]
  },
  {
   "cell_type": "code",
   "execution_count": 64,
   "id": "695a0c45",
   "metadata": {},
   "outputs": [
    {
     "data": {
      "text/plain": [
       "Airline            object\n",
       "Date_of_Journey    object\n",
       "Source             object\n",
       "Destination        object\n",
       "Route              object\n",
       "Dep_Time           object\n",
       "Arrival_Time       object\n",
       "Duration           object\n",
       "Total_Stops        object\n",
       "Additional_Info    object\n",
       "Price               int64\n",
       "dtype: object"
      ]
     },
     "execution_count": 64,
     "metadata": {},
     "output_type": "execute_result"
    }
   ],
   "source": [
    "df_train.dtypes   "
   ]
  },
  {
   "cell_type": "code",
   "execution_count": 65,
   "id": "e334b2f5",
   "metadata": {},
   "outputs": [
    {
     "data": {
      "text/plain": [
       "Airline            0\n",
       "Date_of_Journey    0\n",
       "Source             0\n",
       "Destination        0\n",
       "Route              1\n",
       "Dep_Time           0\n",
       "Arrival_Time       0\n",
       "Duration           0\n",
       "Total_Stops        1\n",
       "Additional_Info    0\n",
       "Price              0\n",
       "dtype: int64"
      ]
     },
     "execution_count": 65,
     "metadata": {},
     "output_type": "execute_result"
    }
   ],
   "source": [
    "df_train.isnull().sum()  # we find two null values"
   ]
  },
  {
   "cell_type": "code",
   "execution_count": 66,
   "id": "7e3d30e6",
   "metadata": {},
   "outputs": [
    {
     "name": "stdout",
     "output_type": "stream",
     "text": [
      "<class 'pandas.core.frame.DataFrame'>\n",
      "RangeIndex: 10683 entries, 0 to 10682\n",
      "Data columns (total 11 columns):\n",
      " #   Column           Non-Null Count  Dtype \n",
      "---  ------           --------------  ----- \n",
      " 0   Airline          10683 non-null  object\n",
      " 1   Date_of_Journey  10683 non-null  object\n",
      " 2   Source           10683 non-null  object\n",
      " 3   Destination      10683 non-null  object\n",
      " 4   Route            10682 non-null  object\n",
      " 5   Dep_Time         10683 non-null  object\n",
      " 6   Arrival_Time     10683 non-null  object\n",
      " 7   Duration         10683 non-null  object\n",
      " 8   Total_Stops      10682 non-null  object\n",
      " 9   Additional_Info  10683 non-null  object\n",
      " 10  Price            10683 non-null  int64 \n",
      "dtypes: int64(1), object(10)\n",
      "memory usage: 918.2+ KB\n"
     ]
    }
   ],
   "source": [
    "df_train.info()"
   ]
  },
  {
   "cell_type": "code",
   "execution_count": 67,
   "id": "3f0eea9b",
   "metadata": {},
   "outputs": [
    {
     "data": {
      "text/plain": [
       "array(['IndiGo', 'Air India', 'Jet Airways', 'SpiceJet',\n",
       "       'Multiple carriers', 'GoAir', 'Vistara', 'Air Asia',\n",
       "       'Vistara Premium economy', 'Jet Airways Business',\n",
       "       'Multiple carriers Premium economy', 'Trujet'], dtype=object)"
      ]
     },
     "execution_count": 67,
     "metadata": {},
     "output_type": "execute_result"
    }
   ],
   "source": [
    "df_train['Airline'].unique()  #has 12 unique values"
   ]
  },
  {
   "cell_type": "code",
   "execution_count": 68,
   "id": "851fabc6",
   "metadata": {},
   "outputs": [
    {
     "data": {
      "text/plain": [
       "array(['Banglore', 'Kolkata', 'Delhi', 'Chennai', 'Mumbai'], dtype=object)"
      ]
     },
     "execution_count": 68,
     "metadata": {},
     "output_type": "execute_result"
    }
   ],
   "source": [
    "df_train['Source'].unique()  #has 5 unique values"
   ]
  },
  {
   "cell_type": "code",
   "execution_count": 69,
   "id": "9ede6471",
   "metadata": {},
   "outputs": [
    {
     "data": {
      "text/plain": [
       "array(['New Delhi', 'Banglore', 'Cochin', 'Kolkata', 'Delhi', 'Hyderabad'],\n",
       "      dtype=object)"
      ]
     },
     "execution_count": 69,
     "metadata": {},
     "output_type": "execute_result"
    }
   ],
   "source": [
    "df_train['Destination'].unique() #has 6 unique values"
   ]
  },
  {
   "cell_type": "code",
   "execution_count": 70,
   "id": "9de39139",
   "metadata": {},
   "outputs": [
    {
     "data": {
      "text/plain": [
       "array(['No info', 'In-flight meal not included',\n",
       "       'No check-in baggage included', '1 Short layover', 'No Info',\n",
       "       '1 Long layover', 'Change airports', 'Business class',\n",
       "       'Red-eye flight', '2 Long layover'], dtype=object)"
      ]
     },
     "execution_count": 70,
     "metadata": {},
     "output_type": "execute_result"
    }
   ],
   "source": [
    "df_train['Additional_Info'].unique() #has 10 unique values"
   ]
  },
  {
   "cell_type": "code",
   "execution_count": 71,
   "id": "b5fbe33f",
   "metadata": {},
   "outputs": [],
   "source": [
    "df_train.Additional_Info.replace('No Info','No info',inplace=True) # as there are two no info value in column"
   ]
  },
  {
   "cell_type": "code",
   "execution_count": 72,
   "id": "141c3acb",
   "metadata": {},
   "outputs": [
    {
     "data": {
      "text/plain": [
       "array(['non-stop', '2 stops', '1 stop', '3 stops', nan, '4 stops'],\n",
       "      dtype=object)"
      ]
     },
     "execution_count": 72,
     "metadata": {},
     "output_type": "execute_result"
    }
   ],
   "source": [
    "df_train['Total_Stops'].unique() #has 5 unique values  and there should be maximum of 6 ciies in any particular route "
   ]
  },
  {
   "cell_type": "code",
   "execution_count": 73,
   "id": "32d36673",
   "metadata": {},
   "outputs": [],
   "source": [
    "#Treating the date column"
   ]
  },
  {
   "cell_type": "code",
   "execution_count": 74,
   "id": "41f3467c",
   "metadata": {},
   "outputs": [],
   "source": [
    "df_train.Date_of_Journey=df_train.Date_of_Journey.str.split('/')"
   ]
  },
  {
   "cell_type": "code",
   "execution_count": 75,
   "id": "4050a118",
   "metadata": {},
   "outputs": [
    {
     "data": {
      "text/plain": [
       "0        [24, 03, 2019]\n",
       "1         [1, 05, 2019]\n",
       "2         [9, 06, 2019]\n",
       "3        [12, 05, 2019]\n",
       "4        [01, 03, 2019]\n",
       "              ...      \n",
       "10678     [9, 04, 2019]\n",
       "10679    [27, 04, 2019]\n",
       "10680    [27, 04, 2019]\n",
       "10681    [01, 03, 2019]\n",
       "10682     [9, 05, 2019]\n",
       "Name: Date_of_Journey, Length: 10683, dtype: object"
      ]
     },
     "execution_count": 75,
     "metadata": {},
     "output_type": "execute_result"
    }
   ],
   "source": [
    "df_train.Date_of_Journey"
   ]
  },
  {
   "cell_type": "code",
   "execution_count": 76,
   "id": "a50fe84b",
   "metadata": {},
   "outputs": [],
   "source": [
    "df_train['Date']=df_train.Date_of_Journey.str[0]\n",
    "df_train['Month']=df_train.Date_of_Journey.str[1]\n",
    "df_train['Year']=df_train.Date_of_Journey.str[2]"
   ]
  },
  {
   "cell_type": "code",
   "execution_count": 77,
   "id": "74a9f20f",
   "metadata": {},
   "outputs": [],
   "source": [
    "# splitting of route column  "
   ]
  },
  {
   "cell_type": "code",
   "execution_count": 78,
   "id": "127a6f95",
   "metadata": {},
   "outputs": [],
   "source": [
    "df_train.Route=df_train.Route.str.split('→')"
   ]
  },
  {
   "cell_type": "code",
   "execution_count": 79,
   "id": "a12f22f2",
   "metadata": {},
   "outputs": [],
   "source": [
    "df_train['City1']=df_train.Route.str[0]  #maximum of six cities in a route\n",
    "df_train['City2']=df_train.Route.str[1]\n",
    "df_train['City3']=df_train.Route.str[2]\n",
    "df_train['City4']=df_train.Route.str[3]\n",
    "df_train['City5']=df_train.Route.str[4]\n",
    "df_train['City6']=df_train.Route.str[5]"
   ]
  },
  {
   "cell_type": "code",
   "execution_count": 80,
   "id": "292a33b8",
   "metadata": {},
   "outputs": [],
   "source": [
    "#treating of Dep_time column   "
   ]
  },
  {
   "cell_type": "code",
   "execution_count": 81,
   "id": "e2afca56",
   "metadata": {},
   "outputs": [],
   "source": [
    "df_train.Dep_Time=df_train.Dep_Time.str.split(':')# we split the Dep_time column, and create separate columns for departure hours and minutes –"
   ]
  },
  {
   "cell_type": "code",
   "execution_count": 82,
   "id": "75f54f07",
   "metadata": {},
   "outputs": [],
   "source": [
    "df_train['Dep_Time_Hour']=df_train.Dep_Time.str[0]\n",
    "df_train['Dep_Time_Min']=df_train.Dep_Time.str[1]"
   ]
  },
  {
   "cell_type": "code",
   "execution_count": 83,
   "id": "bee3b7e2",
   "metadata": {},
   "outputs": [],
   "source": [
    "#treating arrival time column"
   ]
  },
  {
   "cell_type": "code",
   "execution_count": 84,
   "id": "fff35333",
   "metadata": {},
   "outputs": [],
   "source": [
    "df_train.Arrival_Time=df_train.Arrival_Time.str.split(' ')"
   ]
  },
  {
   "cell_type": "code",
   "execution_count": 85,
   "id": "95d3002d",
   "metadata": {},
   "outputs": [],
   "source": [
    "df_train['Arrival_date']=df_train.Arrival_Time.str[1]\n",
    "df_train['Time_of_arrival']=df_train.Arrival_Time.str[0]"
   ]
  },
  {
   "cell_type": "code",
   "execution_count": 86,
   "id": "deaeae5d",
   "metadata": {},
   "outputs": [],
   "source": [
    "df_train['Time_of_arrival']=df_train.Time_of_arrival.str.split(':')\n",
    "df_train['Arrival_Time_Hour']=df_train.Time_of_arrival.str[0]\n",
    "df_train['Arrival_Time_Min']=df_train.Time_of_arrival.str[1]"
   ]
  },
  {
   "cell_type": "code",
   "execution_count": 87,
   "id": "8c48e638",
   "metadata": {},
   "outputs": [],
   "source": [
    "#treating with duration column"
   ]
  },
  {
   "cell_type": "code",
   "execution_count": 88,
   "id": "4d80a991",
   "metadata": {},
   "outputs": [],
   "source": [
    "df_train.Duration=df_train.Duration.str.split(' ')"
   ]
  },
  {
   "cell_type": "code",
   "execution_count": 89,
   "id": "86629f9c",
   "metadata": {},
   "outputs": [],
   "source": [
    "df_train['Travel_hours']=df_train.Duration.str[0]\n",
    "df_train['Travel_hours']=df_train['Travel_hours'].str.split('h')\n",
    "df_train['Travel_hours']=df_train['Travel_hours'].str[0]\n",
    "df_train.Travel_hours=df_train.Travel_hours"
   ]
  },
  {
   "cell_type": "code",
   "execution_count": 90,
   "id": "57cc8b4a",
   "metadata": {},
   "outputs": [],
   "source": [
    "df_train['Travel_mins']=df_train.Duration.str[1]\n",
    "df_train.Travel_mins=df_train.Travel_mins.str.split('m')\n",
    "df_train.Travel_mins=df_train.Travel_mins.str[0]"
   ]
  },
  {
   "cell_type": "code",
   "execution_count": 91,
   "id": "01675888",
   "metadata": {},
   "outputs": [],
   "source": [
    "#treating total stops column\n",
    "df_train.Total_Stops.replace('non-stop','0',inplace=True)\n",
    "df_train.Total_Stops=df_train.Total_Stops.str.split(' ')\n",
    "df_train.Total_Stops=df_train.Total_Stops.str[0]"
   ]
  },
  {
   "cell_type": "code",
   "execution_count": 92,
   "id": "f614d4a9",
   "metadata": {},
   "outputs": [
    {
     "data": {
      "text/plain": [
       "Airline                  0\n",
       "Date_of_Journey          0\n",
       "Source                   0\n",
       "Destination              0\n",
       "Route                    1\n",
       "Dep_Time                 0\n",
       "Arrival_Time             0\n",
       "Duration                 0\n",
       "Total_Stops              1\n",
       "Additional_Info          0\n",
       "Price                    0\n",
       "Date                     0\n",
       "Month                    0\n",
       "Year                     0\n",
       "City1                    1\n",
       "City2                    1\n",
       "City3                 3492\n",
       "City4                 9117\n",
       "City5                10637\n",
       "City6                10682\n",
       "Dep_Time_Hour            0\n",
       "Dep_Time_Min             0\n",
       "Arrival_date          6348\n",
       "Time_of_arrival          0\n",
       "Arrival_Time_Hour        0\n",
       "Arrival_Time_Min         0\n",
       "Travel_hours             0\n",
       "Travel_mins           1032\n",
       "dtype: int64"
      ]
     },
     "execution_count": 92,
     "metadata": {},
     "output_type": "execute_result"
    }
   ],
   "source": [
    "df_train.isnull().sum()  #due to splitting the columns Nan values are intoduced"
   ]
  },
  {
   "cell_type": "code",
   "execution_count": 93,
   "id": "770ac085",
   "metadata": {},
   "outputs": [],
   "source": [
    "# we drop city4,city5,city6 as they dont contain any data and the columns which we have treated"
   ]
  },
  {
   "cell_type": "code",
   "execution_count": 94,
   "id": "6ba1a403",
   "metadata": {},
   "outputs": [],
   "source": [
    "df_train=df_train.drop(['City4','City5','City6','Route','Date_of_Journey','Dep_Time','Arrival_Time','Duration','Time_of_arrival'],axis=1)"
   ]
  },
  {
   "cell_type": "code",
   "execution_count": 95,
   "id": "d3156144",
   "metadata": {},
   "outputs": [
    {
     "data": {
      "text/plain": [
       "Airline                 0\n",
       "Source                  0\n",
       "Destination             0\n",
       "Total_Stops             1\n",
       "Additional_Info         0\n",
       "Price                   0\n",
       "Date                    0\n",
       "Month                   0\n",
       "Year                    0\n",
       "City1                   1\n",
       "City2                   1\n",
       "City3                3492\n",
       "Dep_Time_Hour           0\n",
       "Dep_Time_Min            0\n",
       "Arrival_date         6348\n",
       "Arrival_Time_Hour       0\n",
       "Arrival_Time_Min        0\n",
       "Travel_hours            0\n",
       "Travel_mins          1032\n",
       "dtype: int64"
      ]
     },
     "execution_count": 95,
     "metadata": {},
     "output_type": "execute_result"
    }
   ],
   "source": [
    "df_train.isnull().sum()"
   ]
  },
  {
   "cell_type": "code",
   "execution_count": 96,
   "id": "4f773eb3",
   "metadata": {},
   "outputs": [
    {
     "data": {
      "text/html": [
       "<div>\n",
       "<style scoped>\n",
       "    .dataframe tbody tr th:only-of-type {\n",
       "        vertical-align: middle;\n",
       "    }\n",
       "\n",
       "    .dataframe tbody tr th {\n",
       "        vertical-align: top;\n",
       "    }\n",
       "\n",
       "    .dataframe thead th {\n",
       "        text-align: right;\n",
       "    }\n",
       "</style>\n",
       "<table border=\"1\" class=\"dataframe\">\n",
       "  <thead>\n",
       "    <tr style=\"text-align: right;\">\n",
       "      <th></th>\n",
       "      <th>Airline</th>\n",
       "      <th>Source</th>\n",
       "      <th>Destination</th>\n",
       "      <th>Total_Stops</th>\n",
       "      <th>Additional_Info</th>\n",
       "      <th>Price</th>\n",
       "      <th>Date</th>\n",
       "      <th>Month</th>\n",
       "      <th>Year</th>\n",
       "      <th>City1</th>\n",
       "      <th>City2</th>\n",
       "      <th>City3</th>\n",
       "      <th>Dep_Time_Hour</th>\n",
       "      <th>Dep_Time_Min</th>\n",
       "      <th>Arrival_date</th>\n",
       "      <th>Arrival_Time_Hour</th>\n",
       "      <th>Arrival_Time_Min</th>\n",
       "      <th>Travel_hours</th>\n",
       "      <th>Travel_mins</th>\n",
       "    </tr>\n",
       "  </thead>\n",
       "  <tbody>\n",
       "    <tr>\n",
       "      <th>9039</th>\n",
       "      <td>Air India</td>\n",
       "      <td>Delhi</td>\n",
       "      <td>Cochin</td>\n",
       "      <td>NaN</td>\n",
       "      <td>No info</td>\n",
       "      <td>7480</td>\n",
       "      <td>6</td>\n",
       "      <td>05</td>\n",
       "      <td>2019</td>\n",
       "      <td>NaN</td>\n",
       "      <td>NaN</td>\n",
       "      <td>NaN</td>\n",
       "      <td>09</td>\n",
       "      <td>45</td>\n",
       "      <td>07</td>\n",
       "      <td>09</td>\n",
       "      <td>25</td>\n",
       "      <td>23</td>\n",
       "      <td>40</td>\n",
       "    </tr>\n",
       "  </tbody>\n",
       "</table>\n",
       "</div>"
      ],
      "text/plain": [
       "        Airline Source Destination Total_Stops Additional_Info  Price Date  \\\n",
       "9039  Air India  Delhi      Cochin         NaN         No info   7480    6   \n",
       "\n",
       "     Month  Year City1 City2 City3 Dep_Time_Hour Dep_Time_Min Arrival_date  \\\n",
       "9039    05  2019   NaN   NaN   NaN            09           45           07   \n",
       "\n",
       "     Arrival_Time_Hour Arrival_Time_Min Travel_hours Travel_mins  \n",
       "9039                09               25           23          40  "
      ]
     },
     "execution_count": 96,
     "metadata": {},
     "output_type": "execute_result"
    }
   ],
   "source": [
    "df_train[df_train['City1'].isnull()]"
   ]
  },
  {
   "cell_type": "code",
   "execution_count": 97,
   "id": "f45486a6",
   "metadata": {},
   "outputs": [],
   "source": [
    "df_train['City1'].fillna('DEL',inplace=True)\n",
    "df_train['City2'].fillna('COK',inplace=True)\n",
    "df_train['Total_Stops'].fillna(0,inplace=True)"
   ]
  },
  {
   "cell_type": "code",
   "execution_count": 98,
   "id": "2d3ec262",
   "metadata": {},
   "outputs": [],
   "source": [
    "df_train['City3'].fillna('None',inplace=True) #since missing values are less we replace it with separate category"
   ]
  },
  {
   "cell_type": "code",
   "execution_count": 99,
   "id": "87ba213f",
   "metadata": {},
   "outputs": [],
   "source": [
    "df_train['Arrival_date'].fillna(df_train['Date'],inplace=True)  #arrival date is replaced with departure date\n",
    "df_train['Travel_mins'].fillna(0,inplace=True)# not usefull data"
   ]
  },
  {
   "cell_type": "code",
   "execution_count": 100,
   "id": "8731a2fc",
   "metadata": {},
   "outputs": [
    {
     "data": {
      "text/plain": [
       "Airline              0\n",
       "Source               0\n",
       "Destination          0\n",
       "Total_Stops          0\n",
       "Additional_Info      0\n",
       "Price                0\n",
       "Date                 0\n",
       "Month                0\n",
       "Year                 0\n",
       "City1                0\n",
       "City2                0\n",
       "City3                0\n",
       "Dep_Time_Hour        0\n",
       "Dep_Time_Min         0\n",
       "Arrival_date         0\n",
       "Arrival_Time_Hour    0\n",
       "Arrival_Time_Min     0\n",
       "Travel_hours         0\n",
       "Travel_mins          0\n",
       "dtype: int64"
      ]
     },
     "execution_count": 100,
     "metadata": {},
     "output_type": "execute_result"
    }
   ],
   "source": [
    "df_train.isnull().sum()  # no null values are present"
   ]
  },
  {
   "cell_type": "code",
   "execution_count": 101,
   "id": "09d48ad4",
   "metadata": {},
   "outputs": [
    {
     "data": {
      "text/plain": [
       "Airline              object\n",
       "Source               object\n",
       "Destination          object\n",
       "Total_Stops          object\n",
       "Additional_Info      object\n",
       "Price                 int64\n",
       "Date                 object\n",
       "Month                object\n",
       "Year                 object\n",
       "City1                object\n",
       "City2                object\n",
       "City3                object\n",
       "Dep_Time_Hour        object\n",
       "Dep_Time_Min         object\n",
       "Arrival_date         object\n",
       "Arrival_Time_Hour    object\n",
       "Arrival_Time_Min     object\n",
       "Travel_hours         object\n",
       "Travel_mins          object\n",
       "dtype: object"
      ]
     },
     "execution_count": 101,
     "metadata": {},
     "output_type": "execute_result"
    }
   ],
   "source": [
    "df_train.dtypes"
   ]
  },
  {
   "cell_type": "code",
   "execution_count": 102,
   "id": "bbb31eda",
   "metadata": {},
   "outputs": [],
   "source": [
    "# changing data of numerical type columns from object to int\n"
   ]
  },
  {
   "cell_type": "code",
   "execution_count": 103,
   "id": "369fb1ca",
   "metadata": {},
   "outputs": [],
   "source": [
    "df_train.Total_Stops=df_train.Total_Stops.astype('int64')\n",
    "df_train.Date=df_train.Date.astype('int64')\n",
    "df_train.Month=df_train.Month.astype('int64')\n",
    "df_train.Year=df_train.Year.astype('int64')\n",
    "df_train.Dep_Time_Hour=df_train.Dep_Time_Hour.astype('int64')\n",
    "df_train.Dep_Time_Min=df_train.Dep_Time_Min.astype('int64')\n",
    "df_train.Arrival_date=df_train.Arrival_date.astype('int64')\n",
    "df_train.Arrival_Time_Hour=df_train.Arrival_Time_Hour.astype('int64')\n",
    "df_train.Arrival_Time_Min=df_train.Arrival_Time_Min.astype('int64')\n",
    "#df_train.Travel_hours=df_train.Travel_hours.astype('int64') #problem with this column\n",
    "df_train.Travel_mins=df_train.Travel_mins.astype('int64')"
   ]
  },
  {
   "cell_type": "code",
   "execution_count": 104,
   "id": "902d5672",
   "metadata": {},
   "outputs": [
    {
     "data": {
      "text/html": [
       "<div>\n",
       "<style scoped>\n",
       "    .dataframe tbody tr th:only-of-type {\n",
       "        vertical-align: middle;\n",
       "    }\n",
       "\n",
       "    .dataframe tbody tr th {\n",
       "        vertical-align: top;\n",
       "    }\n",
       "\n",
       "    .dataframe thead th {\n",
       "        text-align: right;\n",
       "    }\n",
       "</style>\n",
       "<table border=\"1\" class=\"dataframe\">\n",
       "  <thead>\n",
       "    <tr style=\"text-align: right;\">\n",
       "      <th></th>\n",
       "      <th>Airline</th>\n",
       "      <th>Source</th>\n",
       "      <th>Destination</th>\n",
       "      <th>Total_Stops</th>\n",
       "      <th>Additional_Info</th>\n",
       "      <th>Price</th>\n",
       "      <th>Date</th>\n",
       "      <th>Month</th>\n",
       "      <th>Year</th>\n",
       "      <th>City1</th>\n",
       "      <th>City2</th>\n",
       "      <th>City3</th>\n",
       "      <th>Dep_Time_Hour</th>\n",
       "      <th>Dep_Time_Min</th>\n",
       "      <th>Arrival_date</th>\n",
       "      <th>Arrival_Time_Hour</th>\n",
       "      <th>Arrival_Time_Min</th>\n",
       "      <th>Travel_hours</th>\n",
       "      <th>Travel_mins</th>\n",
       "    </tr>\n",
       "  </thead>\n",
       "  <tbody>\n",
       "    <tr>\n",
       "      <th>6474</th>\n",
       "      <td>Air India</td>\n",
       "      <td>Mumbai</td>\n",
       "      <td>Hyderabad</td>\n",
       "      <td>2</td>\n",
       "      <td>No info</td>\n",
       "      <td>17327</td>\n",
       "      <td>6</td>\n",
       "      <td>3</td>\n",
       "      <td>2019</td>\n",
       "      <td>BOM</td>\n",
       "      <td>GOI</td>\n",
       "      <td>PNQ</td>\n",
       "      <td>16</td>\n",
       "      <td>50</td>\n",
       "      <td>6</td>\n",
       "      <td>16</td>\n",
       "      <td>55</td>\n",
       "      <td>5m</td>\n",
       "      <td>0</td>\n",
       "    </tr>\n",
       "  </tbody>\n",
       "</table>\n",
       "</div>"
      ],
      "text/plain": [
       "        Airline  Source Destination  Total_Stops Additional_Info  Price  Date  \\\n",
       "6474  Air India  Mumbai   Hyderabad            2         No info  17327     6   \n",
       "\n",
       "      Month  Year City1  City2  City3  Dep_Time_Hour  Dep_Time_Min  \\\n",
       "6474      3  2019  BOM    GOI    PNQ              16            50   \n",
       "\n",
       "      Arrival_date  Arrival_Time_Hour  Arrival_Time_Min Travel_hours  \\\n",
       "6474             6                 16                55           5m   \n",
       "\n",
       "      Travel_mins  \n",
       "6474            0  "
      ]
     },
     "execution_count": 104,
     "metadata": {},
     "output_type": "execute_result"
    }
   ],
   "source": [
    "df_train[df_train['Travel_hours']=='5m'] #its a wrong data entered as it cant be 5m"
   ]
  },
  {
   "cell_type": "code",
   "execution_count": 105,
   "id": "d071ee38",
   "metadata": {},
   "outputs": [],
   "source": [
    "df_train.drop(index=6474,inplace=True,axis=0) # we are dropping this row"
   ]
  },
  {
   "cell_type": "code",
   "execution_count": 106,
   "id": "95f47642",
   "metadata": {},
   "outputs": [],
   "source": [
    "df_train.Travel_hours=df_train.Travel_hours.astype('int64')"
   ]
  },
  {
   "cell_type": "code",
   "execution_count": 107,
   "id": "5e4fdd79",
   "metadata": {},
   "outputs": [
    {
     "data": {
      "text/plain": [
       "Airline              object\n",
       "Source               object\n",
       "Destination          object\n",
       "Total_Stops           int64\n",
       "Additional_Info      object\n",
       "Price                 int64\n",
       "Date                  int64\n",
       "Month                 int64\n",
       "Year                  int64\n",
       "City1                object\n",
       "City2                object\n",
       "City3                object\n",
       "Dep_Time_Hour         int64\n",
       "Dep_Time_Min          int64\n",
       "Arrival_date          int64\n",
       "Arrival_Time_Hour     int64\n",
       "Arrival_Time_Min      int64\n",
       "Travel_hours          int64\n",
       "Travel_mins           int64\n",
       "dtype: object"
      ]
     },
     "execution_count": 107,
     "metadata": {},
     "output_type": "execute_result"
    }
   ],
   "source": [
    "df_train.dtypes"
   ]
  },
  {
   "cell_type": "code",
   "execution_count": 108,
   "id": "edd99c83",
   "metadata": {},
   "outputs": [],
   "source": [
    "categorical=['Airline','Source','Destination','Additional_Info','City1','City2','City3']\n",
    "numerical=['Total_Stops','Date','Month','Year','Dep_Time_Hour','Dep_Time_Min','Arrival_date','Arrival_Time_Hour','Arrival_Time_Min','Travel_hours','Travel_mins']"
   ]
  },
  {
   "cell_type": "code",
   "execution_count": 109,
   "id": "6d19ce13",
   "metadata": {},
   "outputs": [],
   "source": [
    "#count plots for categorical data\n"
   ]
  },
  {
   "cell_type": "code",
   "execution_count": 110,
   "id": "c8dd6bdb",
   "metadata": {},
   "outputs": [
    {
     "data": {
      "image/png": "[encoded data removed]",
      "text/plain": [
       "<Figure size 1440x3096 with 7 Axes>"
      ]
     },
     "metadata": {
      "needs_background": "light"
     },
     "output_type": "display_data"
    }
   ],
   "source": [
    "c=1\n",
    "plt.figure(figsize=(20,43))\n",
    "\n",
    "for i in categorical:\n",
    "    plt.subplot(6,3,c)\n",
    "    sns.countplot(df_train[i])\n",
    "    plt.xticks(rotation=90)\n",
    "    plt.tight_layout(pad=3.0)\n",
    "    c=c+1\n",
    "    \n",
    "plt.show()"
   ]
  },
  {
   "cell_type": "code",
   "execution_count": 111,
   "id": "d84b3ed9",
   "metadata": {},
   "outputs": [],
   "source": [
    "# we see source and city1 are same "
   ]
  },
  {
   "cell_type": "code",
   "execution_count": 112,
   "id": "08477679",
   "metadata": {},
   "outputs": [],
   "source": [
    "#distibution plot"
   ]
  },
  {
   "cell_type": "code",
   "execution_count": 113,
   "id": "fe5d37d4",
   "metadata": {},
   "outputs": [
    {
     "data": {
      "text/plain": [
       "array([[<AxesSubplot:ylabel='Density'>, <AxesSubplot:ylabel='Density'>,\n",
       "        <AxesSubplot:ylabel='Density'>, <AxesSubplot:ylabel='Density'>],\n",
       "       [<AxesSubplot:ylabel='Density'>, <AxesSubplot:ylabel='Density'>,\n",
       "        <AxesSubplot:ylabel='Density'>, <AxesSubplot:ylabel='Density'>],\n",
       "       [<AxesSubplot:ylabel='Density'>, <AxesSubplot:ylabel='Density'>,\n",
       "        <AxesSubplot:ylabel='Density'>, <AxesSubplot:ylabel='Density'>]],\n",
       "      dtype=object)"
      ]
     },
     "execution_count": 113,
     "metadata": {},
     "output_type": "execute_result"
    },
    {
     "data": {
      "image/png": "[encoded data removed]",
      "text/plain": [
       "<Figure size 720x864 with 12 Axes>"
      ]
     },
     "metadata": {
      "needs_background": "light"
     },
     "output_type": "display_data"
    }
   ],
   "source": [
    "df_train.plot(kind='kde',subplots=True,layout=(3,4),figsize=(10,12))"
   ]
  },
  {
   "cell_type": "code",
   "execution_count": 114,
   "id": "fd64a6c7",
   "metadata": {},
   "outputs": [],
   "source": [
    "#year column can be dropped "
   ]
  },
  {
   "cell_type": "code",
   "execution_count": 115,
   "id": "1f421e28",
   "metadata": {},
   "outputs": [
    {
     "data": {
      "text/plain": [
       "<AxesSubplot:xlabel='Price', ylabel='Density'>"
      ]
     },
     "execution_count": 115,
     "metadata": {},
     "output_type": "execute_result"
    },
    {
     "data": {
      "image/png": "[encoded data removed]",
      "text/plain": [
       "<Figure size 432x288 with 1 Axes>"
      ]
     },
     "metadata": {
      "needs_background": "light"
     },
     "output_type": "display_data"
    }
   ],
   "source": [
    "sns.distplot(df_train['Price'])"
   ]
  },
  {
   "cell_type": "code",
   "execution_count": 116,
   "id": "11d7d9e1",
   "metadata": {},
   "outputs": [],
   "source": [
    "#price ranges are skewed"
   ]
  },
  {
   "cell_type": "code",
   "execution_count": 117,
   "id": "19f1a4d2",
   "metadata": {},
   "outputs": [],
   "source": [
    "#bivariant analysis"
   ]
  },
  {
   "cell_type": "code",
   "execution_count": 118,
   "id": "3b0d7dc0",
   "metadata": {},
   "outputs": [
    {
     "data": {
      "image/png": "[encoded data removed]",
      "text/plain": [
       "<Figure size 1440x3096 with 11 Axes>"
      ]
     },
     "metadata": {
      "needs_background": "light"
     },
     "output_type": "display_data"
    }
   ],
   "source": [
    "c=1\n",
    "plt.figure(figsize=(20,43))\n",
    "\n",
    "for i in numerical:\n",
    "    plt.subplot(6,3,c)\n",
    "    sns.scatterplot(x=df_train[i],y=df_train.Price)\n",
    "    plt.xticks(rotation=90)\n",
    "    plt.tight_layout(pad=3.0)\n",
    "    c=c+1\n",
    "    \n",
    "plt.show()"
   ]
  },
  {
   "cell_type": "code",
   "execution_count": 119,
   "id": "b1934272",
   "metadata": {},
   "outputs": [],
   "source": [
    "#- High price flights are lesser during end of month\n",
    "# Prices are higher in the month of March\n",
    "# With increase in travel hours, price increases, but the number of flights decrease."
   ]
  },
  {
   "cell_type": "markdown",
   "id": "562e82a4",
   "metadata": {},
   "source": [
    "Checking Outliers"
   ]
  },
  {
   "cell_type": "code",
   "execution_count": 120,
   "id": "a21749b8",
   "metadata": {},
   "outputs": [
    {
     "data": {
      "text/plain": [
       "Total_Stops             AxesSubplot(0.125,0.657941;0.168478x0.222059)\n",
       "Price                AxesSubplot(0.327174,0.657941;0.168478x0.222059)\n",
       "Date                 AxesSubplot(0.529348,0.657941;0.168478x0.222059)\n",
       "Month                AxesSubplot(0.731522,0.657941;0.168478x0.222059)\n",
       "Year                    AxesSubplot(0.125,0.391471;0.168478x0.222059)\n",
       "Dep_Time_Hour        AxesSubplot(0.327174,0.391471;0.168478x0.222059)\n",
       "Dep_Time_Min         AxesSubplot(0.529348,0.391471;0.168478x0.222059)\n",
       "Arrival_date         AxesSubplot(0.731522,0.391471;0.168478x0.222059)\n",
       "Arrival_Time_Hour          AxesSubplot(0.125,0.125;0.168478x0.222059)\n",
       "Arrival_Time_Min        AxesSubplot(0.327174,0.125;0.168478x0.222059)\n",
       "Travel_hours            AxesSubplot(0.529348,0.125;0.168478x0.222059)\n",
       "Travel_mins             AxesSubplot(0.731522,0.125;0.168478x0.222059)\n",
       "dtype: object"
      ]
     },
     "execution_count": 120,
     "metadata": {},
     "output_type": "execute_result"
    },
    {
     "data": {
      "image/png": "[encoded data removed]",
      "text/plain": [
       "<Figure size 720x864 with 12 Axes>"
      ]
     },
     "metadata": {
      "needs_background": "light"
     },
     "output_type": "display_data"
    }
   ],
   "source": [
    "df_train.plot(kind='box',subplots=True,layout=(3,4),figsize=(10,12))"
   ]
  },
  {
   "cell_type": "code",
   "execution_count": 121,
   "id": "36181548",
   "metadata": {},
   "outputs": [],
   "source": [
    "#Outliers are present in Total hours, Total stops and price\n",
    "# We will not remove outliers from total stops since price is impacted by number of stops\n",
    "# We will not remove the data with high number of hours, increase in number of hours "
   ]
  },
  {
   "cell_type": "code",
   "execution_count": 122,
   "id": "17df64c4",
   "metadata": {},
   "outputs": [],
   "source": [
    "df_train=df_train.drop(['Year','City1','Dep_Time_Min','Arrival_Time_Min','Travel_mins'],axis=1)"
   ]
  },
  {
   "cell_type": "code",
   "execution_count": 123,
   "id": "42e815ab",
   "metadata": {},
   "outputs": [],
   "source": [
    "#skewness"
   ]
  },
  {
   "cell_type": "code",
   "execution_count": 124,
   "id": "f44c9bc4",
   "metadata": {},
   "outputs": [
    {
     "data": {
      "text/plain": [
       "Total_Stops          0.317345\n",
       "Price                1.813248\n",
       "Date                 0.118174\n",
       "Month               -0.387708\n",
       "Dep_Time_Hour        0.113224\n",
       "Arrival_date         0.119667\n",
       "Arrival_Time_Hour   -0.369876\n",
       "Travel_hours         0.850822\n",
       "dtype: float64"
      ]
     },
     "execution_count": 124,
     "metadata": {},
     "output_type": "execute_result"
    }
   ],
   "source": [
    "df_train.skew()"
   ]
  },
  {
   "cell_type": "code",
   "execution_count": 125,
   "id": "75e843c0",
   "metadata": {},
   "outputs": [],
   "source": [
    "#remove skewness from travel hour column setting threshold to +/-0.5"
   ]
  },
  {
   "cell_type": "code",
   "execution_count": 126,
   "id": "67e281b5",
   "metadata": {},
   "outputs": [
    {
     "data": {
      "text/plain": [
       "-0.26612233332369917"
      ]
     },
     "execution_count": 126,
     "metadata": {},
     "output_type": "execute_result"
    }
   ],
   "source": [
    "df_train.Travel_hours=np.log(df_train.Travel_hours)\n",
    "df_train.Travel_hours.skew()"
   ]
  },
  {
   "cell_type": "code",
   "execution_count": 127,
   "id": "3bdc28fd",
   "metadata": {},
   "outputs": [],
   "source": [
    "# we have removed skewnes"
   ]
  },
  {
   "cell_type": "markdown",
   "id": "9eb97a4f",
   "metadata": {},
   "source": [
    "Label encoding"
   ]
  },
  {
   "cell_type": "code",
   "execution_count": 128,
   "id": "4b602bd4",
   "metadata": {},
   "outputs": [
    {
     "name": "stdout",
     "output_type": "stream",
     "text": [
      "Airline\n",
      "Source\n",
      "Destination\n",
      "Additional_Info\n",
      "City2\n",
      "City3\n"
     ]
    }
   ],
   "source": [
    "from sklearn.preprocessing import LabelEncoder\n",
    "le=LabelEncoder()\n",
    "\n",
    "for i in df_train.columns:\n",
    "    if df_train[i].dtypes == 'object':\n",
    "        print(i)\n",
    "        df_train[i]=le.fit_transform(df_train[i])"
   ]
  },
  {
   "cell_type": "code",
   "execution_count": 129,
   "id": "649b636f",
   "metadata": {
    "scrolled": true
   },
   "outputs": [
    {
     "data": {
      "text/html": [
       "<div>\n",
       "<style scoped>\n",
       "    .dataframe tbody tr th:only-of-type {\n",
       "        vertical-align: middle;\n",
       "    }\n",
       "\n",
       "    .dataframe tbody tr th {\n",
       "        vertical-align: top;\n",
       "    }\n",
       "\n",
       "    .dataframe thead th {\n",
       "        text-align: right;\n",
       "    }\n",
       "</style>\n",
       "<table border=\"1\" class=\"dataframe\">\n",
       "  <thead>\n",
       "    <tr style=\"text-align: right;\">\n",
       "      <th></th>\n",
       "      <th>Airline</th>\n",
       "      <th>Source</th>\n",
       "      <th>Destination</th>\n",
       "      <th>Total_Stops</th>\n",
       "      <th>Additional_Info</th>\n",
       "      <th>Price</th>\n",
       "      <th>Date</th>\n",
       "      <th>Month</th>\n",
       "      <th>City2</th>\n",
       "      <th>City3</th>\n",
       "      <th>Dep_Time_Hour</th>\n",
       "      <th>Arrival_date</th>\n",
       "      <th>Arrival_Time_Hour</th>\n",
       "      <th>Travel_hours</th>\n",
       "    </tr>\n",
       "  </thead>\n",
       "  <tbody>\n",
       "    <tr>\n",
       "      <th>0</th>\n",
       "      <td>3</td>\n",
       "      <td>0</td>\n",
       "      <td>5</td>\n",
       "      <td>0</td>\n",
       "      <td>7</td>\n",
       "      <td>3897</td>\n",
       "      <td>24</td>\n",
       "      <td>3</td>\n",
       "      <td>13</td>\n",
       "      <td>29</td>\n",
       "      <td>22</td>\n",
       "      <td>22</td>\n",
       "      <td>1</td>\n",
       "      <td>0.693147</td>\n",
       "    </tr>\n",
       "    <tr>\n",
       "      <th>1</th>\n",
       "      <td>1</td>\n",
       "      <td>3</td>\n",
       "      <td>0</td>\n",
       "      <td>2</td>\n",
       "      <td>7</td>\n",
       "      <td>7662</td>\n",
       "      <td>1</td>\n",
       "      <td>5</td>\n",
       "      <td>25</td>\n",
       "      <td>1</td>\n",
       "      <td>5</td>\n",
       "      <td>1</td>\n",
       "      <td>13</td>\n",
       "      <td>1.945910</td>\n",
       "    </tr>\n",
       "    <tr>\n",
       "      <th>2</th>\n",
       "      <td>4</td>\n",
       "      <td>2</td>\n",
       "      <td>1</td>\n",
       "      <td>2</td>\n",
       "      <td>7</td>\n",
       "      <td>13882</td>\n",
       "      <td>9</td>\n",
       "      <td>6</td>\n",
       "      <td>32</td>\n",
       "      <td>4</td>\n",
       "      <td>9</td>\n",
       "      <td>10</td>\n",
       "      <td>4</td>\n",
       "      <td>2.944439</td>\n",
       "    </tr>\n",
       "    <tr>\n",
       "      <th>3</th>\n",
       "      <td>3</td>\n",
       "      <td>3</td>\n",
       "      <td>0</td>\n",
       "      <td>1</td>\n",
       "      <td>7</td>\n",
       "      <td>6218</td>\n",
       "      <td>12</td>\n",
       "      <td>5</td>\n",
       "      <td>34</td>\n",
       "      <td>3</td>\n",
       "      <td>18</td>\n",
       "      <td>12</td>\n",
       "      <td>23</td>\n",
       "      <td>1.609438</td>\n",
       "    </tr>\n",
       "    <tr>\n",
       "      <th>4</th>\n",
       "      <td>3</td>\n",
       "      <td>0</td>\n",
       "      <td>5</td>\n",
       "      <td>1</td>\n",
       "      <td>7</td>\n",
       "      <td>13302</td>\n",
       "      <td>1</td>\n",
       "      <td>3</td>\n",
       "      <td>34</td>\n",
       "      <td>8</td>\n",
       "      <td>16</td>\n",
       "      <td>1</td>\n",
       "      <td>21</td>\n",
       "      <td>1.386294</td>\n",
       "    </tr>\n",
       "    <tr>\n",
       "      <th>...</th>\n",
       "      <td>...</td>\n",
       "      <td>...</td>\n",
       "      <td>...</td>\n",
       "      <td>...</td>\n",
       "      <td>...</td>\n",
       "      <td>...</td>\n",
       "      <td>...</td>\n",
       "      <td>...</td>\n",
       "      <td>...</td>\n",
       "      <td>...</td>\n",
       "      <td>...</td>\n",
       "      <td>...</td>\n",
       "      <td>...</td>\n",
       "      <td>...</td>\n",
       "    </tr>\n",
       "    <tr>\n",
       "      <th>10678</th>\n",
       "      <td>0</td>\n",
       "      <td>3</td>\n",
       "      <td>0</td>\n",
       "      <td>0</td>\n",
       "      <td>7</td>\n",
       "      <td>4107</td>\n",
       "      <td>9</td>\n",
       "      <td>4</td>\n",
       "      <td>5</td>\n",
       "      <td>29</td>\n",
       "      <td>19</td>\n",
       "      <td>9</td>\n",
       "      <td>22</td>\n",
       "      <td>0.693147</td>\n",
       "    </tr>\n",
       "    <tr>\n",
       "      <th>10679</th>\n",
       "      <td>1</td>\n",
       "      <td>3</td>\n",
       "      <td>0</td>\n",
       "      <td>0</td>\n",
       "      <td>7</td>\n",
       "      <td>4145</td>\n",
       "      <td>27</td>\n",
       "      <td>4</td>\n",
       "      <td>5</td>\n",
       "      <td>29</td>\n",
       "      <td>20</td>\n",
       "      <td>27</td>\n",
       "      <td>23</td>\n",
       "      <td>0.693147</td>\n",
       "    </tr>\n",
       "    <tr>\n",
       "      <th>10680</th>\n",
       "      <td>4</td>\n",
       "      <td>0</td>\n",
       "      <td>2</td>\n",
       "      <td>0</td>\n",
       "      <td>7</td>\n",
       "      <td>7229</td>\n",
       "      <td>27</td>\n",
       "      <td>4</td>\n",
       "      <td>13</td>\n",
       "      <td>29</td>\n",
       "      <td>8</td>\n",
       "      <td>27</td>\n",
       "      <td>11</td>\n",
       "      <td>1.098612</td>\n",
       "    </tr>\n",
       "    <tr>\n",
       "      <th>10681</th>\n",
       "      <td>10</td>\n",
       "      <td>0</td>\n",
       "      <td>5</td>\n",
       "      <td>0</td>\n",
       "      <td>7</td>\n",
       "      <td>12648</td>\n",
       "      <td>1</td>\n",
       "      <td>3</td>\n",
       "      <td>13</td>\n",
       "      <td>29</td>\n",
       "      <td>11</td>\n",
       "      <td>1</td>\n",
       "      <td>14</td>\n",
       "      <td>0.693147</td>\n",
       "    </tr>\n",
       "    <tr>\n",
       "      <th>10682</th>\n",
       "      <td>1</td>\n",
       "      <td>2</td>\n",
       "      <td>1</td>\n",
       "      <td>2</td>\n",
       "      <td>7</td>\n",
       "      <td>11753</td>\n",
       "      <td>9</td>\n",
       "      <td>5</td>\n",
       "      <td>16</td>\n",
       "      <td>4</td>\n",
       "      <td>10</td>\n",
       "      <td>9</td>\n",
       "      <td>19</td>\n",
       "      <td>2.079442</td>\n",
       "    </tr>\n",
       "  </tbody>\n",
       "</table>\n",
       "<p>10682 rows × 14 columns</p>\n",
       "</div>"
      ],
      "text/plain": [
       "       Airline  Source  Destination  Total_Stops  Additional_Info  Price  \\\n",
       "0            3       0            5            0                7   3897   \n",
       "1            1       3            0            2                7   7662   \n",
       "2            4       2            1            2                7  13882   \n",
       "3            3       3            0            1                7   6218   \n",
       "4            3       0            5            1                7  13302   \n",
       "...        ...     ...          ...          ...              ...    ...   \n",
       "10678        0       3            0            0                7   4107   \n",
       "10679        1       3            0            0                7   4145   \n",
       "10680        4       0            2            0                7   7229   \n",
       "10681       10       0            5            0                7  12648   \n",
       "10682        1       2            1            2                7  11753   \n",
       "\n",
       "       Date  Month  City2  City3  Dep_Time_Hour  Arrival_date  \\\n",
       "0        24      3     13     29             22            22   \n",
       "1         1      5     25      1              5             1   \n",
       "2         9      6     32      4              9            10   \n",
       "3        12      5     34      3             18            12   \n",
       "4         1      3     34      8             16             1   \n",
       "...     ...    ...    ...    ...            ...           ...   \n",
       "10678     9      4      5     29             19             9   \n",
       "10679    27      4      5     29             20            27   \n",
       "10680    27      4     13     29              8            27   \n",
       "10681     1      3     13     29             11             1   \n",
       "10682     9      5     16      4             10             9   \n",
       "\n",
       "       Arrival_Time_Hour  Travel_hours  \n",
       "0                      1      0.693147  \n",
       "1                     13      1.945910  \n",
       "2                      4      2.944439  \n",
       "3                     23      1.609438  \n",
       "4                     21      1.386294  \n",
       "...                  ...           ...  \n",
       "10678                 22      0.693147  \n",
       "10679                 23      0.693147  \n",
       "10680                 11      1.098612  \n",
       "10681                 14      0.693147  \n",
       "10682                 19      2.079442  \n",
       "\n",
       "[10682 rows x 14 columns]"
      ]
     },
     "execution_count": 129,
     "metadata": {},
     "output_type": "execute_result"
    }
   ],
   "source": [
    "df_train   #transformed data"
   ]
  },
  {
   "cell_type": "code",
   "execution_count": 130,
   "id": "d4f8a8c2",
   "metadata": {
    "scrolled": true
   },
   "outputs": [
    {
     "data": {
      "text/html": [
       "<div>\n",
       "<style scoped>\n",
       "    .dataframe tbody tr th:only-of-type {\n",
       "        vertical-align: middle;\n",
       "    }\n",
       "\n",
       "    .dataframe tbody tr th {\n",
       "        vertical-align: top;\n",
       "    }\n",
       "\n",
       "    .dataframe thead th {\n",
       "        text-align: right;\n",
       "    }\n",
       "</style>\n",
       "<table border=\"1\" class=\"dataframe\">\n",
       "  <thead>\n",
       "    <tr style=\"text-align: right;\">\n",
       "      <th></th>\n",
       "      <th>Airline</th>\n",
       "      <th>Source</th>\n",
       "      <th>Destination</th>\n",
       "      <th>Total_Stops</th>\n",
       "      <th>Additional_Info</th>\n",
       "      <th>Price</th>\n",
       "      <th>Date</th>\n",
       "      <th>Month</th>\n",
       "      <th>City2</th>\n",
       "      <th>City3</th>\n",
       "      <th>Dep_Time_Hour</th>\n",
       "      <th>Arrival_date</th>\n",
       "      <th>Arrival_Time_Hour</th>\n",
       "      <th>Travel_hours</th>\n",
       "    </tr>\n",
       "  </thead>\n",
       "  <tbody>\n",
       "    <tr>\n",
       "      <th>Airline</th>\n",
       "      <td>1.000000</td>\n",
       "      <td>-0.013198</td>\n",
       "      <td>0.018607</td>\n",
       "      <td>-0.199061</td>\n",
       "      <td>-0.077741</td>\n",
       "      <td>-0.039318</td>\n",
       "      <td>0.026137</td>\n",
       "      <td>0.024474</td>\n",
       "      <td>-0.061792</td>\n",
       "      <td>0.060289</td>\n",
       "      <td>-0.035125</td>\n",
       "      <td>0.018772</td>\n",
       "      <td>-0.007446</td>\n",
       "      <td>-0.123580</td>\n",
       "    </tr>\n",
       "    <tr>\n",
       "      <th>Source</th>\n",
       "      <td>-0.013198</td>\n",
       "      <td>1.000000</td>\n",
       "      <td>-0.592862</td>\n",
       "      <td>0.192593</td>\n",
       "      <td>-0.015940</td>\n",
       "      <td>0.015711</td>\n",
       "      <td>0.005043</td>\n",
       "      <td>0.183551</td>\n",
       "      <td>0.035756</td>\n",
       "      <td>-0.271377</td>\n",
       "      <td>0.058954</td>\n",
       "      <td>0.014608</td>\n",
       "      <td>0.025573</td>\n",
       "      <td>0.123579</td>\n",
       "    </tr>\n",
       "    <tr>\n",
       "      <th>Destination</th>\n",
       "      <td>0.018607</td>\n",
       "      <td>-0.592862</td>\n",
       "      <td>1.000000</td>\n",
       "      <td>-0.295651</td>\n",
       "      <td>0.013040</td>\n",
       "      <td>-0.071304</td>\n",
       "      <td>-0.040914</td>\n",
       "      <td>-0.364596</td>\n",
       "      <td>0.077664</td>\n",
       "      <td>0.410010</td>\n",
       "      <td>-0.073045</td>\n",
       "      <td>-0.055461</td>\n",
       "      <td>-0.039751</td>\n",
       "      <td>-0.342835</td>\n",
       "    </tr>\n",
       "    <tr>\n",
       "      <th>Total_Stops</th>\n",
       "      <td>-0.199061</td>\n",
       "      <td>0.192593</td>\n",
       "      <td>-0.295651</td>\n",
       "      <td>1.000000</td>\n",
       "      <td>-0.067943</td>\n",
       "      <td>0.603776</td>\n",
       "      <td>-0.009206</td>\n",
       "      <td>0.054603</td>\n",
       "      <td>0.161587</td>\n",
       "      <td>-0.800594</td>\n",
       "      <td>-0.061511</td>\n",
       "      <td>0.018008</td>\n",
       "      <td>0.038151</td>\n",
       "      <td>0.833236</td>\n",
       "    </tr>\n",
       "    <tr>\n",
       "      <th>Additional_Info</th>\n",
       "      <td>-0.077741</td>\n",
       "      <td>-0.015940</td>\n",
       "      <td>0.013040</td>\n",
       "      <td>-0.067943</td>\n",
       "      <td>1.000000</td>\n",
       "      <td>-0.063862</td>\n",
       "      <td>-0.012798</td>\n",
       "      <td>-0.045391</td>\n",
       "      <td>0.077008</td>\n",
       "      <td>0.148063</td>\n",
       "      <td>-0.048133</td>\n",
       "      <td>-0.020233</td>\n",
       "      <td>0.031119</td>\n",
       "      <td>-0.162619</td>\n",
       "    </tr>\n",
       "    <tr>\n",
       "      <th>Price</th>\n",
       "      <td>-0.039318</td>\n",
       "      <td>0.015711</td>\n",
       "      <td>-0.071304</td>\n",
       "      <td>0.603776</td>\n",
       "      <td>-0.063862</td>\n",
       "      <td>1.000000</td>\n",
       "      <td>-0.153619</td>\n",
       "      <td>-0.103431</td>\n",
       "      <td>-0.087404</td>\n",
       "      <td>-0.591567</td>\n",
       "      <td>0.006718</td>\n",
       "      <td>-0.134527</td>\n",
       "      <td>0.024203</td>\n",
       "      <td>0.614039</td>\n",
       "    </tr>\n",
       "    <tr>\n",
       "      <th>Date</th>\n",
       "      <td>0.026137</td>\n",
       "      <td>0.005043</td>\n",
       "      <td>-0.040914</td>\n",
       "      <td>-0.009206</td>\n",
       "      <td>-0.012798</td>\n",
       "      <td>-0.153619</td>\n",
       "      <td>1.000000</td>\n",
       "      <td>-0.038505</td>\n",
       "      <td>-0.025021</td>\n",
       "      <td>0.022748</td>\n",
       "      <td>0.002271</td>\n",
       "      <td>0.997449</td>\n",
       "      <td>-0.003160</td>\n",
       "      <td>-0.023833</td>\n",
       "    </tr>\n",
       "    <tr>\n",
       "      <th>Month</th>\n",
       "      <td>0.024474</td>\n",
       "      <td>0.183551</td>\n",
       "      <td>-0.364596</td>\n",
       "      <td>0.054603</td>\n",
       "      <td>-0.045391</td>\n",
       "      <td>-0.103431</td>\n",
       "      <td>-0.038505</td>\n",
       "      <td>1.000000</td>\n",
       "      <td>0.048542</td>\n",
       "      <td>-0.083010</td>\n",
       "      <td>0.039201</td>\n",
       "      <td>-0.034689</td>\n",
       "      <td>-0.003889</td>\n",
       "      <td>0.036121</td>\n",
       "    </tr>\n",
       "    <tr>\n",
       "      <th>City2</th>\n",
       "      <td>-0.061792</td>\n",
       "      <td>0.035756</td>\n",
       "      <td>0.077664</td>\n",
       "      <td>0.161587</td>\n",
       "      <td>0.077008</td>\n",
       "      <td>-0.087404</td>\n",
       "      <td>-0.025021</td>\n",
       "      <td>0.048542</td>\n",
       "      <td>1.000000</td>\n",
       "      <td>-0.002803</td>\n",
       "      <td>-0.126378</td>\n",
       "      <td>-0.025472</td>\n",
       "      <td>-0.012478</td>\n",
       "      <td>-0.022022</td>\n",
       "    </tr>\n",
       "    <tr>\n",
       "      <th>City3</th>\n",
       "      <td>0.060289</td>\n",
       "      <td>-0.271377</td>\n",
       "      <td>0.410010</td>\n",
       "      <td>-0.800594</td>\n",
       "      <td>0.148063</td>\n",
       "      <td>-0.591567</td>\n",
       "      <td>0.022748</td>\n",
       "      <td>-0.083010</td>\n",
       "      <td>-0.002803</td>\n",
       "      <td>1.000000</td>\n",
       "      <td>0.014851</td>\n",
       "      <td>-0.000736</td>\n",
       "      <td>-0.081905</td>\n",
       "      <td>-0.845992</td>\n",
       "    </tr>\n",
       "    <tr>\n",
       "      <th>Dep_Time_Hour</th>\n",
       "      <td>-0.035125</td>\n",
       "      <td>0.058954</td>\n",
       "      <td>-0.073045</td>\n",
       "      <td>-0.061511</td>\n",
       "      <td>-0.048133</td>\n",
       "      <td>0.006718</td>\n",
       "      <td>0.002271</td>\n",
       "      <td>0.039201</td>\n",
       "      <td>-0.126378</td>\n",
       "      <td>0.014851</td>\n",
       "      <td>1.000000</td>\n",
       "      <td>0.029013</td>\n",
       "      <td>0.005193</td>\n",
       "      <td>-0.013863</td>\n",
       "    </tr>\n",
       "    <tr>\n",
       "      <th>Arrival_date</th>\n",
       "      <td>0.018772</td>\n",
       "      <td>0.014608</td>\n",
       "      <td>-0.055461</td>\n",
       "      <td>0.018008</td>\n",
       "      <td>-0.020233</td>\n",
       "      <td>-0.134527</td>\n",
       "      <td>0.997449</td>\n",
       "      <td>-0.034689</td>\n",
       "      <td>-0.025472</td>\n",
       "      <td>-0.000736</td>\n",
       "      <td>0.029013</td>\n",
       "      <td>1.000000</td>\n",
       "      <td>-0.033803</td>\n",
       "      <td>0.010403</td>\n",
       "    </tr>\n",
       "    <tr>\n",
       "      <th>Arrival_Time_Hour</th>\n",
       "      <td>-0.007446</td>\n",
       "      <td>0.025573</td>\n",
       "      <td>-0.039751</td>\n",
       "      <td>0.038151</td>\n",
       "      <td>0.031119</td>\n",
       "      <td>0.024203</td>\n",
       "      <td>-0.003160</td>\n",
       "      <td>-0.003889</td>\n",
       "      <td>-0.012478</td>\n",
       "      <td>-0.081905</td>\n",
       "      <td>0.005193</td>\n",
       "      <td>-0.033803</td>\n",
       "      <td>1.000000</td>\n",
       "      <td>0.072625</td>\n",
       "    </tr>\n",
       "    <tr>\n",
       "      <th>Travel_hours</th>\n",
       "      <td>-0.123580</td>\n",
       "      <td>0.123579</td>\n",
       "      <td>-0.342835</td>\n",
       "      <td>0.833236</td>\n",
       "      <td>-0.162619</td>\n",
       "      <td>0.614039</td>\n",
       "      <td>-0.023833</td>\n",
       "      <td>0.036121</td>\n",
       "      <td>-0.022022</td>\n",
       "      <td>-0.845992</td>\n",
       "      <td>-0.013863</td>\n",
       "      <td>0.010403</td>\n",
       "      <td>0.072625</td>\n",
       "      <td>1.000000</td>\n",
       "    </tr>\n",
       "  </tbody>\n",
       "</table>\n",
       "</div>"
      ],
      "text/plain": [
       "                    Airline    Source  Destination  Total_Stops  \\\n",
       "Airline            1.000000 -0.013198     0.018607    -0.199061   \n",
       "Source            -0.013198  1.000000    -0.592862     0.192593   \n",
       "Destination        0.018607 -0.592862     1.000000    -0.295651   \n",
       "Total_Stops       -0.199061  0.192593    -0.295651     1.000000   \n",
       "Additional_Info   -0.077741 -0.015940     0.013040    -0.067943   \n",
       "Price             -0.039318  0.015711    -0.071304     0.603776   \n",
       "Date               0.026137  0.005043    -0.040914    -0.009206   \n",
       "Month              0.024474  0.183551    -0.364596     0.054603   \n",
       "City2             -0.061792  0.035756     0.077664     0.161587   \n",
       "City3              0.060289 -0.271377     0.410010    -0.800594   \n",
       "Dep_Time_Hour     -0.035125  0.058954    -0.073045    -0.061511   \n",
       "Arrival_date       0.018772  0.014608    -0.055461     0.018008   \n",
       "Arrival_Time_Hour -0.007446  0.025573    -0.039751     0.038151   \n",
       "Travel_hours      -0.123580  0.123579    -0.342835     0.833236   \n",
       "\n",
       "                   Additional_Info     Price      Date     Month     City2  \\\n",
       "Airline                  -0.077741 -0.039318  0.026137  0.024474 -0.061792   \n",
       "Source                   -0.015940  0.015711  0.005043  0.183551  0.035756   \n",
       "Destination               0.013040 -0.071304 -0.040914 -0.364596  0.077664   \n",
       "Total_Stops              -0.067943  0.603776 -0.009206  0.054603  0.161587   \n",
       "Additional_Info           1.000000 -0.063862 -0.012798 -0.045391  0.077008   \n",
       "Price                    -0.063862  1.000000 -0.153619 -0.103431 -0.087404   \n",
       "Date                     -0.012798 -0.153619  1.000000 -0.038505 -0.025021   \n",
       "Month                    -0.045391 -0.103431 -0.038505  1.000000  0.048542   \n",
       "City2                     0.077008 -0.087404 -0.025021  0.048542  1.000000   \n",
       "City3                     0.148063 -0.591567  0.022748 -0.083010 -0.002803   \n",
       "Dep_Time_Hour            -0.048133  0.006718  0.002271  0.039201 -0.126378   \n",
       "Arrival_date             -0.020233 -0.134527  0.997449 -0.034689 -0.025472   \n",
       "Arrival_Time_Hour         0.031119  0.024203 -0.003160 -0.003889 -0.012478   \n",
       "Travel_hours             -0.162619  0.614039 -0.023833  0.036121 -0.022022   \n",
       "\n",
       "                      City3  Dep_Time_Hour  Arrival_date  Arrival_Time_Hour  \\\n",
       "Airline            0.060289      -0.035125      0.018772          -0.007446   \n",
       "Source            -0.271377       0.058954      0.014608           0.025573   \n",
       "Destination        0.410010      -0.073045     -0.055461          -0.039751   \n",
       "Total_Stops       -0.800594      -0.061511      0.018008           0.038151   \n",
       "Additional_Info    0.148063      -0.048133     -0.020233           0.031119   \n",
       "Price             -0.591567       0.006718     -0.134527           0.024203   \n",
       "Date               0.022748       0.002271      0.997449          -0.003160   \n",
       "Month             -0.083010       0.039201     -0.034689          -0.003889   \n",
       "City2             -0.002803      -0.126378     -0.025472          -0.012478   \n",
       "City3              1.000000       0.014851     -0.000736          -0.081905   \n",
       "Dep_Time_Hour      0.014851       1.000000      0.029013           0.005193   \n",
       "Arrival_date      -0.000736       0.029013      1.000000          -0.033803   \n",
       "Arrival_Time_Hour -0.081905       0.005193     -0.033803           1.000000   \n",
       "Travel_hours      -0.845992      -0.013863      0.010403           0.072625   \n",
       "\n",
       "                   Travel_hours  \n",
       "Airline               -0.123580  \n",
       "Source                 0.123579  \n",
       "Destination           -0.342835  \n",
       "Total_Stops            0.833236  \n",
       "Additional_Info       -0.162619  \n",
       "Price                  0.614039  \n",
       "Date                  -0.023833  \n",
       "Month                  0.036121  \n",
       "City2                 -0.022022  \n",
       "City3                 -0.845992  \n",
       "Dep_Time_Hour         -0.013863  \n",
       "Arrival_date           0.010403  \n",
       "Arrival_Time_Hour      0.072625  \n",
       "Travel_hours           1.000000  "
      ]
     },
     "execution_count": 130,
     "metadata": {},
     "output_type": "execute_result"
    }
   ],
   "source": [
    "df_train.corr()"
   ]
  },
  {
   "cell_type": "code",
   "execution_count": 131,
   "id": "10a46f4c",
   "metadata": {
    "scrolled": true
   },
   "outputs": [
    {
     "data": {
      "text/html": [
       "<div>\n",
       "<style scoped>\n",
       "    .dataframe tbody tr th:only-of-type {\n",
       "        vertical-align: middle;\n",
       "    }\n",
       "\n",
       "    .dataframe tbody tr th {\n",
       "        vertical-align: top;\n",
       "    }\n",
       "\n",
       "    .dataframe thead th {\n",
       "        text-align: right;\n",
       "    }\n",
       "</style>\n",
       "<table border=\"1\" class=\"dataframe\">\n",
       "  <thead>\n",
       "    <tr style=\"text-align: right;\">\n",
       "      <th></th>\n",
       "      <th>Airline</th>\n",
       "      <th>Source</th>\n",
       "      <th>Destination</th>\n",
       "      <th>Total_Stops</th>\n",
       "      <th>Additional_Info</th>\n",
       "      <th>Price</th>\n",
       "      <th>Date</th>\n",
       "      <th>Month</th>\n",
       "      <th>City2</th>\n",
       "      <th>City3</th>\n",
       "      <th>Dep_Time_Hour</th>\n",
       "      <th>Arrival_date</th>\n",
       "      <th>Arrival_Time_Hour</th>\n",
       "      <th>Travel_hours</th>\n",
       "    </tr>\n",
       "  </thead>\n",
       "  <tbody>\n",
       "    <tr>\n",
       "      <th>count</th>\n",
       "      <td>10682.000000</td>\n",
       "      <td>10682.000000</td>\n",
       "      <td>10682.000000</td>\n",
       "      <td>10682.000000</td>\n",
       "      <td>10682.000000</td>\n",
       "      <td>10682.000000</td>\n",
       "      <td>10682.000000</td>\n",
       "      <td>10682.000000</td>\n",
       "      <td>10682.000000</td>\n",
       "      <td>10682.000000</td>\n",
       "      <td>10682.000000</td>\n",
       "      <td>10682.000000</td>\n",
       "      <td>10682.000000</td>\n",
       "      <td>10682.000000</td>\n",
       "    </tr>\n",
       "    <tr>\n",
       "      <th>mean</th>\n",
       "      <td>3.966205</td>\n",
       "      <td>1.952069</td>\n",
       "      <td>1.435967</td>\n",
       "      <td>0.824003</td>\n",
       "      <td>6.582101</td>\n",
       "      <td>9086.292735</td>\n",
       "      <td>13.509081</td>\n",
       "      <td>4.708762</td>\n",
       "      <td>11.900674</td>\n",
       "      <td>13.232634</td>\n",
       "      <td>12.490358</td>\n",
       "      <td>13.908257</td>\n",
       "      <td>13.348530</td>\n",
       "      <td>1.893002</td>\n",
       "    </tr>\n",
       "    <tr>\n",
       "      <th>std</th>\n",
       "      <td>2.352090</td>\n",
       "      <td>1.177110</td>\n",
       "      <td>1.474773</td>\n",
       "      <td>0.675180</td>\n",
       "      <td>0.838102</td>\n",
       "      <td>4610.885695</td>\n",
       "      <td>8.479363</td>\n",
       "      <td>1.164294</td>\n",
       "      <td>8.012732</td>\n",
       "      <td>11.303181</td>\n",
       "      <td>5.748819</td>\n",
       "      <td>8.466780</td>\n",
       "      <td>6.859398</td>\n",
       "      <td>1.014035</td>\n",
       "    </tr>\n",
       "    <tr>\n",
       "      <th>min</th>\n",
       "      <td>0.000000</td>\n",
       "      <td>0.000000</td>\n",
       "      <td>0.000000</td>\n",
       "      <td>0.000000</td>\n",
       "      <td>0.000000</td>\n",
       "      <td>1759.000000</td>\n",
       "      <td>1.000000</td>\n",
       "      <td>3.000000</td>\n",
       "      <td>0.000000</td>\n",
       "      <td>0.000000</td>\n",
       "      <td>0.000000</td>\n",
       "      <td>1.000000</td>\n",
       "      <td>0.000000</td>\n",
       "      <td>0.000000</td>\n",
       "    </tr>\n",
       "    <tr>\n",
       "      <th>25%</th>\n",
       "      <td>3.000000</td>\n",
       "      <td>2.000000</td>\n",
       "      <td>0.000000</td>\n",
       "      <td>0.000000</td>\n",
       "      <td>7.000000</td>\n",
       "      <td>5277.000000</td>\n",
       "      <td>6.000000</td>\n",
       "      <td>3.000000</td>\n",
       "      <td>7.000000</td>\n",
       "      <td>4.000000</td>\n",
       "      <td>8.000000</td>\n",
       "      <td>7.000000</td>\n",
       "      <td>8.000000</td>\n",
       "      <td>0.693147</td>\n",
       "    </tr>\n",
       "    <tr>\n",
       "      <th>50%</th>\n",
       "      <td>4.000000</td>\n",
       "      <td>2.000000</td>\n",
       "      <td>1.000000</td>\n",
       "      <td>1.000000</td>\n",
       "      <td>7.000000</td>\n",
       "      <td>8372.000000</td>\n",
       "      <td>12.000000</td>\n",
       "      <td>5.000000</td>\n",
       "      <td>8.000000</td>\n",
       "      <td>6.000000</td>\n",
       "      <td>11.000000</td>\n",
       "      <td>13.000000</td>\n",
       "      <td>14.000000</td>\n",
       "      <td>2.079442</td>\n",
       "    </tr>\n",
       "    <tr>\n",
       "      <th>75%</th>\n",
       "      <td>4.000000</td>\n",
       "      <td>3.000000</td>\n",
       "      <td>2.000000</td>\n",
       "      <td>1.000000</td>\n",
       "      <td>7.000000</td>\n",
       "      <td>12373.000000</td>\n",
       "      <td>21.000000</td>\n",
       "      <td>6.000000</td>\n",
       "      <td>14.000000</td>\n",
       "      <td>29.000000</td>\n",
       "      <td>18.000000</td>\n",
       "      <td>21.000000</td>\n",
       "      <td>19.000000</td>\n",
       "      <td>2.708050</td>\n",
       "    </tr>\n",
       "    <tr>\n",
       "      <th>max</th>\n",
       "      <td>11.000000</td>\n",
       "      <td>4.000000</td>\n",
       "      <td>5.000000</td>\n",
       "      <td>4.000000</td>\n",
       "      <td>8.000000</td>\n",
       "      <td>79512.000000</td>\n",
       "      <td>27.000000</td>\n",
       "      <td>6.000000</td>\n",
       "      <td>45.000000</td>\n",
       "      <td>29.000000</td>\n",
       "      <td>23.000000</td>\n",
       "      <td>29.000000</td>\n",
       "      <td>23.000000</td>\n",
       "      <td>3.850148</td>\n",
       "    </tr>\n",
       "  </tbody>\n",
       "</table>\n",
       "</div>"
      ],
      "text/plain": [
       "            Airline        Source   Destination   Total_Stops  \\\n",
       "count  10682.000000  10682.000000  10682.000000  10682.000000   \n",
       "mean       3.966205      1.952069      1.435967      0.824003   \n",
       "std        2.352090      1.177110      1.474773      0.675180   \n",
       "min        0.000000      0.000000      0.000000      0.000000   \n",
       "25%        3.000000      2.000000      0.000000      0.000000   \n",
       "50%        4.000000      2.000000      1.000000      1.000000   \n",
       "75%        4.000000      3.000000      2.000000      1.000000   \n",
       "max       11.000000      4.000000      5.000000      4.000000   \n",
       "\n",
       "       Additional_Info         Price          Date         Month  \\\n",
       "count     10682.000000  10682.000000  10682.000000  10682.000000   \n",
       "mean          6.582101   9086.292735     13.509081      4.708762   \n",
       "std           0.838102   4610.885695      8.479363      1.164294   \n",
       "min           0.000000   1759.000000      1.000000      3.000000   \n",
       "25%           7.000000   5277.000000      6.000000      3.000000   \n",
       "50%           7.000000   8372.000000     12.000000      5.000000   \n",
       "75%           7.000000  12373.000000     21.000000      6.000000   \n",
       "max           8.000000  79512.000000     27.000000      6.000000   \n",
       "\n",
       "              City2         City3  Dep_Time_Hour  Arrival_date  \\\n",
       "count  10682.000000  10682.000000   10682.000000  10682.000000   \n",
       "mean      11.900674     13.232634      12.490358     13.908257   \n",
       "std        8.012732     11.303181       5.748819      8.466780   \n",
       "min        0.000000      0.000000       0.000000      1.000000   \n",
       "25%        7.000000      4.000000       8.000000      7.000000   \n",
       "50%        8.000000      6.000000      11.000000     13.000000   \n",
       "75%       14.000000     29.000000      18.000000     21.000000   \n",
       "max       45.000000     29.000000      23.000000     29.000000   \n",
       "\n",
       "       Arrival_Time_Hour  Travel_hours  \n",
       "count       10682.000000  10682.000000  \n",
       "mean           13.348530      1.893002  \n",
       "std             6.859398      1.014035  \n",
       "min             0.000000      0.000000  \n",
       "25%             8.000000      0.693147  \n",
       "50%            14.000000      2.079442  \n",
       "75%            19.000000      2.708050  \n",
       "max            23.000000      3.850148  "
      ]
     },
     "execution_count": 131,
     "metadata": {},
     "output_type": "execute_result"
    }
   ],
   "source": [
    "df_train.describe()"
   ]
  },
  {
   "cell_type": "code",
   "execution_count": 132,
   "id": "a69ce9d3",
   "metadata": {},
   "outputs": [
    {
     "data": {
      "text/plain": [
       "<AxesSubplot:>"
      ]
     },
     "execution_count": 132,
     "metadata": {},
     "output_type": "execute_result"
    },
    {
     "data": {
      "image/png": "[encoded data removed]",
      "text/plain": [
       "<Figure size 432x288 with 2 Axes>"
      ]
     },
     "metadata": {
      "needs_background": "light"
     },
     "output_type": "display_data"
    }
   ],
   "source": [
    "sns.heatmap(df_train.corr(),annot=True,linewidth=2,fmt='.2f')  #correlation matrix"
   ]
  },
  {
   "cell_type": "code",
   "execution_count": 133,
   "id": "016f4c37",
   "metadata": {},
   "outputs": [],
   "source": [
    "#spliiting data\n",
    "x=df_train.drop(['Price'],axis=1)\n",
    "y=df_train.Price"
   ]
  },
  {
   "cell_type": "code",
   "execution_count": 134,
   "id": "fe587f61",
   "metadata": {},
   "outputs": [],
   "source": [
    "#standard scaler to normalise the data"
   ]
  },
  {
   "cell_type": "code",
   "execution_count": 135,
   "id": "a8e9e8e1",
   "metadata": {},
   "outputs": [
    {
     "data": {
      "text/plain": [
       "array([[-0.41080484, -1.65843519,  2.41677843, ...,  0.95574961,\n",
       "        -1.80031946, -1.18330398],\n",
       "       [-1.26115217,  0.89029942, -0.97373235, ..., -1.52464819,\n",
       "        -0.05081299,  0.05217799],\n",
       "       [ 0.01436882,  0.04072122, -0.29563019, ..., -0.46162056,\n",
       "        -1.36294284,  1.03693281],\n",
       "       ...,\n",
       "       [ 0.01436882, -1.65843519,  0.38247196, ...,  1.54632051,\n",
       "        -0.3423974 , -0.78343198],\n",
       "       [ 2.56541078, -1.65843519,  2.41677843, ..., -1.52464819,\n",
       "         0.09497921, -1.18330398],\n",
       "       [-1.26115217,  0.04072122, -0.29563019, ..., -0.57973474,\n",
       "         0.82394024,  0.18386741]])"
      ]
     },
     "execution_count": 135,
     "metadata": {},
     "output_type": "execute_result"
    }
   ],
   "source": [
    "from sklearn.preprocessing import StandardScaler\n",
    "sc=StandardScaler()\n",
    "x=sc.fit_transform(x)\n",
    "x"
   ]
  },
  {
   "cell_type": "code",
   "execution_count": 136,
   "id": "65fa06cc",
   "metadata": {},
   "outputs": [],
   "source": [
    "#fitting the regression model"
   ]
  },
  {
   "cell_type": "code",
   "execution_count": 137,
   "id": "f7b75647",
   "metadata": {},
   "outputs": [],
   "source": [
    "from sklearn.model_selection import train_test_split\n",
    "from sklearn.linear_model import LinearRegression\n",
    "lr=LinearRegression()\n",
    "from sklearn.metrics import r2_score"
   ]
  },
  {
   "cell_type": "code",
   "execution_count": 138,
   "id": "8429b3b7",
   "metadata": {},
   "outputs": [
    {
     "name": "stdout",
     "output_type": "stream",
     "text": [
      "for random state 0,the training accuracy is {0.4990592956472729}\n",
      "for random state 0 ,the testing accuracy is {0.4850529185024449}\n",
      "\n",
      "\n",
      "for random state 1,the training accuracy is {0.491262835725916}\n",
      "for random state 1 ,the testing accuracy is {0.5164722954722516}\n",
      "\n",
      "\n",
      "for random state 2,the training accuracy is {0.494883407783694}\n",
      "for random state 2 ,the testing accuracy is {0.4994138896536302}\n",
      "\n",
      "\n",
      "for random state 3,the training accuracy is {0.49217281761109366}\n",
      "for random state 3 ,the testing accuracy is {0.5126753313681114}\n",
      "\n",
      "\n",
      "for random state 4,the training accuracy is {0.5004146160140427}\n",
      "for random state 4 ,the testing accuracy is {0.4795464697358597}\n",
      "\n",
      "\n",
      "for random state 5,the training accuracy is {0.4982428808853515}\n",
      "for random state 5 ,the testing accuracy is {0.4881926306886081}\n",
      "\n",
      "\n",
      "for random state 6,the training accuracy is {0.4942714755137735}\n",
      "for random state 6 ,the testing accuracy is {0.5005572489235056}\n",
      "\n",
      "\n",
      "for random state 7,the training accuracy is {0.49213574847232533}\n",
      "for random state 7 ,the testing accuracy is {0.5110795578572951}\n",
      "\n",
      "\n",
      "for random state 8,the training accuracy is {0.5042489054315418}\n",
      "for random state 8 ,the testing accuracy is {0.464759636413685}\n",
      "\n",
      "\n",
      "for random state 9,the training accuracy is {0.48637705922363017}\n",
      "for random state 9 ,the testing accuracy is {0.539638612956594}\n",
      "\n",
      "\n",
      "for random state 10,the training accuracy is {0.49595200120023497}\n",
      "for random state 10 ,the testing accuracy is {0.49590900566540685}\n",
      "\n",
      "\n",
      "for random state 11,the training accuracy is {0.49857117049515354}\n",
      "for random state 11 ,the testing accuracy is {0.48654504321018377}\n",
      "\n",
      "\n",
      "for random state 12,the training accuracy is {0.5005689723360551}\n",
      "for random state 12 ,the testing accuracy is {0.4787748848171417}\n",
      "\n",
      "\n",
      "for random state 13,the training accuracy is {0.49850406095825917}\n",
      "for random state 13 ,the testing accuracy is {0.48605408542365025}\n",
      "\n",
      "\n",
      "for random state 14,the training accuracy is {0.501142570002018}\n",
      "for random state 14 ,the testing accuracy is {0.4782020219872293}\n",
      "\n",
      "\n",
      "for random state 15,the training accuracy is {0.49933629323572526}\n",
      "for random state 15 ,the testing accuracy is {0.4820994579024287}\n",
      "\n",
      "\n",
      "for random state 16,the training accuracy is {0.4924094417607452}\n",
      "for random state 16 ,the testing accuracy is {0.510791166478303}\n",
      "\n",
      "\n",
      "for random state 17,the training accuracy is {0.5017399019897117}\n",
      "for random state 17 ,the testing accuracy is {0.4741961471229639}\n",
      "\n",
      "\n",
      "for random state 18,the training accuracy is {0.49660682008617696}\n",
      "for random state 18 ,the testing accuracy is {0.49415539937549025}\n",
      "\n",
      "\n",
      "for random state 19,the training accuracy is {0.4998495037591949}\n",
      "for random state 19 ,the testing accuracy is {0.4816426542746238}\n",
      "\n",
      "\n",
      "for random state 20,the training accuracy is {0.4998320395703243}\n",
      "for random state 20 ,the testing accuracy is {0.4798050178626584}\n",
      "\n",
      "\n",
      "for random state 21,the training accuracy is {0.4940797403351438}\n",
      "for random state 21 ,the testing accuracy is {0.5032274809078958}\n",
      "\n",
      "\n",
      "for random state 22,the training accuracy is {0.48834943296419253}\n",
      "for random state 22 ,the testing accuracy is {0.5310179105953219}\n",
      "\n",
      "\n",
      "for random state 23,the training accuracy is {0.48862703715363276}\n",
      "for random state 23 ,the testing accuracy is {0.5276102461015886}\n",
      "\n",
      "\n",
      "for random state 24,the training accuracy is {0.49751973862035814}\n",
      "for random state 24 ,the testing accuracy is {0.49025709516036975}\n",
      "\n",
      "\n",
      "for random state 25,the training accuracy is {0.5021400603099713}\n",
      "for random state 25 ,the testing accuracy is {0.4743410357116218}\n",
      "\n",
      "\n",
      "for random state 26,the training accuracy is {0.5095667963554671}\n",
      "for random state 26 ,the testing accuracy is {0.44922497059666167}\n",
      "\n",
      "\n",
      "for random state 27,the training accuracy is {0.49489383938169185}\n",
      "for random state 27 ,the testing accuracy is {0.49872886180585596}\n",
      "\n",
      "\n",
      "for random state 28,the training accuracy is {0.49797793820851455}\n",
      "for random state 28 ,the testing accuracy is {0.4885460362037688}\n",
      "\n",
      "\n",
      "for random state 29,the training accuracy is {0.49356361079316946}\n",
      "for random state 29 ,the testing accuracy is {0.5025114729314888}\n",
      "\n",
      "\n",
      "for random state 30,the training accuracy is {0.49509481390734134}\n",
      "for random state 30 ,the testing accuracy is {0.5003976753534856}\n",
      "\n",
      "\n",
      "for random state 31,the training accuracy is {0.4884481071274013}\n",
      "for random state 31 ,the testing accuracy is {0.5318016941394207}\n",
      "\n",
      "\n",
      "for random state 32,the training accuracy is {0.489344993926597}\n",
      "for random state 32 ,the testing accuracy is {0.5276903998345597}\n",
      "\n",
      "\n",
      "for random state 33,the training accuracy is {0.4909578526943825}\n",
      "for random state 33 ,the testing accuracy is {0.5174428261868915}\n",
      "\n",
      "\n",
      "for random state 34,the training accuracy is {0.5022207357254962}\n",
      "for random state 34 ,the testing accuracy is {0.4731391206926807}\n",
      "\n",
      "\n",
      "for random state 35,the training accuracy is {0.49802601822457315}\n",
      "for random state 35 ,the testing accuracy is {0.48768322465335523}\n",
      "\n",
      "\n",
      "for random state 36,the training accuracy is {0.4986419562305491}\n",
      "for random state 36 ,the testing accuracy is {0.48420748380207423}\n",
      "\n",
      "\n",
      "for random state 37,the training accuracy is {0.49468562870622856}\n",
      "for random state 37 ,the testing accuracy is {0.5023872331298942}\n",
      "\n",
      "\n",
      "for random state 38,the training accuracy is {0.48800381893675593}\n",
      "for random state 38 ,the testing accuracy is {0.5309523288040718}\n",
      "\n",
      "\n",
      "for random state 39,the training accuracy is {0.5004166779198558}\n",
      "for random state 39 ,the testing accuracy is {0.4785710597517918}\n",
      "\n",
      "\n",
      "for random state 40,the training accuracy is {0.5054808699264748}\n",
      "for random state 40 ,the testing accuracy is {0.4600614453778199}\n",
      "\n",
      "\n",
      "for random state 41,the training accuracy is {0.5011066256728549}\n",
      "for random state 41 ,the testing accuracy is {0.47599588077389}\n",
      "\n",
      "\n",
      "for random state 42,the training accuracy is {0.4939545590142389}\n",
      "for random state 42 ,the testing accuracy is {0.503967385207254}\n",
      "\n",
      "\n",
      "for random state 43,the training accuracy is {0.5059257097780829}\n",
      "for random state 43 ,the testing accuracy is {0.4583850426298368}\n",
      "\n",
      "\n",
      "for random state 44,the training accuracy is {0.5040829986092372}\n",
      "for random state 44 ,the testing accuracy is {0.46232746112370904}\n",
      "\n",
      "\n",
      "for random state 45,the training accuracy is {0.5024803298250196}\n",
      "for random state 45 ,the testing accuracy is {0.4698166828447764}\n",
      "\n",
      "\n",
      "for random state 46,the training accuracy is {0.49048001298735744}\n",
      "for random state 46 ,the testing accuracy is {0.5199874167656493}\n",
      "\n",
      "\n",
      "for random state 47,the training accuracy is {0.49286897818526054}\n",
      "for random state 47 ,the testing accuracy is {0.5079283603826898}\n",
      "\n",
      "\n",
      "for random state 48,the training accuracy is {0.5021715712925355}\n",
      "for random state 48 ,the testing accuracy is {0.47328753830988946}\n",
      "\n",
      "\n",
      "for random state 49,the training accuracy is {0.490366466680091}\n",
      "for random state 49 ,the testing accuracy is {0.5203644792565967}\n",
      "\n",
      "\n",
      "for random state 50,the training accuracy is {0.49332590445381763}\n",
      "for random state 50 ,the testing accuracy is {0.5075749769537177}\n",
      "\n",
      "\n",
      "for random state 51,the training accuracy is {0.48782818189466215}\n",
      "for random state 51 ,the testing accuracy is {0.5326807145674386}\n",
      "\n",
      "\n",
      "for random state 52,the training accuracy is {0.4941645165400017}\n",
      "for random state 52 ,the testing accuracy is {0.50451917249173}\n",
      "\n",
      "\n",
      "for random state 53,the training accuracy is {0.49320720466158097}\n",
      "for random state 53 ,the testing accuracy is {0.5086223876346921}\n",
      "\n",
      "\n",
      "for random state 54,the training accuracy is {0.4883160981090968}\n",
      "for random state 54 ,the testing accuracy is {0.5290420979879848}\n",
      "\n",
      "\n",
      "for random state 55,the training accuracy is {0.49803093160295786}\n",
      "for random state 55 ,the testing accuracy is {0.48744703566290015}\n",
      "\n",
      "\n",
      "for random state 56,the training accuracy is {0.5018433959892115}\n",
      "for random state 56 ,the testing accuracy is {0.4751824081742263}\n",
      "\n",
      "\n",
      "for random state 57,the training accuracy is {0.5013453456879776}\n",
      "for random state 57 ,the testing accuracy is {0.47610958732009745}\n",
      "\n",
      "\n",
      "for random state 58,the training accuracy is {0.49580654821808134}\n",
      "for random state 58 ,the testing accuracy is {0.49617095832426594}\n",
      "\n",
      "\n",
      "for random state 59,the training accuracy is {0.49287450052821025}\n",
      "for random state 59 ,the testing accuracy is {0.5090713858957526}\n",
      "\n",
      "\n",
      "for random state 60,the training accuracy is {0.4999870352595843}\n",
      "for random state 60 ,the testing accuracy is {0.48137634157352405}\n",
      "\n",
      "\n",
      "for random state 61,the training accuracy is {0.49832689973037503}\n",
      "for random state 61 ,the testing accuracy is {0.4865369392062696}\n",
      "\n",
      "\n",
      "for random state 62,the training accuracy is {0.4989241814918097}\n",
      "for random state 62 ,the testing accuracy is {0.48377919185010676}\n",
      "\n",
      "\n",
      "for random state 63,the training accuracy is {0.5029184262274464}\n",
      "for random state 63 ,the testing accuracy is {0.4697517830646806}\n",
      "\n",
      "\n",
      "for random state 64,the training accuracy is {0.4875565650131115}\n",
      "for random state 64 ,the testing accuracy is {0.5348010157381411}\n",
      "\n",
      "\n",
      "for random state 65,the training accuracy is {0.5004144607599398}\n",
      "for random state 65 ,the testing accuracy is {0.47778094524720727}\n",
      "\n",
      "\n",
      "for random state 66,the training accuracy is {0.5012112514562179}\n",
      "for random state 66 ,the testing accuracy is {0.47658786845710044}\n",
      "\n",
      "\n"
     ]
    },
    {
     "name": "stdout",
     "output_type": "stream",
     "text": [
      "for random state 67,the training accuracy is {0.4938935350610193}\n",
      "for random state 67 ,the testing accuracy is {0.5055429443657539}\n",
      "\n",
      "\n",
      "for random state 68,the training accuracy is {0.49375618544826727}\n",
      "for random state 68 ,the testing accuracy is {0.5046596403504209}\n",
      "\n",
      "\n",
      "for random state 69,the training accuracy is {0.48785183249347097}\n",
      "for random state 69 ,the testing accuracy is {0.5311329222502189}\n",
      "\n",
      "\n",
      "for random state 70,the training accuracy is {0.5132177132405287}\n",
      "for random state 70 ,the testing accuracy is {0.42829636362604795}\n",
      "\n",
      "\n",
      "for random state 71,the training accuracy is {0.5000193190810611}\n",
      "for random state 71 ,the testing accuracy is {0.4810238873208822}\n",
      "\n",
      "\n",
      "for random state 72,the training accuracy is {0.49329101600379344}\n",
      "for random state 72 ,the testing accuracy is {0.5069622914654922}\n",
      "\n",
      "\n",
      "for random state 73,the training accuracy is {0.49522654849491776}\n",
      "for random state 73 ,the testing accuracy is {0.4984392330275671}\n",
      "\n",
      "\n",
      "for random state 74,the training accuracy is {0.5066634529318854}\n",
      "for random state 74 ,the testing accuracy is {0.45841808357494906}\n",
      "\n",
      "\n",
      "for random state 75,the training accuracy is {0.502877074660834}\n",
      "for random state 75 ,the testing accuracy is {0.4686747293424608}\n",
      "\n",
      "\n",
      "for random state 76,the training accuracy is {0.49441991001751806}\n",
      "for random state 76 ,the testing accuracy is {0.5029789788584864}\n",
      "\n",
      "\n",
      "for random state 77,the training accuracy is {0.49061837898446325}\n",
      "for random state 77 ,the testing accuracy is {0.5189837712399952}\n",
      "\n",
      "\n",
      "for random state 78,the training accuracy is {0.500899981882194}\n",
      "for random state 78 ,the testing accuracy is {0.47784876447634594}\n",
      "\n",
      "\n",
      "for random state 79,the training accuracy is {0.4994164065646609}\n",
      "for random state 79 ,the testing accuracy is {0.4836741300231303}\n",
      "\n",
      "\n",
      "for random state 80,the training accuracy is {0.495438552269613}\n",
      "for random state 80 ,the testing accuracy is {0.49879466830482544}\n",
      "\n",
      "\n",
      "for random state 81,the training accuracy is {0.49011849938606933}\n",
      "for random state 81 ,the testing accuracy is {0.5224470537572068}\n",
      "\n",
      "\n",
      "for random state 82,the training accuracy is {0.5013792394066863}\n",
      "for random state 82 ,the testing accuracy is {0.4763841101089684}\n",
      "\n",
      "\n",
      "for random state 83,the training accuracy is {0.5040664751288866}\n",
      "for random state 83 ,the testing accuracy is {0.46648993169435793}\n",
      "\n",
      "\n",
      "for random state 84,the training accuracy is {0.4913311458387798}\n",
      "for random state 84 ,the testing accuracy is {0.5167878998696253}\n",
      "\n",
      "\n",
      "for random state 85,the training accuracy is {0.49095253148901163}\n",
      "for random state 85 ,the testing accuracy is {0.5189951684937639}\n",
      "\n",
      "\n",
      "for random state 86,the training accuracy is {0.516108606077587}\n",
      "for random state 86 ,the testing accuracy is {0.4237077257428201}\n",
      "\n",
      "\n",
      "for random state 87,the training accuracy is {0.4912618089384133}\n",
      "for random state 87 ,the testing accuracy is {0.5154785261527786}\n",
      "\n",
      "\n",
      "for random state 88,the training accuracy is {0.5052501923845831}\n",
      "for random state 88 ,the testing accuracy is {0.46047149235521767}\n",
      "\n",
      "\n",
      "for random state 89,the training accuracy is {0.5009499974732287}\n",
      "for random state 89 ,the testing accuracy is {0.47788220063310405}\n",
      "\n",
      "\n",
      "for random state 90,the training accuracy is {0.5044172981325188}\n",
      "for random state 90 ,the testing accuracy is {0.465572399845227}\n",
      "\n",
      "\n",
      "for random state 91,the training accuracy is {0.4991415453351864}\n",
      "for random state 91 ,the testing accuracy is {0.48023752401194564}\n",
      "\n",
      "\n",
      "for random state 92,the training accuracy is {0.49284570572503017}\n",
      "for random state 92 ,the testing accuracy is {0.5098951242750895}\n",
      "\n",
      "\n",
      "for random state 93,the training accuracy is {0.49164743585246484}\n",
      "for random state 93 ,the testing accuracy is {0.5141865515065107}\n",
      "\n",
      "\n",
      "for random state 94,the training accuracy is {0.5057972516816358}\n",
      "for random state 94 ,the testing accuracy is {0.46413149269404885}\n",
      "\n",
      "\n",
      "for random state 95,the training accuracy is {0.49374591140466173}\n",
      "for random state 95 ,the testing accuracy is {0.5051668950432158}\n",
      "\n",
      "\n",
      "for random state 96,the training accuracy is {0.5043661805393298}\n",
      "for random state 96 ,the testing accuracy is {0.4668292026997789}\n",
      "\n",
      "\n",
      "for random state 97,the training accuracy is {0.48962025602832593}\n",
      "for random state 97 ,the testing accuracy is {0.5212523545879466}\n",
      "\n",
      "\n",
      "for random state 98,the training accuracy is {0.4878922215555165}\n",
      "for random state 98 ,the testing accuracy is {0.5318545083137609}\n",
      "\n",
      "\n",
      "for random state 99,the training accuracy is {0.48903941033899545}\n",
      "for random state 99 ,the testing accuracy is {0.5294055405672007}\n",
      "\n",
      "\n"
     ]
    }
   ],
   "source": [
    "for i in range (0,100):\n",
    "    x_train,x_test,y_train,y_test=train_test_split(x,y,random_state=i,test_size=.20)\n",
    "    lr.fit(x_train,y_train)\n",
    "    pred_train=lr.predict(x_train)\n",
    "    pred_test=lr.predict(x_test)\n",
    "    print(f'for random state {i},the training accuracy is',{r2_score(y_train,pred_train)})\n",
    "    print(f'for random state {i} ,the testing accuracy is',{r2_score(y_test, pred_test)})\n",
    "    print('\\n')"
   ]
  },
  {
   "cell_type": "code",
   "execution_count": 139,
   "id": "372c1ece",
   "metadata": {},
   "outputs": [],
   "source": [
    "# we see accuracy score is less but training and testing accuracy is same\n",
    "# checking with other models"
   ]
  },
  {
   "cell_type": "code",
   "execution_count": 140,
   "id": "841b3ece",
   "metadata": {},
   "outputs": [],
   "source": [
    "from sklearn.tree import DecisionTreeRegressor\n",
    "from sklearn.neighbors import KNeighborsRegressor\n",
    "from sklearn.svm import SVR\n",
    "from sklearn.metrics import r2_score,mean_absolute_error,mean_squared_error"
   ]
  },
  {
   "cell_type": "code",
   "execution_count": 141,
   "id": "438e9520",
   "metadata": {},
   "outputs": [],
   "source": [
    "dt=DecisionTreeRegressor()\n",
    "svr=SVR()\n",
    "knn=KNeighborsRegressor()\n"
   ]
  },
  {
   "cell_type": "code",
   "execution_count": 142,
   "id": "7ef4bb2a",
   "metadata": {},
   "outputs": [
    {
     "name": "stdout",
     "output_type": "stream",
     "text": [
      "SVR()\n",
      "the training accuracy is {0.06194502678097702}\n",
      "the testing accuracy is {0.053881139037166514}\n",
      "Mean absolute error is 3367.7149834491947\n",
      "Mean squared error is 4472.139013314099\n",
      "\n",
      "\n",
      "KNeighborsRegressor()\n",
      "the training accuracy is {0.8514701178124171}\n",
      "the testing accuracy is {0.8487638347438395}\n",
      "Mean absolute error is 1069.7295273748246\n",
      "Mean squared error is 1788.0113575194719\n",
      "\n",
      "\n"
     ]
    }
   ],
   "source": [
    "x_train,x_test,y_train,y_test=train_test_split(x,y,random_state=42,test_size=.20)\n",
    "for i in [dt,svr,knn]:\n",
    "    i.fit(x_train,y_train)\n",
    "    pred_train=i.predict(x_train)\n",
    "    pred_test=i.predict(x_test)\n",
    "    test_score=r2_score(y_test,pred_test)\n",
    "    train_score=r2_score(y_train,pred_train)\n",
    "    if abs(train_score-test_score)<=0.1:\n",
    "        print(i)\n",
    "        print('the training accuracy is',{r2_score(y_train,pred_train)})\n",
    "        print('the testing accuracy is',{r2_score(y_test, pred_test)})\n",
    "        print('Mean absolute error is',mean_absolute_error(y_test,pred_test))\n",
    "        print('Mean squared error is',(mean_squared_error(y_test,pred_test,squared=False)))\n",
    "        print('\\n')"
   ]
  },
  {
   "cell_type": "code",
   "execution_count": 143,
   "id": "28a17720",
   "metadata": {},
   "outputs": [],
   "source": [
    "#we get highest accuracy with Kneighbors with r2score of 84%"
   ]
  },
  {
   "cell_type": "code",
   "execution_count": 144,
   "id": "510c441b",
   "metadata": {},
   "outputs": [],
   "source": [
    "#ensemble method to improve it"
   ]
  },
  {
   "cell_type": "code",
   "execution_count": 145,
   "id": "8498abce",
   "metadata": {},
   "outputs": [],
   "source": [
    "from sklearn.ensemble import RandomForestRegressor,AdaBoostRegressor\n",
    "rfr=RandomForestRegressor()\n",
    "ad=AdaBoostRegressor()"
   ]
  },
  {
   "cell_type": "code",
   "execution_count": 146,
   "id": "ee4eb5c2",
   "metadata": {},
   "outputs": [
    {
     "name": "stdout",
     "output_type": "stream",
     "text": [
      "RandomForestRegressor()\n",
      "the training accuracy is {0.975465648023818}\n",
      "the testing accuracy is {0.850144610320278}\n",
      "Mean absolute error is 703.490967976442\n",
      "Mean squared error is 1779.8304327721398\n",
      "\n",
      "\n",
      "AdaBoostRegressor()\n",
      "the training accuracy is {0.2568171720424508}\n",
      "the testing accuracy is {0.21558726187319777}\n",
      "Mean absolute error is 3395.734787682557\n",
      "Mean squared error is 4072.065578653501\n",
      "\n",
      "\n"
     ]
    }
   ],
   "source": [
    "x_train,x_test,y_train,y_test=train_test_split(x,y,random_state=42,test_size=.20)\n",
    "for i in [rfr,ad]:\n",
    "    i.fit(x_train,y_train)\n",
    "    pred_train=i.predict(x_train)\n",
    "    pred_test=i.predict(x_test)\n",
    "    test_score=r2_score(y_test,pred_test)\n",
    "    train_score=r2_score(y_train,pred_train)\n",
    "    if abs(train_score-test_score)<=0.2:\n",
    "        print(i)\n",
    "        print('the training accuracy is',{r2_score(y_train,pred_train)})\n",
    "        print('the testing accuracy is',{r2_score(y_test, pred_test)})\n",
    "        print('Mean absolute error is',mean_absolute_error(y_test,pred_test))\n",
    "        print('Mean squared error is',(mean_squared_error(y_test,pred_test,squared=False)))\n",
    "        print('\\n')"
   ]
  },
  {
   "cell_type": "code",
   "execution_count": 147,
   "id": "340f0fab",
   "metadata": {},
   "outputs": [],
   "source": [
    "#using random forest the r2score is increased to 85% but the model is overfitting\n"
   ]
  },
  {
   "cell_type": "code",
   "execution_count": 148,
   "id": "8e088445",
   "metadata": {},
   "outputs": [],
   "source": [
    "#cross Validation"
   ]
  },
  {
   "cell_type": "code",
   "execution_count": 149,
   "id": "7fd5923d",
   "metadata": {},
   "outputs": [],
   "source": [
    "from sklearn.model_selection import cross_val_score"
   ]
  },
  {
   "cell_type": "code",
   "execution_count": 150,
   "id": "4e3ca86a",
   "metadata": {},
   "outputs": [
    {
     "name": "stdout",
     "output_type": "stream",
     "text": [
      "RandomForestRegressor() 0.8488238295806326\n",
      "RandomForestRegressor() 0.8496097942832469\n",
      "RandomForestRegressor() 0.862574324171218\n",
      "RandomForestRegressor() 0.8733796303572003\n",
      "RandomForestRegressor() 0.8715510553904631\n",
      "RandomForestRegressor() 0.8697329481258799\n",
      "RandomForestRegressor() 0.869381186959021\n"
     ]
    }
   ],
   "source": [
    "for i in range(2,9):\n",
    "    cv=cross_val_score(rfr,x,y,cv=i)\n",
    "    print(rfr,cv.mean())"
   ]
  },
  {
   "cell_type": "code",
   "execution_count": 151,
   "id": "2fdb2640",
   "metadata": {},
   "outputs": [],
   "source": [
    "#HyperParameter tuning\n",
    "\n",
    "from sklearn.model_selection import GridSearchCV\n",
    "param_grid={'n_estimators':[10,20,30,50,60,100],'max_depth':[None,1,2,3]}\n",
    "gcv=GridSearchCV(rfr,param_grid,cv=3)"
   ]
  },
  {
   "cell_type": "code",
   "execution_count": 152,
   "id": "8c431652",
   "metadata": {},
   "outputs": [],
   "source": [
    "re=gcv.fit(x_train,y_train)"
   ]
  },
  {
   "cell_type": "code",
   "execution_count": 153,
   "id": "e7303fa8",
   "metadata": {},
   "outputs": [
    {
     "data": {
      "text/plain": [
       "{'max_depth': None, 'n_estimators': 100}"
      ]
     },
     "execution_count": 153,
     "metadata": {},
     "output_type": "execute_result"
    }
   ],
   "source": [
    "re.best_params_"
   ]
  },
  {
   "cell_type": "code",
   "execution_count": 154,
   "id": "49788f8c",
   "metadata": {},
   "outputs": [
    {
     "name": "stdout",
     "output_type": "stream",
     "text": [
      "r2_score: 85.0099189844346\n",
      "cross val score 84.92293676283431\n"
     ]
    }
   ],
   "source": [
    "rfr=RandomForestRegressor(max_depth= None, n_estimators= 60)\n",
    "rfr.fit(x_train,y_train)\n",
    "rfr.score(x_train,y_train)\n",
    "pred_dec=rfr.predict(x_test)\n",
    "\n",
    "rfs=r2_score(y_test,pred_dec)\n",
    "print('r2_score:',rfs*100)\n",
    "\n",
    "rfscore=cross_val_score(rfr,x,y,cv=3)\n",
    "rfc=rfscore.mean()\n",
    "print('cross val score',rfc*100)"
   ]
  },
  {
   "cell_type": "code",
   "execution_count": 155,
   "id": "c22668d1",
   "metadata": {},
   "outputs": [],
   "source": [
    "import pickle\n",
    "filename='flight_price.pkl'\n",
    "pickle.dump(rfr,open(filename,'wb'))"
   ]
  },
  {
   "cell_type": "code",
   "execution_count": 156,
   "id": "8048965c",
   "metadata": {},
   "outputs": [
    {
     "name": "stdout",
     "output_type": "stream",
     "text": [
      "85.0099189844346\n"
     ]
    }
   ],
   "source": [
    "loadmodel=pickle.load(open('flight_price.pkl','rb'))\n",
    "result=loadmodel.score(x_test,y_test)\n",
    "print(result*100)"
   ]
  },
  {
   "cell_type": "code",
   "execution_count": null,
   "id": "ddb01bb9",
   "metadata": {},
   "outputs": [],
   "source": []
  },
  {
   "cell_type": "code",
   "execution_count": 157,
   "id": "5b37294d",
   "metadata": {},
   "outputs": [
    {
     "data": {
      "text/html": [
       "<div>\n",
       "<style scoped>\n",
       "    .dataframe tbody tr th:only-of-type {\n",
       "        vertical-align: middle;\n",
       "    }\n",
       "\n",
       "    .dataframe tbody tr th {\n",
       "        vertical-align: top;\n",
       "    }\n",
       "\n",
       "    .dataframe thead th {\n",
       "        text-align: right;\n",
       "    }\n",
       "</style>\n",
       "<table border=\"1\" class=\"dataframe\">\n",
       "  <thead>\n",
       "    <tr style=\"text-align: right;\">\n",
       "      <th></th>\n",
       "      <th>0</th>\n",
       "      <th>1</th>\n",
       "      <th>2</th>\n",
       "      <th>3</th>\n",
       "      <th>4</th>\n",
       "      <th>5</th>\n",
       "      <th>6</th>\n",
       "      <th>7</th>\n",
       "      <th>8</th>\n",
       "      <th>9</th>\n",
       "      <th>...</th>\n",
       "      <th>2127</th>\n",
       "      <th>2128</th>\n",
       "      <th>2129</th>\n",
       "      <th>2130</th>\n",
       "      <th>2131</th>\n",
       "      <th>2132</th>\n",
       "      <th>2133</th>\n",
       "      <th>2134</th>\n",
       "      <th>2135</th>\n",
       "      <th>2136</th>\n",
       "    </tr>\n",
       "  </thead>\n",
       "  <tbody>\n",
       "    <tr>\n",
       "      <th>predicted</th>\n",
       "      <td>16949.083333</td>\n",
       "      <td>5883.45</td>\n",
       "      <td>9027.7</td>\n",
       "      <td>3662.25</td>\n",
       "      <td>12898.0</td>\n",
       "      <td>9493.369167</td>\n",
       "      <td>16095.9</td>\n",
       "      <td>7255.633333</td>\n",
       "      <td>8644.95</td>\n",
       "      <td>16264.5</td>\n",
       "      <td>...</td>\n",
       "      <td>9777.583333</td>\n",
       "      <td>12455.116667</td>\n",
       "      <td>6435.75</td>\n",
       "      <td>12221.666667</td>\n",
       "      <td>13138.063889</td>\n",
       "      <td>12718.346667</td>\n",
       "      <td>5383.55</td>\n",
       "      <td>6667.95</td>\n",
       "      <td>10057.983333</td>\n",
       "      <td>14120.216667</td>\n",
       "    </tr>\n",
       "    <tr>\n",
       "      <th>original</th>\n",
       "      <td>16655.000000</td>\n",
       "      <td>4959.00</td>\n",
       "      <td>9187.0</td>\n",
       "      <td>3858.00</td>\n",
       "      <td>12898.0</td>\n",
       "      <td>10529.000000</td>\n",
       "      <td>16079.0</td>\n",
       "      <td>7229.000000</td>\n",
       "      <td>8085.00</td>\n",
       "      <td>16289.0</td>\n",
       "      <td>...</td>\n",
       "      <td>10844.000000</td>\n",
       "      <td>9732.000000</td>\n",
       "      <td>6442.00</td>\n",
       "      <td>11602.000000</td>\n",
       "      <td>7408.000000</td>\n",
       "      <td>7408.000000</td>\n",
       "      <td>4622.00</td>\n",
       "      <td>7452.00</td>\n",
       "      <td>7060.000000</td>\n",
       "      <td>13731.000000</td>\n",
       "    </tr>\n",
       "  </tbody>\n",
       "</table>\n",
       "<p>2 rows × 2137 columns</p>\n",
       "</div>"
      ],
      "text/plain": [
       "                   0        1       2        3        4             5     \\\n",
       "predicted  16949.083333  5883.45  9027.7  3662.25  12898.0   9493.369167   \n",
       "original   16655.000000  4959.00  9187.0  3858.00  12898.0  10529.000000   \n",
       "\n",
       "              6            7        8        9     ...          2127  \\\n",
       "predicted  16095.9  7255.633333  8644.95  16264.5  ...   9777.583333   \n",
       "original   16079.0  7229.000000  8085.00  16289.0  ...  10844.000000   \n",
       "\n",
       "                   2128     2129          2130          2131          2132  \\\n",
       "predicted  12455.116667  6435.75  12221.666667  13138.063889  12718.346667   \n",
       "original    9732.000000  6442.00  11602.000000   7408.000000   7408.000000   \n",
       "\n",
       "              2133     2134          2135          2136  \n",
       "predicted  5383.55  6667.95  10057.983333  14120.216667  \n",
       "original   4622.00  7452.00   7060.000000  13731.000000  \n",
       "\n",
       "[2 rows x 2137 columns]"
      ]
     },
     "execution_count": 157,
     "metadata": {},
     "output_type": "execute_result"
    }
   ],
   "source": [
    "conclusion=pd.DataFrame([loadmodel.predict(x_test)[:],y_test[:]],index=['predicted','original'])\n",
    "conclusion"
   ]
  },
  {
   "cell_type": "code",
   "execution_count": 158,
   "id": "2a966f24",
   "metadata": {},
   "outputs": [],
   "source": [
    "#the model is working at 85% accuracy"
   ]
  },
  {
   "cell_type": "code",
   "execution_count": 159,
   "id": "bdb86759",
   "metadata": {},
   "outputs": [],
   "source": [
    "# well load the test file now"
   ]
  },
  {
   "cell_type": "code",
   "execution_count": 160,
   "id": "605d4400",
   "metadata": {},
   "outputs": [],
   "source": [
    "df_test=pd.read_excel('test_flight.xlsx') # we are loading training data set"
   ]
  },
  {
   "cell_type": "code",
   "execution_count": 161,
   "id": "bf12eeb9",
   "metadata": {},
   "outputs": [
    {
     "data": {
      "text/html": [
       "<div>\n",
       "<style scoped>\n",
       "    .dataframe tbody tr th:only-of-type {\n",
       "        vertical-align: middle;\n",
       "    }\n",
       "\n",
       "    .dataframe tbody tr th {\n",
       "        vertical-align: top;\n",
       "    }\n",
       "\n",
       "    .dataframe thead th {\n",
       "        text-align: right;\n",
       "    }\n",
       "</style>\n",
       "<table border=\"1\" class=\"dataframe\">\n",
       "  <thead>\n",
       "    <tr style=\"text-align: right;\">\n",
       "      <th></th>\n",
       "      <th>Airline</th>\n",
       "      <th>Date_of_Journey</th>\n",
       "      <th>Source</th>\n",
       "      <th>Destination</th>\n",
       "      <th>Route</th>\n",
       "      <th>Dep_Time</th>\n",
       "      <th>Arrival_Time</th>\n",
       "      <th>Duration</th>\n",
       "      <th>Total_Stops</th>\n",
       "      <th>Additional_Info</th>\n",
       "    </tr>\n",
       "  </thead>\n",
       "  <tbody>\n",
       "    <tr>\n",
       "      <th>0</th>\n",
       "      <td>Jet Airways</td>\n",
       "      <td>6/06/2019</td>\n",
       "      <td>Delhi</td>\n",
       "      <td>Cochin</td>\n",
       "      <td>DEL → BOM → COK</td>\n",
       "      <td>17:30</td>\n",
       "      <td>04:25 07 Jun</td>\n",
       "      <td>10h 55m</td>\n",
       "      <td>1 stop</td>\n",
       "      <td>No info</td>\n",
       "    </tr>\n",
       "    <tr>\n",
       "      <th>1</th>\n",
       "      <td>IndiGo</td>\n",
       "      <td>12/05/2019</td>\n",
       "      <td>Kolkata</td>\n",
       "      <td>Banglore</td>\n",
       "      <td>CCU → MAA → BLR</td>\n",
       "      <td>06:20</td>\n",
       "      <td>10:20</td>\n",
       "      <td>4h</td>\n",
       "      <td>1 stop</td>\n",
       "      <td>No info</td>\n",
       "    </tr>\n",
       "    <tr>\n",
       "      <th>2</th>\n",
       "      <td>Jet Airways</td>\n",
       "      <td>21/05/2019</td>\n",
       "      <td>Delhi</td>\n",
       "      <td>Cochin</td>\n",
       "      <td>DEL → BOM → COK</td>\n",
       "      <td>19:15</td>\n",
       "      <td>19:00 22 May</td>\n",
       "      <td>23h 45m</td>\n",
       "      <td>1 stop</td>\n",
       "      <td>In-flight meal not included</td>\n",
       "    </tr>\n",
       "    <tr>\n",
       "      <th>3</th>\n",
       "      <td>Multiple carriers</td>\n",
       "      <td>21/05/2019</td>\n",
       "      <td>Delhi</td>\n",
       "      <td>Cochin</td>\n",
       "      <td>DEL → BOM → COK</td>\n",
       "      <td>08:00</td>\n",
       "      <td>21:00</td>\n",
       "      <td>13h</td>\n",
       "      <td>1 stop</td>\n",
       "      <td>No info</td>\n",
       "    </tr>\n",
       "    <tr>\n",
       "      <th>4</th>\n",
       "      <td>Air Asia</td>\n",
       "      <td>24/06/2019</td>\n",
       "      <td>Banglore</td>\n",
       "      <td>Delhi</td>\n",
       "      <td>BLR → DEL</td>\n",
       "      <td>23:55</td>\n",
       "      <td>02:45 25 Jun</td>\n",
       "      <td>2h 50m</td>\n",
       "      <td>non-stop</td>\n",
       "      <td>No info</td>\n",
       "    </tr>\n",
       "    <tr>\n",
       "      <th>...</th>\n",
       "      <td>...</td>\n",
       "      <td>...</td>\n",
       "      <td>...</td>\n",
       "      <td>...</td>\n",
       "      <td>...</td>\n",
       "      <td>...</td>\n",
       "      <td>...</td>\n",
       "      <td>...</td>\n",
       "      <td>...</td>\n",
       "      <td>...</td>\n",
       "    </tr>\n",
       "    <tr>\n",
       "      <th>2666</th>\n",
       "      <td>Air India</td>\n",
       "      <td>6/06/2019</td>\n",
       "      <td>Kolkata</td>\n",
       "      <td>Banglore</td>\n",
       "      <td>CCU → DEL → BLR</td>\n",
       "      <td>20:30</td>\n",
       "      <td>20:25 07 Jun</td>\n",
       "      <td>23h 55m</td>\n",
       "      <td>1 stop</td>\n",
       "      <td>No info</td>\n",
       "    </tr>\n",
       "    <tr>\n",
       "      <th>2667</th>\n",
       "      <td>IndiGo</td>\n",
       "      <td>27/03/2019</td>\n",
       "      <td>Kolkata</td>\n",
       "      <td>Banglore</td>\n",
       "      <td>CCU → BLR</td>\n",
       "      <td>14:20</td>\n",
       "      <td>16:55</td>\n",
       "      <td>2h 35m</td>\n",
       "      <td>non-stop</td>\n",
       "      <td>No info</td>\n",
       "    </tr>\n",
       "    <tr>\n",
       "      <th>2668</th>\n",
       "      <td>Jet Airways</td>\n",
       "      <td>6/03/2019</td>\n",
       "      <td>Delhi</td>\n",
       "      <td>Cochin</td>\n",
       "      <td>DEL → BOM → COK</td>\n",
       "      <td>21:50</td>\n",
       "      <td>04:25 07 Mar</td>\n",
       "      <td>6h 35m</td>\n",
       "      <td>1 stop</td>\n",
       "      <td>No info</td>\n",
       "    </tr>\n",
       "    <tr>\n",
       "      <th>2669</th>\n",
       "      <td>Air India</td>\n",
       "      <td>6/03/2019</td>\n",
       "      <td>Delhi</td>\n",
       "      <td>Cochin</td>\n",
       "      <td>DEL → BOM → COK</td>\n",
       "      <td>04:00</td>\n",
       "      <td>19:15</td>\n",
       "      <td>15h 15m</td>\n",
       "      <td>1 stop</td>\n",
       "      <td>No info</td>\n",
       "    </tr>\n",
       "    <tr>\n",
       "      <th>2670</th>\n",
       "      <td>Multiple carriers</td>\n",
       "      <td>15/06/2019</td>\n",
       "      <td>Delhi</td>\n",
       "      <td>Cochin</td>\n",
       "      <td>DEL → BOM → COK</td>\n",
       "      <td>04:55</td>\n",
       "      <td>19:15</td>\n",
       "      <td>14h 20m</td>\n",
       "      <td>1 stop</td>\n",
       "      <td>No info</td>\n",
       "    </tr>\n",
       "  </tbody>\n",
       "</table>\n",
       "<p>2671 rows × 10 columns</p>\n",
       "</div>"
      ],
      "text/plain": [
       "                Airline Date_of_Journey    Source Destination  \\\n",
       "0           Jet Airways       6/06/2019     Delhi      Cochin   \n",
       "1                IndiGo      12/05/2019   Kolkata    Banglore   \n",
       "2           Jet Airways      21/05/2019     Delhi      Cochin   \n",
       "3     Multiple carriers      21/05/2019     Delhi      Cochin   \n",
       "4              Air Asia      24/06/2019  Banglore       Delhi   \n",
       "...                 ...             ...       ...         ...   \n",
       "2666          Air India       6/06/2019   Kolkata    Banglore   \n",
       "2667             IndiGo      27/03/2019   Kolkata    Banglore   \n",
       "2668        Jet Airways       6/03/2019     Delhi      Cochin   \n",
       "2669          Air India       6/03/2019     Delhi      Cochin   \n",
       "2670  Multiple carriers      15/06/2019     Delhi      Cochin   \n",
       "\n",
       "                Route Dep_Time  Arrival_Time Duration Total_Stops  \\\n",
       "0     DEL → BOM → COK    17:30  04:25 07 Jun  10h 55m      1 stop   \n",
       "1     CCU → MAA → BLR    06:20         10:20       4h      1 stop   \n",
       "2     DEL → BOM → COK    19:15  19:00 22 May  23h 45m      1 stop   \n",
       "3     DEL → BOM → COK    08:00         21:00      13h      1 stop   \n",
       "4           BLR → DEL    23:55  02:45 25 Jun   2h 50m    non-stop   \n",
       "...               ...      ...           ...      ...         ...   \n",
       "2666  CCU → DEL → BLR    20:30  20:25 07 Jun  23h 55m      1 stop   \n",
       "2667        CCU → BLR    14:20         16:55   2h 35m    non-stop   \n",
       "2668  DEL → BOM → COK    21:50  04:25 07 Mar   6h 35m      1 stop   \n",
       "2669  DEL → BOM → COK    04:00         19:15  15h 15m      1 stop   \n",
       "2670  DEL → BOM → COK    04:55         19:15  14h 20m      1 stop   \n",
       "\n",
       "                  Additional_Info  \n",
       "0                         No info  \n",
       "1                         No info  \n",
       "2     In-flight meal not included  \n",
       "3                         No info  \n",
       "4                         No info  \n",
       "...                           ...  \n",
       "2666                      No info  \n",
       "2667                      No info  \n",
       "2668                      No info  \n",
       "2669                      No info  \n",
       "2670                      No info  \n",
       "\n",
       "[2671 rows x 10 columns]"
      ]
     },
     "execution_count": 161,
     "metadata": {},
     "output_type": "execute_result"
    }
   ],
   "source": [
    "df_test"
   ]
  },
  {
   "cell_type": "code",
   "execution_count": 162,
   "id": "f7a461f5",
   "metadata": {},
   "outputs": [
    {
     "data": {
      "text/plain": [
       "Index(['Airline', 'Date_of_Journey', 'Source', 'Destination', 'Route',\n",
       "       'Dep_Time', 'Arrival_Time', 'Duration', 'Total_Stops',\n",
       "       'Additional_Info'],\n",
       "      dtype='object')"
      ]
     },
     "execution_count": 162,
     "metadata": {},
     "output_type": "execute_result"
    }
   ],
   "source": [
    "df_test.columns"
   ]
  },
  {
   "cell_type": "code",
   "execution_count": 163,
   "id": "c9fd5098",
   "metadata": {},
   "outputs": [
    {
     "data": {
      "text/plain": [
       "Airline            0\n",
       "Date_of_Journey    0\n",
       "Source             0\n",
       "Destination        0\n",
       "Route              0\n",
       "Dep_Time           0\n",
       "Arrival_Time       0\n",
       "Duration           0\n",
       "Total_Stops        0\n",
       "Additional_Info    0\n",
       "dtype: int64"
      ]
     },
     "execution_count": 163,
     "metadata": {},
     "output_type": "execute_result"
    }
   ],
   "source": [
    "df_test.isnull().sum() "
   ]
  },
  {
   "cell_type": "code",
   "execution_count": 164,
   "id": "8956e75b",
   "metadata": {},
   "outputs": [],
   "source": [
    "#no null values are present"
   ]
  },
  {
   "cell_type": "code",
   "execution_count": 165,
   "id": "f23406cd",
   "metadata": {},
   "outputs": [
    {
     "name": "stdout",
     "output_type": "stream",
     "text": [
      "<class 'pandas.core.frame.DataFrame'>\n",
      "RangeIndex: 2671 entries, 0 to 2670\n",
      "Data columns (total 10 columns):\n",
      " #   Column           Non-Null Count  Dtype \n",
      "---  ------           --------------  ----- \n",
      " 0   Airline          2671 non-null   object\n",
      " 1   Date_of_Journey  2671 non-null   object\n",
      " 2   Source           2671 non-null   object\n",
      " 3   Destination      2671 non-null   object\n",
      " 4   Route            2671 non-null   object\n",
      " 5   Dep_Time         2671 non-null   object\n",
      " 6   Arrival_Time     2671 non-null   object\n",
      " 7   Duration         2671 non-null   object\n",
      " 8   Total_Stops      2671 non-null   object\n",
      " 9   Additional_Info  2671 non-null   object\n",
      "dtypes: object(10)\n",
      "memory usage: 208.8+ KB\n"
     ]
    }
   ],
   "source": [
    "df_test.info()"
   ]
  },
  {
   "cell_type": "code",
   "execution_count": 168,
   "id": "fa0cf323",
   "metadata": {},
   "outputs": [
    {
     "data": {
      "text/plain": [
       "array(['Jet Airways', 'IndiGo', 'Multiple carriers', 'Air Asia',\n",
       "       'Air India', 'Vistara', 'SpiceJet', 'Vistara Premium economy',\n",
       "       'GoAir', 'Multiple carriers Premium economy',\n",
       "       'Jet Airways Business'], dtype=object)"
      ]
     },
     "execution_count": 168,
     "metadata": {},
     "output_type": "execute_result"
    }
   ],
   "source": [
    "df_test['Airline'].unique()"
   ]
  },
  {
   "cell_type": "code",
   "execution_count": 170,
   "id": "311e7dc6",
   "metadata": {},
   "outputs": [
    {
     "data": {
      "text/plain": [
       "array(['No info', 'In-flight meal not included',\n",
       "       'No check-in baggage included', '1 Long layover', 'Business class',\n",
       "       'Change airports'], dtype=object)"
      ]
     },
     "execution_count": 170,
     "metadata": {},
     "output_type": "execute_result"
    }
   ],
   "source": [
    "df_test['Additional_Info'].unique()"
   ]
  },
  {
   "cell_type": "code",
   "execution_count": 172,
   "id": "566f048c",
   "metadata": {},
   "outputs": [
    {
     "data": {
      "text/plain": [
       "Airline            object\n",
       "Date_of_Journey    object\n",
       "Source             object\n",
       "Destination        object\n",
       "Route              object\n",
       "Dep_Time           object\n",
       "Arrival_Time       object\n",
       "Duration           object\n",
       "Total_Stops        object\n",
       "Additional_Info    object\n",
       "dtype: object"
      ]
     },
     "execution_count": 172,
     "metadata": {},
     "output_type": "execute_result"
    }
   ],
   "source": [
    "df_test.dtypes"
   ]
  },
  {
   "cell_type": "code",
   "execution_count": 173,
   "id": "85503fea",
   "metadata": {},
   "outputs": [],
   "source": [
    "#we will treat the data similar to how we have done for training data set"
   ]
  },
  {
   "cell_type": "code",
   "execution_count": null,
   "id": "66364558",
   "metadata": {},
   "outputs": [],
   "source": [
    "#treating date of journey"
   ]
  },
  {
   "cell_type": "code",
   "execution_count": 174,
   "id": "269215cc",
   "metadata": {},
   "outputs": [],
   "source": [
    "df_test.Date_of_Journey=df_test.Date_of_Journey.str.split('/')"
   ]
  },
  {
   "cell_type": "code",
   "execution_count": 175,
   "id": "bfb6e59d",
   "metadata": {},
   "outputs": [
    {
     "data": {
      "text/plain": [
       "0        [6, 06, 2019]\n",
       "1       [12, 05, 2019]\n",
       "2       [21, 05, 2019]\n",
       "3       [21, 05, 2019]\n",
       "4       [24, 06, 2019]\n",
       "             ...      \n",
       "2666     [6, 06, 2019]\n",
       "2667    [27, 03, 2019]\n",
       "2668     [6, 03, 2019]\n",
       "2669     [6, 03, 2019]\n",
       "2670    [15, 06, 2019]\n",
       "Name: Date_of_Journey, Length: 2671, dtype: object"
      ]
     },
     "execution_count": 175,
     "metadata": {},
     "output_type": "execute_result"
    }
   ],
   "source": [
    "df_test.Date_of_Journey"
   ]
  },
  {
   "cell_type": "code",
   "execution_count": 176,
   "id": "e1542437",
   "metadata": {},
   "outputs": [],
   "source": [
    "df_test['Date']=df_test.Date_of_Journey.str[0]\n",
    "df_test['Month']=df_test.Date_of_Journey.str[1]\n",
    "df_test['Year']=df_test.Date_of_Journey.str[2]"
   ]
  },
  {
   "cell_type": "code",
   "execution_count": 177,
   "id": "173968c5",
   "metadata": {},
   "outputs": [],
   "source": [
    "#treating route column\n"
   ]
  },
  {
   "cell_type": "code",
   "execution_count": 185,
   "id": "39fbb0b7",
   "metadata": {},
   "outputs": [
    {
     "data": {
      "text/plain": [
       "5"
      ]
     },
     "execution_count": 185,
     "metadata": {},
     "output_type": "execute_result"
    }
   ],
   "source": [
    "df_test['Total_Stops'].nunique()"
   ]
  },
  {
   "cell_type": "code",
   "execution_count": 183,
   "id": "eae11fa0",
   "metadata": {},
   "outputs": [],
   "source": [
    "df_test.Route=df_test.Route.str.split('→')"
   ]
  },
  {
   "cell_type": "code",
   "execution_count": 186,
   "id": "04393415",
   "metadata": {},
   "outputs": [],
   "source": [
    "df_test['City1']=df_test.Route.str[0]  #maximum of six cities in a route\n",
    "df_test['City2']=df_test.Route.str[1]\n",
    "df_test['City3']=df_test.Route.str[2]\n",
    "df_test['City4']=df_test.Route.str[3]\n",
    "df_test['City5']=df_test.Route.str[4]\n",
    "df_test['City6']=df_test.Route.str[5]"
   ]
  },
  {
   "cell_type": "code",
   "execution_count": 187,
   "id": "80e8c45f",
   "metadata": {},
   "outputs": [],
   "source": [
    "#treating dep time column"
   ]
  },
  {
   "cell_type": "code",
   "execution_count": 188,
   "id": "178b7e99",
   "metadata": {},
   "outputs": [],
   "source": [
    "df_test.Dep_Time=df_test.Dep_Time.str.split(':')"
   ]
  },
  {
   "cell_type": "code",
   "execution_count": 189,
   "id": "15a291da",
   "metadata": {},
   "outputs": [],
   "source": [
    "df_test['Dep_Time_Hour']=df_test.Dep_Time.str[0]\n",
    "df_test['Dep_Time_Min']=df_test.Dep_Time.str[1]"
   ]
  },
  {
   "cell_type": "code",
   "execution_count": 190,
   "id": "c99f3faf",
   "metadata": {},
   "outputs": [],
   "source": [
    "#treating arrival time column\n"
   ]
  },
  {
   "cell_type": "code",
   "execution_count": 191,
   "id": "6eea2eb5",
   "metadata": {},
   "outputs": [],
   "source": [
    "df_test.Arrival_Time=df_test.Arrival_Time.str.split(' ')"
   ]
  },
  {
   "cell_type": "code",
   "execution_count": 192,
   "id": "624d669a",
   "metadata": {},
   "outputs": [],
   "source": [
    "df_test['Arrival_date']=df_test.Arrival_Time.str[1]\n",
    "df_test['Time_of_arrival']=df_test.Arrival_Time.str[0]"
   ]
  },
  {
   "cell_type": "code",
   "execution_count": 193,
   "id": "dfd1a7e2",
   "metadata": {},
   "outputs": [],
   "source": [
    "df_test['Time_of_arrival']=df_test.Time_of_arrival.str.split(':')\n",
    "df_test['Arrival_Time_Hour']=df_test.Time_of_arrival.str[0]\n",
    "df_test['Arrival_Time_Min']=df_test.Time_of_arrival.str[1]"
   ]
  },
  {
   "cell_type": "code",
   "execution_count": null,
   "id": "ae2cc7d6",
   "metadata": {},
   "outputs": [],
   "source": [
    "#treating duration column"
   ]
  },
  {
   "cell_type": "code",
   "execution_count": 194,
   "id": "9d59a2b0",
   "metadata": {},
   "outputs": [],
   "source": [
    "df_test.Duration=df_test.Duration.str.split(' ')"
   ]
  },
  {
   "cell_type": "code",
   "execution_count": 195,
   "id": "2f8bc493",
   "metadata": {},
   "outputs": [],
   "source": [
    "df_test['Travel_hours']=df_test.Duration.str[0]\n",
    "df_test['Travel_hours']=df_test['Travel_hours'].str.split('h')\n",
    "df_test['Travel_hours']=df_test['Travel_hours'].str[0]\n",
    "df_test.Travel_hours=df_test.Travel_hours"
   ]
  },
  {
   "cell_type": "code",
   "execution_count": 196,
   "id": "60f50c4d",
   "metadata": {},
   "outputs": [],
   "source": [
    "df_test['Travel_mins']=df_test.Duration.str[1]\n",
    "df_test.Travel_mins=df_test.Travel_mins.str.split('m')\n",
    "df_test.Travel_mins=df_test.Travel_mins.str[0]"
   ]
  },
  {
   "cell_type": "code",
   "execution_count": 197,
   "id": "734aa5eb",
   "metadata": {},
   "outputs": [],
   "source": [
    "#treating total stops column\n",
    "df_test.Total_Stops.replace('non-stop','0',inplace=True)\n",
    "df_test.Total_Stops=df_test.Total_Stops.str.split(' ')\n",
    "df_test.Total_Stops=df_test.Total_Stops.str[0]"
   ]
  },
  {
   "cell_type": "code",
   "execution_count": 198,
   "id": "09fd22ce",
   "metadata": {},
   "outputs": [
    {
     "data": {
      "text/plain": [
       "Airline                 0\n",
       "Date_of_Journey         0\n",
       "Source                  0\n",
       "Destination             0\n",
       "Route                   0\n",
       "Dep_Time                0\n",
       "Arrival_Time            0\n",
       "Duration                0\n",
       "Total_Stops             0\n",
       "Additional_Info         0\n",
       "Date                    0\n",
       "Month                   0\n",
       "Year                    0\n",
       "City1                   0\n",
       "City2                   0\n",
       "City3                 849\n",
       "City4                2280\n",
       "City5                2659\n",
       "City6                2670\n",
       "Dep_Time_Hour           0\n",
       "Dep_Time_Min            0\n",
       "Arrival_date         1605\n",
       "Time_of_arrival         0\n",
       "Arrival_Time_Hour       0\n",
       "Arrival_Time_Min        0\n",
       "Travel_hours            0\n",
       "Travel_mins           254\n",
       "dtype: int64"
      ]
     },
     "execution_count": 198,
     "metadata": {},
     "output_type": "execute_result"
    }
   ],
   "source": [
    "df_test.isnull().sum()  #null values introduced"
   ]
  },
  {
   "cell_type": "code",
   "execution_count": 199,
   "id": "7c888118",
   "metadata": {},
   "outputs": [],
   "source": [
    "df_test['Arrival_date'].fillna(df_test['Date'],inplace=True)  #arrival date is replaced with departure date\n",
    "df_test['Travel_mins'].fillna(0,inplace=True)"
   ]
  },
  {
   "cell_type": "code",
   "execution_count": 203,
   "id": "d7dbe4ad",
   "metadata": {},
   "outputs": [],
   "source": [
    "df_test['City3'].fillna('None',inplace=True)"
   ]
  },
  {
   "cell_type": "code",
   "execution_count": 200,
   "id": "a6550d64",
   "metadata": {},
   "outputs": [],
   "source": [
    "df_test=df_test.drop(['City4','City5','City6','Date_of_Journey','Dep_Time','Arrival_Time','Route','Duration','Time_of_arrival'],axis=1)"
   ]
  },
  {
   "cell_type": "code",
   "execution_count": 201,
   "id": "5e2e9ebe",
   "metadata": {},
   "outputs": [
    {
     "data": {
      "text/html": [
       "<div>\n",
       "<style scoped>\n",
       "    .dataframe tbody tr th:only-of-type {\n",
       "        vertical-align: middle;\n",
       "    }\n",
       "\n",
       "    .dataframe tbody tr th {\n",
       "        vertical-align: top;\n",
       "    }\n",
       "\n",
       "    .dataframe thead th {\n",
       "        text-align: right;\n",
       "    }\n",
       "</style>\n",
       "<table border=\"1\" class=\"dataframe\">\n",
       "  <thead>\n",
       "    <tr style=\"text-align: right;\">\n",
       "      <th></th>\n",
       "      <th>Airline</th>\n",
       "      <th>Source</th>\n",
       "      <th>Destination</th>\n",
       "      <th>Total_Stops</th>\n",
       "      <th>Additional_Info</th>\n",
       "      <th>Date</th>\n",
       "      <th>Month</th>\n",
       "      <th>Year</th>\n",
       "      <th>City1</th>\n",
       "      <th>City2</th>\n",
       "      <th>City3</th>\n",
       "      <th>Dep_Time_Hour</th>\n",
       "      <th>Dep_Time_Min</th>\n",
       "      <th>Arrival_date</th>\n",
       "      <th>Arrival_Time_Hour</th>\n",
       "      <th>Arrival_Time_Min</th>\n",
       "      <th>Travel_hours</th>\n",
       "      <th>Travel_mins</th>\n",
       "    </tr>\n",
       "  </thead>\n",
       "  <tbody>\n",
       "    <tr>\n",
       "      <th>0</th>\n",
       "      <td>Jet Airways</td>\n",
       "      <td>Delhi</td>\n",
       "      <td>Cochin</td>\n",
       "      <td>1</td>\n",
       "      <td>No info</td>\n",
       "      <td>6</td>\n",
       "      <td>06</td>\n",
       "      <td>2019</td>\n",
       "      <td>DEL</td>\n",
       "      <td>BOM</td>\n",
       "      <td>COK</td>\n",
       "      <td>17</td>\n",
       "      <td>30</td>\n",
       "      <td>07</td>\n",
       "      <td>04</td>\n",
       "      <td>25</td>\n",
       "      <td>10</td>\n",
       "      <td>55</td>\n",
       "    </tr>\n",
       "    <tr>\n",
       "      <th>1</th>\n",
       "      <td>IndiGo</td>\n",
       "      <td>Kolkata</td>\n",
       "      <td>Banglore</td>\n",
       "      <td>1</td>\n",
       "      <td>No info</td>\n",
       "      <td>12</td>\n",
       "      <td>05</td>\n",
       "      <td>2019</td>\n",
       "      <td>CCU</td>\n",
       "      <td>MAA</td>\n",
       "      <td>BLR</td>\n",
       "      <td>06</td>\n",
       "      <td>20</td>\n",
       "      <td>12</td>\n",
       "      <td>10</td>\n",
       "      <td>20</td>\n",
       "      <td>4</td>\n",
       "      <td>0</td>\n",
       "    </tr>\n",
       "    <tr>\n",
       "      <th>2</th>\n",
       "      <td>Jet Airways</td>\n",
       "      <td>Delhi</td>\n",
       "      <td>Cochin</td>\n",
       "      <td>1</td>\n",
       "      <td>In-flight meal not included</td>\n",
       "      <td>21</td>\n",
       "      <td>05</td>\n",
       "      <td>2019</td>\n",
       "      <td>DEL</td>\n",
       "      <td>BOM</td>\n",
       "      <td>COK</td>\n",
       "      <td>19</td>\n",
       "      <td>15</td>\n",
       "      <td>22</td>\n",
       "      <td>19</td>\n",
       "      <td>00</td>\n",
       "      <td>23</td>\n",
       "      <td>45</td>\n",
       "    </tr>\n",
       "    <tr>\n",
       "      <th>3</th>\n",
       "      <td>Multiple carriers</td>\n",
       "      <td>Delhi</td>\n",
       "      <td>Cochin</td>\n",
       "      <td>1</td>\n",
       "      <td>No info</td>\n",
       "      <td>21</td>\n",
       "      <td>05</td>\n",
       "      <td>2019</td>\n",
       "      <td>DEL</td>\n",
       "      <td>BOM</td>\n",
       "      <td>COK</td>\n",
       "      <td>08</td>\n",
       "      <td>00</td>\n",
       "      <td>21</td>\n",
       "      <td>21</td>\n",
       "      <td>00</td>\n",
       "      <td>13</td>\n",
       "      <td>0</td>\n",
       "    </tr>\n",
       "    <tr>\n",
       "      <th>4</th>\n",
       "      <td>Air Asia</td>\n",
       "      <td>Banglore</td>\n",
       "      <td>Delhi</td>\n",
       "      <td>0</td>\n",
       "      <td>No info</td>\n",
       "      <td>24</td>\n",
       "      <td>06</td>\n",
       "      <td>2019</td>\n",
       "      <td>BLR</td>\n",
       "      <td>DEL</td>\n",
       "      <td>NaN</td>\n",
       "      <td>23</td>\n",
       "      <td>55</td>\n",
       "      <td>25</td>\n",
       "      <td>02</td>\n",
       "      <td>45</td>\n",
       "      <td>2</td>\n",
       "      <td>50</td>\n",
       "    </tr>\n",
       "    <tr>\n",
       "      <th>...</th>\n",
       "      <td>...</td>\n",
       "      <td>...</td>\n",
       "      <td>...</td>\n",
       "      <td>...</td>\n",
       "      <td>...</td>\n",
       "      <td>...</td>\n",
       "      <td>...</td>\n",
       "      <td>...</td>\n",
       "      <td>...</td>\n",
       "      <td>...</td>\n",
       "      <td>...</td>\n",
       "      <td>...</td>\n",
       "      <td>...</td>\n",
       "      <td>...</td>\n",
       "      <td>...</td>\n",
       "      <td>...</td>\n",
       "      <td>...</td>\n",
       "      <td>...</td>\n",
       "    </tr>\n",
       "    <tr>\n",
       "      <th>2666</th>\n",
       "      <td>Air India</td>\n",
       "      <td>Kolkata</td>\n",
       "      <td>Banglore</td>\n",
       "      <td>1</td>\n",
       "      <td>No info</td>\n",
       "      <td>6</td>\n",
       "      <td>06</td>\n",
       "      <td>2019</td>\n",
       "      <td>CCU</td>\n",
       "      <td>DEL</td>\n",
       "      <td>BLR</td>\n",
       "      <td>20</td>\n",
       "      <td>30</td>\n",
       "      <td>07</td>\n",
       "      <td>20</td>\n",
       "      <td>25</td>\n",
       "      <td>23</td>\n",
       "      <td>55</td>\n",
       "    </tr>\n",
       "    <tr>\n",
       "      <th>2667</th>\n",
       "      <td>IndiGo</td>\n",
       "      <td>Kolkata</td>\n",
       "      <td>Banglore</td>\n",
       "      <td>0</td>\n",
       "      <td>No info</td>\n",
       "      <td>27</td>\n",
       "      <td>03</td>\n",
       "      <td>2019</td>\n",
       "      <td>CCU</td>\n",
       "      <td>BLR</td>\n",
       "      <td>NaN</td>\n",
       "      <td>14</td>\n",
       "      <td>20</td>\n",
       "      <td>27</td>\n",
       "      <td>16</td>\n",
       "      <td>55</td>\n",
       "      <td>2</td>\n",
       "      <td>35</td>\n",
       "    </tr>\n",
       "    <tr>\n",
       "      <th>2668</th>\n",
       "      <td>Jet Airways</td>\n",
       "      <td>Delhi</td>\n",
       "      <td>Cochin</td>\n",
       "      <td>1</td>\n",
       "      <td>No info</td>\n",
       "      <td>6</td>\n",
       "      <td>03</td>\n",
       "      <td>2019</td>\n",
       "      <td>DEL</td>\n",
       "      <td>BOM</td>\n",
       "      <td>COK</td>\n",
       "      <td>21</td>\n",
       "      <td>50</td>\n",
       "      <td>07</td>\n",
       "      <td>04</td>\n",
       "      <td>25</td>\n",
       "      <td>6</td>\n",
       "      <td>35</td>\n",
       "    </tr>\n",
       "    <tr>\n",
       "      <th>2669</th>\n",
       "      <td>Air India</td>\n",
       "      <td>Delhi</td>\n",
       "      <td>Cochin</td>\n",
       "      <td>1</td>\n",
       "      <td>No info</td>\n",
       "      <td>6</td>\n",
       "      <td>03</td>\n",
       "      <td>2019</td>\n",
       "      <td>DEL</td>\n",
       "      <td>BOM</td>\n",
       "      <td>COK</td>\n",
       "      <td>04</td>\n",
       "      <td>00</td>\n",
       "      <td>6</td>\n",
       "      <td>19</td>\n",
       "      <td>15</td>\n",
       "      <td>15</td>\n",
       "      <td>15</td>\n",
       "    </tr>\n",
       "    <tr>\n",
       "      <th>2670</th>\n",
       "      <td>Multiple carriers</td>\n",
       "      <td>Delhi</td>\n",
       "      <td>Cochin</td>\n",
       "      <td>1</td>\n",
       "      <td>No info</td>\n",
       "      <td>15</td>\n",
       "      <td>06</td>\n",
       "      <td>2019</td>\n",
       "      <td>DEL</td>\n",
       "      <td>BOM</td>\n",
       "      <td>COK</td>\n",
       "      <td>04</td>\n",
       "      <td>55</td>\n",
       "      <td>15</td>\n",
       "      <td>19</td>\n",
       "      <td>15</td>\n",
       "      <td>14</td>\n",
       "      <td>20</td>\n",
       "    </tr>\n",
       "  </tbody>\n",
       "</table>\n",
       "<p>2671 rows × 18 columns</p>\n",
       "</div>"
      ],
      "text/plain": [
       "                Airline    Source Destination Total_Stops  \\\n",
       "0           Jet Airways     Delhi      Cochin           1   \n",
       "1                IndiGo   Kolkata    Banglore           1   \n",
       "2           Jet Airways     Delhi      Cochin           1   \n",
       "3     Multiple carriers     Delhi      Cochin           1   \n",
       "4              Air Asia  Banglore       Delhi           0   \n",
       "...                 ...       ...         ...         ...   \n",
       "2666          Air India   Kolkata    Banglore           1   \n",
       "2667             IndiGo   Kolkata    Banglore           0   \n",
       "2668        Jet Airways     Delhi      Cochin           1   \n",
       "2669          Air India     Delhi      Cochin           1   \n",
       "2670  Multiple carriers     Delhi      Cochin           1   \n",
       "\n",
       "                  Additional_Info Date Month  Year City1  City2 City3  \\\n",
       "0                         No info    6    06  2019  DEL    BOM    COK   \n",
       "1                         No info   12    05  2019  CCU    MAA    BLR   \n",
       "2     In-flight meal not included   21    05  2019  DEL    BOM    COK   \n",
       "3                         No info   21    05  2019  DEL    BOM    COK   \n",
       "4                         No info   24    06  2019  BLR     DEL   NaN   \n",
       "...                           ...  ...   ...   ...   ...    ...   ...   \n",
       "2666                      No info    6    06  2019  CCU    DEL    BLR   \n",
       "2667                      No info   27    03  2019  CCU     BLR   NaN   \n",
       "2668                      No info    6    03  2019  DEL    BOM    COK   \n",
       "2669                      No info    6    03  2019  DEL    BOM    COK   \n",
       "2670                      No info   15    06  2019  DEL    BOM    COK   \n",
       "\n",
       "     Dep_Time_Hour Dep_Time_Min Arrival_date Arrival_Time_Hour  \\\n",
       "0               17           30           07                04   \n",
       "1               06           20           12                10   \n",
       "2               19           15           22                19   \n",
       "3               08           00           21                21   \n",
       "4               23           55           25                02   \n",
       "...            ...          ...          ...               ...   \n",
       "2666            20           30           07                20   \n",
       "2667            14           20           27                16   \n",
       "2668            21           50           07                04   \n",
       "2669            04           00            6                19   \n",
       "2670            04           55           15                19   \n",
       "\n",
       "     Arrival_Time_Min Travel_hours Travel_mins  \n",
       "0                  25           10          55  \n",
       "1                  20            4           0  \n",
       "2                  00           23          45  \n",
       "3                  00           13           0  \n",
       "4                  45            2          50  \n",
       "...               ...          ...         ...  \n",
       "2666               25           23          55  \n",
       "2667               55            2          35  \n",
       "2668               25            6          35  \n",
       "2669               15           15          15  \n",
       "2670               15           14          20  \n",
       "\n",
       "[2671 rows x 18 columns]"
      ]
     },
     "execution_count": 201,
     "metadata": {},
     "output_type": "execute_result"
    }
   ],
   "source": [
    "df_test"
   ]
  },
  {
   "cell_type": "code",
   "execution_count": 204,
   "id": "71ed7953",
   "metadata": {},
   "outputs": [
    {
     "data": {
      "text/plain": [
       "Airline              0\n",
       "Source               0\n",
       "Destination          0\n",
       "Total_Stops          0\n",
       "Additional_Info      0\n",
       "Date                 0\n",
       "Month                0\n",
       "Year                 0\n",
       "City1                0\n",
       "City2                0\n",
       "City3                0\n",
       "Dep_Time_Hour        0\n",
       "Dep_Time_Min         0\n",
       "Arrival_date         0\n",
       "Arrival_Time_Hour    0\n",
       "Arrival_Time_Min     0\n",
       "Travel_hours         0\n",
       "Travel_mins          0\n",
       "dtype: int64"
      ]
     },
     "execution_count": 204,
     "metadata": {},
     "output_type": "execute_result"
    }
   ],
   "source": [
    "df_test.isnull().sum()  #No null  values"
   ]
  },
  {
   "cell_type": "code",
   "execution_count": 206,
   "id": "4e495688",
   "metadata": {},
   "outputs": [],
   "source": [
    "df_test.Total_Stops=df_test.Total_Stops.astype('int64')  #changing data type\n",
    "df_test.Date=df_test.Date.astype('int64')\n",
    "df_test.Month=df_test.Month.astype('int64')\n",
    "df_test.Year=df_test.Year.astype('int64')\n",
    "df_test.Dep_Time_Hour=df_test.Dep_Time_Hour.astype('int64')\n",
    "df_test.Dep_Time_Min=df_test.Dep_Time_Min.astype('int64')\n",
    "df_test.Arrival_date=df_test.Arrival_date.astype('int64')\n",
    "df_test.Arrival_Time_Hour=df_test.Arrival_Time_Hour.astype('int64')\n",
    "df_test.Arrival_Time_Min=df_test.Arrival_Time_Min.astype('int64')\n",
    "#df_test.Travel_hours=df_test.Travel_hours.astype('int64') #problem with this column\n",
    "df_test.Travel_mins=df_test.Travel_mins.astype('int64')"
   ]
  },
  {
   "cell_type": "code",
   "execution_count": 207,
   "id": "9e41478f",
   "metadata": {},
   "outputs": [
    {
     "data": {
      "text/html": [
       "<div>\n",
       "<style scoped>\n",
       "    .dataframe tbody tr th:only-of-type {\n",
       "        vertical-align: middle;\n",
       "    }\n",
       "\n",
       "    .dataframe tbody tr th {\n",
       "        vertical-align: top;\n",
       "    }\n",
       "\n",
       "    .dataframe thead th {\n",
       "        text-align: right;\n",
       "    }\n",
       "</style>\n",
       "<table border=\"1\" class=\"dataframe\">\n",
       "  <thead>\n",
       "    <tr style=\"text-align: right;\">\n",
       "      <th></th>\n",
       "      <th>Airline</th>\n",
       "      <th>Source</th>\n",
       "      <th>Destination</th>\n",
       "      <th>Total_Stops</th>\n",
       "      <th>Additional_Info</th>\n",
       "      <th>Date</th>\n",
       "      <th>Month</th>\n",
       "      <th>Year</th>\n",
       "      <th>City1</th>\n",
       "      <th>City2</th>\n",
       "      <th>City3</th>\n",
       "      <th>Dep_Time_Hour</th>\n",
       "      <th>Dep_Time_Min</th>\n",
       "      <th>Arrival_date</th>\n",
       "      <th>Arrival_Time_Hour</th>\n",
       "      <th>Arrival_Time_Min</th>\n",
       "      <th>Travel_hours</th>\n",
       "      <th>Travel_mins</th>\n",
       "    </tr>\n",
       "  </thead>\n",
       "  <tbody>\n",
       "    <tr>\n",
       "      <th>2660</th>\n",
       "      <td>Air India</td>\n",
       "      <td>Mumbai</td>\n",
       "      <td>Hyderabad</td>\n",
       "      <td>2</td>\n",
       "      <td>No info</td>\n",
       "      <td>12</td>\n",
       "      <td>3</td>\n",
       "      <td>2019</td>\n",
       "      <td>BOM</td>\n",
       "      <td>GOI</td>\n",
       "      <td>PNQ</td>\n",
       "      <td>16</td>\n",
       "      <td>50</td>\n",
       "      <td>12</td>\n",
       "      <td>16</td>\n",
       "      <td>55</td>\n",
       "      <td>5m</td>\n",
       "      <td>0</td>\n",
       "    </tr>\n",
       "  </tbody>\n",
       "</table>\n",
       "</div>"
      ],
      "text/plain": [
       "        Airline  Source Destination  Total_Stops Additional_Info  Date  Month  \\\n",
       "2660  Air India  Mumbai   Hyderabad            2         No info    12      3   \n",
       "\n",
       "      Year City1  City2  City3  Dep_Time_Hour  Dep_Time_Min  Arrival_date  \\\n",
       "2660  2019  BOM    GOI    PNQ              16            50            12   \n",
       "\n",
       "      Arrival_Time_Hour  Arrival_Time_Min Travel_hours  Travel_mins  \n",
       "2660                 16                55           5m            0  "
      ]
     },
     "execution_count": 207,
     "metadata": {},
     "output_type": "execute_result"
    }
   ],
   "source": [
    "df_test[df_test['Travel_hours']=='5m'] #its a wrong data entered as it cant be 5m"
   ]
  },
  {
   "cell_type": "code",
   "execution_count": 208,
   "id": "59d329d9",
   "metadata": {},
   "outputs": [],
   "source": [
    "df_test.drop(index=2660,inplace=True,axis=0)"
   ]
  },
  {
   "cell_type": "code",
   "execution_count": 209,
   "id": "b6868fa3",
   "metadata": {},
   "outputs": [],
   "source": [
    "df_test.Travel_hours=df_test.Travel_hours.astype('int64')"
   ]
  },
  {
   "cell_type": "code",
   "execution_count": 210,
   "id": "8cb59e76",
   "metadata": {},
   "outputs": [
    {
     "data": {
      "text/plain": [
       "Airline              object\n",
       "Source               object\n",
       "Destination          object\n",
       "Total_Stops           int64\n",
       "Additional_Info      object\n",
       "Date                  int64\n",
       "Month                 int64\n",
       "Year                  int64\n",
       "City1                object\n",
       "City2                object\n",
       "City3                object\n",
       "Dep_Time_Hour         int64\n",
       "Dep_Time_Min          int64\n",
       "Arrival_date          int64\n",
       "Arrival_Time_Hour     int64\n",
       "Arrival_Time_Min      int64\n",
       "Travel_hours          int64\n",
       "Travel_mins           int64\n",
       "dtype: object"
      ]
     },
     "execution_count": 210,
     "metadata": {},
     "output_type": "execute_result"
    }
   ],
   "source": [
    "df_test.dtypes"
   ]
  },
  {
   "cell_type": "code",
   "execution_count": 211,
   "id": "8f057dfc",
   "metadata": {},
   "outputs": [],
   "source": [
    "df_test=df_test.drop(['Year','City1','Dep_Time_Min','Arrival_Time_Min','Travel_mins'],axis=1) #from train data observation"
   ]
  },
  {
   "cell_type": "code",
   "execution_count": 212,
   "id": "66b869b0",
   "metadata": {},
   "outputs": [
    {
     "data": {
      "text/plain": [
       "Total_Stops          0.321839\n",
       "Date                 0.199380\n",
       "Month               -0.404578\n",
       "Dep_Time_Hour        0.094352\n",
       "Arrival_date         0.199796\n",
       "Arrival_Time_Hour   -0.442742\n",
       "Travel_hours         0.884521\n",
       "dtype: float64"
      ]
     },
     "execution_count": 212,
     "metadata": {},
     "output_type": "execute_result"
    }
   ],
   "source": [
    "df_test.skew()  #skewness"
   ]
  },
  {
   "cell_type": "code",
   "execution_count": null,
   "id": "e4f110ab",
   "metadata": {},
   "outputs": [],
   "source": [
    "#remove skewness with threshold 0f +/-0.5"
   ]
  },
  {
   "cell_type": "code",
   "execution_count": 213,
   "id": "17d3701e",
   "metadata": {},
   "outputs": [
    {
     "data": {
      "text/plain": [
       "-0.2976529378192759"
      ]
     },
     "execution_count": 213,
     "metadata": {},
     "output_type": "execute_result"
    }
   ],
   "source": [
    "df_test.Travel_hours=np.log(df_test.Travel_hours)\n",
    "df_test.Travel_hours.skew()"
   ]
  },
  {
   "cell_type": "code",
   "execution_count": 214,
   "id": "7ff3253a",
   "metadata": {},
   "outputs": [
    {
     "data": {
      "text/plain": [
       "array([[<AxesSubplot:ylabel='Density'>, <AxesSubplot:ylabel='Density'>,\n",
       "        <AxesSubplot:ylabel='Density'>, <AxesSubplot:ylabel='Density'>],\n",
       "       [<AxesSubplot:ylabel='Density'>, <AxesSubplot:ylabel='Density'>,\n",
       "        <AxesSubplot:ylabel='Density'>, <AxesSubplot:ylabel='Density'>],\n",
       "       [<AxesSubplot:ylabel='Density'>, <AxesSubplot:ylabel='Density'>,\n",
       "        <AxesSubplot:ylabel='Density'>, <AxesSubplot:ylabel='Density'>]],\n",
       "      dtype=object)"
      ]
     },
     "execution_count": 214,
     "metadata": {},
     "output_type": "execute_result"
    },
    {
     "data": {
      "image/png": "[encoded data removed]",
      "text/plain": [
       "<Figure size 720x864 with 12 Axes>"
      ]
     },
     "metadata": {
      "needs_background": "light"
     },
     "output_type": "display_data"
    }
   ],
   "source": [
    "df_test.plot(kind='kde',subplots=True,layout=(3,4),figsize=(10,12))  #to check skewness"
   ]
  },
  {
   "cell_type": "code",
   "execution_count": 215,
   "id": "a289a870",
   "metadata": {},
   "outputs": [],
   "source": [
    "#checking Outliers"
   ]
  },
  {
   "cell_type": "code",
   "execution_count": 216,
   "id": "dd18648d",
   "metadata": {},
   "outputs": [
    {
     "data": {
      "text/plain": [
       "Total_Stops             AxesSubplot(0.125,0.657941;0.168478x0.222059)\n",
       "Date                 AxesSubplot(0.327174,0.657941;0.168478x0.222059)\n",
       "Month                AxesSubplot(0.529348,0.657941;0.168478x0.222059)\n",
       "Dep_Time_Hour        AxesSubplot(0.731522,0.657941;0.168478x0.222059)\n",
       "Arrival_date            AxesSubplot(0.125,0.391471;0.168478x0.222059)\n",
       "Arrival_Time_Hour    AxesSubplot(0.327174,0.391471;0.168478x0.222059)\n",
       "Travel_hours         AxesSubplot(0.529348,0.391471;0.168478x0.222059)\n",
       "dtype: object"
      ]
     },
     "execution_count": 216,
     "metadata": {},
     "output_type": "execute_result"
    },
    {
     "data": {
      "image/png": "[encoded data removed]",
      "text/plain": [
       "<Figure size 720x864 with 12 Axes>"
      ]
     },
     "metadata": {
      "needs_background": "light"
     },
     "output_type": "display_data"
    }
   ],
   "source": [
    "df_test.plot(kind='box',subplots=True,layout=(3,4),figsize=(10,12))"
   ]
  },
  {
   "cell_type": "code",
   "execution_count": 217,
   "id": "97575b6d",
   "metadata": {},
   "outputs": [
    {
     "name": "stdout",
     "output_type": "stream",
     "text": [
      "Airline\n",
      "Source\n",
      "Destination\n",
      "Additional_Info\n",
      "City2\n",
      "City3\n"
     ]
    }
   ],
   "source": [
    "from sklearn.preprocessing import LabelEncoder  #changing object data into int\n",
    "le=LabelEncoder()\n",
    "\n",
    "for i in df_test.columns:\n",
    "    if df_test[i].dtypes == 'object':\n",
    "        print(i)\n",
    "        df_test[i]=le.fit_transform(df_test[i])"
   ]
  },
  {
   "cell_type": "code",
   "execution_count": 218,
   "id": "433d9aed",
   "metadata": {},
   "outputs": [
    {
     "data": {
      "text/html": [
       "<div>\n",
       "<style scoped>\n",
       "    .dataframe tbody tr th:only-of-type {\n",
       "        vertical-align: middle;\n",
       "    }\n",
       "\n",
       "    .dataframe tbody tr th {\n",
       "        vertical-align: top;\n",
       "    }\n",
       "\n",
       "    .dataframe thead th {\n",
       "        text-align: right;\n",
       "    }\n",
       "</style>\n",
       "<table border=\"1\" class=\"dataframe\">\n",
       "  <thead>\n",
       "    <tr style=\"text-align: right;\">\n",
       "      <th></th>\n",
       "      <th>Airline</th>\n",
       "      <th>Source</th>\n",
       "      <th>Destination</th>\n",
       "      <th>Total_Stops</th>\n",
       "      <th>Additional_Info</th>\n",
       "      <th>Date</th>\n",
       "      <th>Month</th>\n",
       "      <th>City2</th>\n",
       "      <th>City3</th>\n",
       "      <th>Dep_Time_Hour</th>\n",
       "      <th>Arrival_date</th>\n",
       "      <th>Arrival_Time_Hour</th>\n",
       "      <th>Travel_hours</th>\n",
       "    </tr>\n",
       "  </thead>\n",
       "  <tbody>\n",
       "    <tr>\n",
       "      <th>0</th>\n",
       "      <td>4</td>\n",
       "      <td>2</td>\n",
       "      <td>1</td>\n",
       "      <td>1</td>\n",
       "      <td>5</td>\n",
       "      <td>6</td>\n",
       "      <td>6</td>\n",
       "      <td>7</td>\n",
       "      <td>5</td>\n",
       "      <td>17</td>\n",
       "      <td>7</td>\n",
       "      <td>4</td>\n",
       "      <td>2.302585</td>\n",
       "    </tr>\n",
       "    <tr>\n",
       "      <th>1</th>\n",
       "      <td>3</td>\n",
       "      <td>3</td>\n",
       "      <td>0</td>\n",
       "      <td>1</td>\n",
       "      <td>5</td>\n",
       "      <td>12</td>\n",
       "      <td>5</td>\n",
       "      <td>29</td>\n",
       "      <td>3</td>\n",
       "      <td>6</td>\n",
       "      <td>12</td>\n",
       "      <td>10</td>\n",
       "      <td>1.386294</td>\n",
       "    </tr>\n",
       "    <tr>\n",
       "      <th>2</th>\n",
       "      <td>4</td>\n",
       "      <td>2</td>\n",
       "      <td>1</td>\n",
       "      <td>1</td>\n",
       "      <td>3</td>\n",
       "      <td>21</td>\n",
       "      <td>5</td>\n",
       "      <td>7</td>\n",
       "      <td>5</td>\n",
       "      <td>19</td>\n",
       "      <td>22</td>\n",
       "      <td>19</td>\n",
       "      <td>3.135494</td>\n",
       "    </tr>\n",
       "    <tr>\n",
       "      <th>3</th>\n",
       "      <td>6</td>\n",
       "      <td>2</td>\n",
       "      <td>1</td>\n",
       "      <td>1</td>\n",
       "      <td>5</td>\n",
       "      <td>21</td>\n",
       "      <td>5</td>\n",
       "      <td>7</td>\n",
       "      <td>5</td>\n",
       "      <td>8</td>\n",
       "      <td>21</td>\n",
       "      <td>21</td>\n",
       "      <td>2.564949</td>\n",
       "    </tr>\n",
       "    <tr>\n",
       "      <th>4</th>\n",
       "      <td>0</td>\n",
       "      <td>0</td>\n",
       "      <td>2</td>\n",
       "      <td>0</td>\n",
       "      <td>5</td>\n",
       "      <td>24</td>\n",
       "      <td>6</td>\n",
       "      <td>13</td>\n",
       "      <td>26</td>\n",
       "      <td>23</td>\n",
       "      <td>25</td>\n",
       "      <td>2</td>\n",
       "      <td>0.693147</td>\n",
       "    </tr>\n",
       "    <tr>\n",
       "      <th>...</th>\n",
       "      <td>...</td>\n",
       "      <td>...</td>\n",
       "      <td>...</td>\n",
       "      <td>...</td>\n",
       "      <td>...</td>\n",
       "      <td>...</td>\n",
       "      <td>...</td>\n",
       "      <td>...</td>\n",
       "      <td>...</td>\n",
       "      <td>...</td>\n",
       "      <td>...</td>\n",
       "      <td>...</td>\n",
       "      <td>...</td>\n",
       "    </tr>\n",
       "    <tr>\n",
       "      <th>2666</th>\n",
       "      <td>1</td>\n",
       "      <td>3</td>\n",
       "      <td>0</td>\n",
       "      <td>1</td>\n",
       "      <td>5</td>\n",
       "      <td>6</td>\n",
       "      <td>6</td>\n",
       "      <td>14</td>\n",
       "      <td>3</td>\n",
       "      <td>20</td>\n",
       "      <td>7</td>\n",
       "      <td>20</td>\n",
       "      <td>3.135494</td>\n",
       "    </tr>\n",
       "    <tr>\n",
       "      <th>2667</th>\n",
       "      <td>3</td>\n",
       "      <td>3</td>\n",
       "      <td>0</td>\n",
       "      <td>0</td>\n",
       "      <td>5</td>\n",
       "      <td>27</td>\n",
       "      <td>3</td>\n",
       "      <td>5</td>\n",
       "      <td>26</td>\n",
       "      <td>14</td>\n",
       "      <td>27</td>\n",
       "      <td>16</td>\n",
       "      <td>0.693147</td>\n",
       "    </tr>\n",
       "    <tr>\n",
       "      <th>2668</th>\n",
       "      <td>4</td>\n",
       "      <td>2</td>\n",
       "      <td>1</td>\n",
       "      <td>1</td>\n",
       "      <td>5</td>\n",
       "      <td>6</td>\n",
       "      <td>3</td>\n",
       "      <td>7</td>\n",
       "      <td>5</td>\n",
       "      <td>21</td>\n",
       "      <td>7</td>\n",
       "      <td>4</td>\n",
       "      <td>1.791759</td>\n",
       "    </tr>\n",
       "    <tr>\n",
       "      <th>2669</th>\n",
       "      <td>1</td>\n",
       "      <td>2</td>\n",
       "      <td>1</td>\n",
       "      <td>1</td>\n",
       "      <td>5</td>\n",
       "      <td>6</td>\n",
       "      <td>3</td>\n",
       "      <td>7</td>\n",
       "      <td>5</td>\n",
       "      <td>4</td>\n",
       "      <td>6</td>\n",
       "      <td>19</td>\n",
       "      <td>2.708050</td>\n",
       "    </tr>\n",
       "    <tr>\n",
       "      <th>2670</th>\n",
       "      <td>6</td>\n",
       "      <td>2</td>\n",
       "      <td>1</td>\n",
       "      <td>1</td>\n",
       "      <td>5</td>\n",
       "      <td>15</td>\n",
       "      <td>6</td>\n",
       "      <td>7</td>\n",
       "      <td>5</td>\n",
       "      <td>4</td>\n",
       "      <td>15</td>\n",
       "      <td>19</td>\n",
       "      <td>2.639057</td>\n",
       "    </tr>\n",
       "  </tbody>\n",
       "</table>\n",
       "<p>2670 rows × 13 columns</p>\n",
       "</div>"
      ],
      "text/plain": [
       "      Airline  Source  Destination  Total_Stops  Additional_Info  Date  Month  \\\n",
       "0           4       2            1            1                5     6      6   \n",
       "1           3       3            0            1                5    12      5   \n",
       "2           4       2            1            1                3    21      5   \n",
       "3           6       2            1            1                5    21      5   \n",
       "4           0       0            2            0                5    24      6   \n",
       "...       ...     ...          ...          ...              ...   ...    ...   \n",
       "2666        1       3            0            1                5     6      6   \n",
       "2667        3       3            0            0                5    27      3   \n",
       "2668        4       2            1            1                5     6      3   \n",
       "2669        1       2            1            1                5     6      3   \n",
       "2670        6       2            1            1                5    15      6   \n",
       "\n",
       "      City2  City3  Dep_Time_Hour  Arrival_date  Arrival_Time_Hour  \\\n",
       "0         7      5             17             7                  4   \n",
       "1        29      3              6            12                 10   \n",
       "2         7      5             19            22                 19   \n",
       "3         7      5              8            21                 21   \n",
       "4        13     26             23            25                  2   \n",
       "...     ...    ...            ...           ...                ...   \n",
       "2666     14      3             20             7                 20   \n",
       "2667      5     26             14            27                 16   \n",
       "2668      7      5             21             7                  4   \n",
       "2669      7      5              4             6                 19   \n",
       "2670      7      5              4            15                 19   \n",
       "\n",
       "      Travel_hours  \n",
       "0         2.302585  \n",
       "1         1.386294  \n",
       "2         3.135494  \n",
       "3         2.564949  \n",
       "4         0.693147  \n",
       "...            ...  \n",
       "2666      3.135494  \n",
       "2667      0.693147  \n",
       "2668      1.791759  \n",
       "2669      2.708050  \n",
       "2670      2.639057  \n",
       "\n",
       "[2670 rows x 13 columns]"
      ]
     },
     "execution_count": 218,
     "metadata": {},
     "output_type": "execute_result"
    }
   ],
   "source": [
    "df_test  #transformed data"
   ]
  },
  {
   "cell_type": "code",
   "execution_count": 219,
   "id": "ea69d8d6",
   "metadata": {},
   "outputs": [],
   "source": [
    "x1=df_test"
   ]
  },
  {
   "cell_type": "code",
   "execution_count": 220,
   "id": "08bb266b",
   "metadata": {},
   "outputs": [
    {
     "data": {
      "text/plain": [
       "array([[ 0.01142395,  0.03322365, -0.2944895 , ..., -0.76597806,\n",
       "        -1.3613553 ,  0.40386897],\n",
       "       [-0.42431817,  0.87805355, -0.97584735, ..., -0.15856451,\n",
       "        -0.50911177, -0.50733323],\n",
       "       [ 0.01142395,  0.03322365, -0.2944895 , ...,  1.05626258,\n",
       "         0.76925352,  1.23215262],\n",
       "       ...,\n",
       "       [ 0.01142395,  0.03322365, -0.2944895 , ..., -0.76597806,\n",
       "        -1.3613553 , -0.10411983],\n",
       "       [-1.2958024 ,  0.03322365, -0.2944895 , ..., -0.88746077,\n",
       "         0.76925352,  0.80708237],\n",
       "       [ 0.88290818,  0.03322365, -0.2944895 , ...,  0.20588362,\n",
       "         0.76925352,  0.73847264]])"
      ]
     },
     "execution_count": 220,
     "metadata": {},
     "output_type": "execute_result"
    }
   ],
   "source": [
    "from sklearn.preprocessing import StandardScaler #scaling the model\n",
    "sc=StandardScaler()\n",
    "x1=sc.fit_transform(x1)\n",
    "x1"
   ]
  },
  {
   "cell_type": "code",
   "execution_count": 221,
   "id": "8ff9f3a7",
   "metadata": {},
   "outputs": [],
   "source": [
    "#loading training model"
   ]
  },
  {
   "cell_type": "code",
   "execution_count": 223,
   "id": "c0ec0946",
   "metadata": {},
   "outputs": [],
   "source": [
    "loadmodel=pickle.load(open('flight_price.pkl','rb'))"
   ]
  },
  {
   "cell_type": "code",
   "execution_count": 224,
   "id": "f05a4663",
   "metadata": {},
   "outputs": [],
   "source": [
    "prices=loadmodel.predict(x1)"
   ]
  },
  {
   "cell_type": "code",
   "execution_count": 225,
   "id": "b3d0ac26",
   "metadata": {},
   "outputs": [
    {
     "data": {
      "text/plain": [
       "array([14714.        ,  4430.81666667, 12898.        , ...,\n",
       "       15765.75      , 14221.16666667,  9834.9925    ])"
      ]
     },
     "execution_count": 225,
     "metadata": {},
     "output_type": "execute_result"
    }
   ],
   "source": [
    "prices"
   ]
  },
  {
   "cell_type": "code",
   "execution_count": 226,
   "id": "1e4a5b03",
   "metadata": {},
   "outputs": [],
   "source": [
    "price_list=pd.DataFrame({'Price':prices})"
   ]
  },
  {
   "cell_type": "code",
   "execution_count": 227,
   "id": "54c497fe",
   "metadata": {},
   "outputs": [
    {
     "data": {
      "text/html": [
       "<div>\n",
       "<style scoped>\n",
       "    .dataframe tbody tr th:only-of-type {\n",
       "        vertical-align: middle;\n",
       "    }\n",
       "\n",
       "    .dataframe tbody tr th {\n",
       "        vertical-align: top;\n",
       "    }\n",
       "\n",
       "    .dataframe thead th {\n",
       "        text-align: right;\n",
       "    }\n",
       "</style>\n",
       "<table border=\"1\" class=\"dataframe\">\n",
       "  <thead>\n",
       "    <tr style=\"text-align: right;\">\n",
       "      <th></th>\n",
       "      <th>Price</th>\n",
       "    </tr>\n",
       "  </thead>\n",
       "  <tbody>\n",
       "    <tr>\n",
       "      <th>0</th>\n",
       "      <td>14714.000000</td>\n",
       "    </tr>\n",
       "    <tr>\n",
       "      <th>1</th>\n",
       "      <td>4430.816667</td>\n",
       "    </tr>\n",
       "    <tr>\n",
       "      <th>2</th>\n",
       "      <td>12898.000000</td>\n",
       "    </tr>\n",
       "    <tr>\n",
       "      <th>3</th>\n",
       "      <td>12008.217222</td>\n",
       "    </tr>\n",
       "    <tr>\n",
       "      <th>4</th>\n",
       "      <td>3777.633333</td>\n",
       "    </tr>\n",
       "    <tr>\n",
       "      <th>...</th>\n",
       "      <td>...</td>\n",
       "    </tr>\n",
       "    <tr>\n",
       "      <th>2665</th>\n",
       "      <td>8056.250000</td>\n",
       "    </tr>\n",
       "    <tr>\n",
       "      <th>2666</th>\n",
       "      <td>4680.375000</td>\n",
       "    </tr>\n",
       "    <tr>\n",
       "      <th>2667</th>\n",
       "      <td>15765.750000</td>\n",
       "    </tr>\n",
       "    <tr>\n",
       "      <th>2668</th>\n",
       "      <td>14221.166667</td>\n",
       "    </tr>\n",
       "    <tr>\n",
       "      <th>2669</th>\n",
       "      <td>9834.992500</td>\n",
       "    </tr>\n",
       "  </tbody>\n",
       "</table>\n",
       "<p>2670 rows × 1 columns</p>\n",
       "</div>"
      ],
      "text/plain": [
       "             Price\n",
       "0     14714.000000\n",
       "1      4430.816667\n",
       "2     12898.000000\n",
       "3     12008.217222\n",
       "4      3777.633333\n",
       "...            ...\n",
       "2665   8056.250000\n",
       "2666   4680.375000\n",
       "2667  15765.750000\n",
       "2668  14221.166667\n",
       "2669   9834.992500\n",
       "\n",
       "[2670 rows x 1 columns]"
      ]
     },
     "execution_count": 227,
     "metadata": {},
     "output_type": "execute_result"
    }
   ],
   "source": [
    "price_list"
   ]
  },
  {
   "cell_type": "code",
   "execution_count": 228,
   "id": "c2480508",
   "metadata": {},
   "outputs": [],
   "source": [
    "#hence we have predicted the pricelist for testing data set"
   ]
  },
  {
   "cell_type": "code",
   "execution_count": 229,
   "id": "66291142",
   "metadata": {},
   "outputs": [],
   "source": [
    "#Hence, we were successfully able to train our regression model ‘Random Forest Regressor’ to predict the flights of prices with an r2_score of 85%, and have achieved it."
   ]
  },
  {
   "cell_type": "code",
   "execution_count": null,
   "id": "156c7a83",
   "metadata": {},
   "outputs": [],
   "source": []
  }
 ],
 "metadata": {
  "kernelspec": {
   "display_name": "Python 3 (ipykernel)",
   "language": "python",
   "name": "python3"
  },
  "language_info": {
   "codemirror_mode": {
    "name": "ipython",
    "version": 3
   },
   "file_extension": ".py",
   "mimetype": "text/x-python",
   "name": "python",
   "nbconvert_exporter": "python",
   "pygments_lexer": "ipython3",
   "version": "3.9.7"
  }
 },
 "nbformat": 4,
 "nbformat_minor": 5
}
