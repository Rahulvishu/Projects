{
 "cells": [
  {
   "cell_type": "code",
   "execution_count": 1,
   "id": "6c4a6472",
   "metadata": {},
   "outputs": [],
   "source": [
    "import pandas as pd\n",
    "import numpy as np\n",
    "import seaborn as sns\n",
    "import matplotlib.pyplot as plt\n",
    "import warnings\n",
    "warnings.filterwarnings('ignore')"
   ]
  },
  {
   "cell_type": "code",
   "execution_count": 2,
   "id": "29f8b269",
   "metadata": {},
   "outputs": [],
   "source": [
    "from pandas import ExcelWriter\n",
    "from pandas import ExcelFile\n"
   ]
  },
  {
   "cell_type": "code",
   "execution_count": 3,
   "id": "0497a46b",
   "metadata": {},
   "outputs": [],
   "source": [
    "df=pd.read_excel('avacado.xlsx',index_col=0)"
   ]
  },
  {
   "cell_type": "code",
   "execution_count": 4,
   "id": "b7971daf",
   "metadata": {},
   "outputs": [
    {
     "data": {
      "text/html": [
       "<div>\n",
       "<style scoped>\n",
       "    .dataframe tbody tr th:only-of-type {\n",
       "        vertical-align: middle;\n",
       "    }\n",
       "\n",
       "    .dataframe tbody tr th {\n",
       "        vertical-align: top;\n",
       "    }\n",
       "\n",
       "    .dataframe thead th {\n",
       "        text-align: right;\n",
       "    }\n",
       "</style>\n",
       "<table border=\"1\" class=\"dataframe\">\n",
       "  <thead>\n",
       "    <tr style=\"text-align: right;\">\n",
       "      <th></th>\n",
       "      <th>Date</th>\n",
       "      <th>AveragePrice</th>\n",
       "      <th>Total Volume</th>\n",
       "      <th>4046</th>\n",
       "      <th>4225</th>\n",
       "      <th>4770</th>\n",
       "      <th>Total Bags</th>\n",
       "      <th>Small Bags</th>\n",
       "      <th>Large Bags</th>\n",
       "      <th>XLarge Bags</th>\n",
       "      <th>type</th>\n",
       "      <th>year</th>\n",
       "      <th>region</th>\n",
       "    </tr>\n",
       "  </thead>\n",
       "  <tbody>\n",
       "    <tr>\n",
       "      <th>0</th>\n",
       "      <td>2015-12-27</td>\n",
       "      <td>1.33</td>\n",
       "      <td>64236.62</td>\n",
       "      <td>1036.74</td>\n",
       "      <td>54454.85</td>\n",
       "      <td>48.16</td>\n",
       "      <td>8696.87</td>\n",
       "      <td>8603.62</td>\n",
       "      <td>93.25</td>\n",
       "      <td>0.0</td>\n",
       "      <td>conventional</td>\n",
       "      <td>2015</td>\n",
       "      <td>Albany</td>\n",
       "    </tr>\n",
       "    <tr>\n",
       "      <th>1</th>\n",
       "      <td>2015-12-20</td>\n",
       "      <td>1.35</td>\n",
       "      <td>54876.98</td>\n",
       "      <td>674.28</td>\n",
       "      <td>44638.81</td>\n",
       "      <td>58.33</td>\n",
       "      <td>9505.56</td>\n",
       "      <td>9408.07</td>\n",
       "      <td>97.49</td>\n",
       "      <td>0.0</td>\n",
       "      <td>conventional</td>\n",
       "      <td>2015</td>\n",
       "      <td>Albany</td>\n",
       "    </tr>\n",
       "    <tr>\n",
       "      <th>2</th>\n",
       "      <td>2015-12-13</td>\n",
       "      <td>0.93</td>\n",
       "      <td>118220.22</td>\n",
       "      <td>794.70</td>\n",
       "      <td>109149.67</td>\n",
       "      <td>130.50</td>\n",
       "      <td>8145.35</td>\n",
       "      <td>8042.21</td>\n",
       "      <td>103.14</td>\n",
       "      <td>0.0</td>\n",
       "      <td>conventional</td>\n",
       "      <td>2015</td>\n",
       "      <td>Albany</td>\n",
       "    </tr>\n",
       "    <tr>\n",
       "      <th>3</th>\n",
       "      <td>2015-12-06</td>\n",
       "      <td>1.08</td>\n",
       "      <td>78992.15</td>\n",
       "      <td>1132.00</td>\n",
       "      <td>71976.41</td>\n",
       "      <td>72.58</td>\n",
       "      <td>5811.16</td>\n",
       "      <td>5677.40</td>\n",
       "      <td>133.76</td>\n",
       "      <td>0.0</td>\n",
       "      <td>conventional</td>\n",
       "      <td>2015</td>\n",
       "      <td>Albany</td>\n",
       "    </tr>\n",
       "    <tr>\n",
       "      <th>4</th>\n",
       "      <td>2015-11-29</td>\n",
       "      <td>1.28</td>\n",
       "      <td>51039.60</td>\n",
       "      <td>941.48</td>\n",
       "      <td>43838.39</td>\n",
       "      <td>75.78</td>\n",
       "      <td>6183.95</td>\n",
       "      <td>5986.26</td>\n",
       "      <td>197.69</td>\n",
       "      <td>0.0</td>\n",
       "      <td>conventional</td>\n",
       "      <td>2015</td>\n",
       "      <td>Albany</td>\n",
       "    </tr>\n",
       "    <tr>\n",
       "      <th>...</th>\n",
       "      <td>...</td>\n",
       "      <td>...</td>\n",
       "      <td>...</td>\n",
       "      <td>...</td>\n",
       "      <td>...</td>\n",
       "      <td>...</td>\n",
       "      <td>...</td>\n",
       "      <td>...</td>\n",
       "      <td>...</td>\n",
       "      <td>...</td>\n",
       "      <td>...</td>\n",
       "      <td>...</td>\n",
       "      <td>...</td>\n",
       "    </tr>\n",
       "    <tr>\n",
       "      <th>7</th>\n",
       "      <td>2018-02-04</td>\n",
       "      <td>1.63</td>\n",
       "      <td>17074.83</td>\n",
       "      <td>2046.96</td>\n",
       "      <td>1529.20</td>\n",
       "      <td>0.00</td>\n",
       "      <td>13498.67</td>\n",
       "      <td>13066.82</td>\n",
       "      <td>431.85</td>\n",
       "      <td>0.0</td>\n",
       "      <td>organic</td>\n",
       "      <td>2018</td>\n",
       "      <td>WestTexNewMexico</td>\n",
       "    </tr>\n",
       "    <tr>\n",
       "      <th>8</th>\n",
       "      <td>2018-01-28</td>\n",
       "      <td>1.71</td>\n",
       "      <td>13888.04</td>\n",
       "      <td>1191.70</td>\n",
       "      <td>3431.50</td>\n",
       "      <td>0.00</td>\n",
       "      <td>9264.84</td>\n",
       "      <td>8940.04</td>\n",
       "      <td>324.80</td>\n",
       "      <td>0.0</td>\n",
       "      <td>organic</td>\n",
       "      <td>2018</td>\n",
       "      <td>WestTexNewMexico</td>\n",
       "    </tr>\n",
       "    <tr>\n",
       "      <th>9</th>\n",
       "      <td>2018-01-21</td>\n",
       "      <td>1.87</td>\n",
       "      <td>13766.76</td>\n",
       "      <td>1191.92</td>\n",
       "      <td>2452.79</td>\n",
       "      <td>727.94</td>\n",
       "      <td>9394.11</td>\n",
       "      <td>9351.80</td>\n",
       "      <td>42.31</td>\n",
       "      <td>0.0</td>\n",
       "      <td>organic</td>\n",
       "      <td>2018</td>\n",
       "      <td>WestTexNewMexico</td>\n",
       "    </tr>\n",
       "    <tr>\n",
       "      <th>10</th>\n",
       "      <td>2018-01-14</td>\n",
       "      <td>1.93</td>\n",
       "      <td>16205.22</td>\n",
       "      <td>1527.63</td>\n",
       "      <td>2981.04</td>\n",
       "      <td>727.01</td>\n",
       "      <td>10969.54</td>\n",
       "      <td>10919.54</td>\n",
       "      <td>50.00</td>\n",
       "      <td>0.0</td>\n",
       "      <td>organic</td>\n",
       "      <td>2018</td>\n",
       "      <td>WestTexNewMexico</td>\n",
       "    </tr>\n",
       "    <tr>\n",
       "      <th>11</th>\n",
       "      <td>2018-01-07</td>\n",
       "      <td>1.62</td>\n",
       "      <td>17489.58</td>\n",
       "      <td>2894.77</td>\n",
       "      <td>2356.13</td>\n",
       "      <td>224.53</td>\n",
       "      <td>12014.15</td>\n",
       "      <td>11988.14</td>\n",
       "      <td>26.01</td>\n",
       "      <td>0.0</td>\n",
       "      <td>organic</td>\n",
       "      <td>2018</td>\n",
       "      <td>WestTexNewMexico</td>\n",
       "    </tr>\n",
       "  </tbody>\n",
       "</table>\n",
       "<p>18249 rows × 13 columns</p>\n",
       "</div>"
      ],
      "text/plain": [
       "         Date  AveragePrice  Total Volume     4046       4225    4770  \\\n",
       "0  2015-12-27          1.33      64236.62  1036.74   54454.85   48.16   \n",
       "1  2015-12-20          1.35      54876.98   674.28   44638.81   58.33   \n",
       "2  2015-12-13          0.93     118220.22   794.70  109149.67  130.50   \n",
       "3  2015-12-06          1.08      78992.15  1132.00   71976.41   72.58   \n",
       "4  2015-11-29          1.28      51039.60   941.48   43838.39   75.78   \n",
       "..        ...           ...           ...      ...        ...     ...   \n",
       "7  2018-02-04          1.63      17074.83  2046.96    1529.20    0.00   \n",
       "8  2018-01-28          1.71      13888.04  1191.70    3431.50    0.00   \n",
       "9  2018-01-21          1.87      13766.76  1191.92    2452.79  727.94   \n",
       "10 2018-01-14          1.93      16205.22  1527.63    2981.04  727.01   \n",
       "11 2018-01-07          1.62      17489.58  2894.77    2356.13  224.53   \n",
       "\n",
       "    Total Bags  Small Bags  Large Bags  XLarge Bags          type  year  \\\n",
       "0      8696.87     8603.62       93.25          0.0  conventional  2015   \n",
       "1      9505.56     9408.07       97.49          0.0  conventional  2015   \n",
       "2      8145.35     8042.21      103.14          0.0  conventional  2015   \n",
       "3      5811.16     5677.40      133.76          0.0  conventional  2015   \n",
       "4      6183.95     5986.26      197.69          0.0  conventional  2015   \n",
       "..         ...         ...         ...          ...           ...   ...   \n",
       "7     13498.67    13066.82      431.85          0.0       organic  2018   \n",
       "8      9264.84     8940.04      324.80          0.0       organic  2018   \n",
       "9      9394.11     9351.80       42.31          0.0       organic  2018   \n",
       "10    10969.54    10919.54       50.00          0.0       organic  2018   \n",
       "11    12014.15    11988.14       26.01          0.0       organic  2018   \n",
       "\n",
       "              region  \n",
       "0             Albany  \n",
       "1             Albany  \n",
       "2             Albany  \n",
       "3             Albany  \n",
       "4             Albany  \n",
       "..               ...  \n",
       "7   WestTexNewMexico  \n",
       "8   WestTexNewMexico  \n",
       "9   WestTexNewMexico  \n",
       "10  WestTexNewMexico  \n",
       "11  WestTexNewMexico  \n",
       "\n",
       "[18249 rows x 13 columns]"
      ]
     },
     "execution_count": 4,
     "metadata": {},
     "output_type": "execute_result"
    }
   ],
   "source": [
    "df"
   ]
  },
  {
   "cell_type": "code",
   "execution_count": 5,
   "id": "b462b932",
   "metadata": {},
   "outputs": [
    {
     "data": {
      "text/html": [
       "<div>\n",
       "<style scoped>\n",
       "    .dataframe tbody tr th:only-of-type {\n",
       "        vertical-align: middle;\n",
       "    }\n",
       "\n",
       "    .dataframe tbody tr th {\n",
       "        vertical-align: top;\n",
       "    }\n",
       "\n",
       "    .dataframe thead th {\n",
       "        text-align: right;\n",
       "    }\n",
       "</style>\n",
       "<table border=\"1\" class=\"dataframe\">\n",
       "  <thead>\n",
       "    <tr style=\"text-align: right;\">\n",
       "      <th></th>\n",
       "      <th>AveragePrice</th>\n",
       "      <th>Total Volume</th>\n",
       "      <th>4046</th>\n",
       "      <th>4225</th>\n",
       "      <th>4770</th>\n",
       "      <th>Total Bags</th>\n",
       "      <th>Small Bags</th>\n",
       "      <th>Large Bags</th>\n",
       "      <th>XLarge Bags</th>\n",
       "      <th>type</th>\n",
       "      <th>year</th>\n",
       "      <th>region</th>\n",
       "    </tr>\n",
       "    <tr>\n",
       "      <th>Date</th>\n",
       "      <th></th>\n",
       "      <th></th>\n",
       "      <th></th>\n",
       "      <th></th>\n",
       "      <th></th>\n",
       "      <th></th>\n",
       "      <th></th>\n",
       "      <th></th>\n",
       "      <th></th>\n",
       "      <th></th>\n",
       "      <th></th>\n",
       "      <th></th>\n",
       "    </tr>\n",
       "  </thead>\n",
       "  <tbody>\n",
       "    <tr>\n",
       "      <th>2015-12-27</th>\n",
       "      <td>1.33</td>\n",
       "      <td>64236.62</td>\n",
       "      <td>1036.74</td>\n",
       "      <td>54454.85</td>\n",
       "      <td>48.16</td>\n",
       "      <td>8696.87</td>\n",
       "      <td>8603.62</td>\n",
       "      <td>93.25</td>\n",
       "      <td>0.0</td>\n",
       "      <td>conventional</td>\n",
       "      <td>2015</td>\n",
       "      <td>Albany</td>\n",
       "    </tr>\n",
       "    <tr>\n",
       "      <th>2015-12-20</th>\n",
       "      <td>1.35</td>\n",
       "      <td>54876.98</td>\n",
       "      <td>674.28</td>\n",
       "      <td>44638.81</td>\n",
       "      <td>58.33</td>\n",
       "      <td>9505.56</td>\n",
       "      <td>9408.07</td>\n",
       "      <td>97.49</td>\n",
       "      <td>0.0</td>\n",
       "      <td>conventional</td>\n",
       "      <td>2015</td>\n",
       "      <td>Albany</td>\n",
       "    </tr>\n",
       "    <tr>\n",
       "      <th>2015-12-13</th>\n",
       "      <td>0.93</td>\n",
       "      <td>118220.22</td>\n",
       "      <td>794.70</td>\n",
       "      <td>109149.67</td>\n",
       "      <td>130.50</td>\n",
       "      <td>8145.35</td>\n",
       "      <td>8042.21</td>\n",
       "      <td>103.14</td>\n",
       "      <td>0.0</td>\n",
       "      <td>conventional</td>\n",
       "      <td>2015</td>\n",
       "      <td>Albany</td>\n",
       "    </tr>\n",
       "    <tr>\n",
       "      <th>2015-12-06</th>\n",
       "      <td>1.08</td>\n",
       "      <td>78992.15</td>\n",
       "      <td>1132.00</td>\n",
       "      <td>71976.41</td>\n",
       "      <td>72.58</td>\n",
       "      <td>5811.16</td>\n",
       "      <td>5677.40</td>\n",
       "      <td>133.76</td>\n",
       "      <td>0.0</td>\n",
       "      <td>conventional</td>\n",
       "      <td>2015</td>\n",
       "      <td>Albany</td>\n",
       "    </tr>\n",
       "    <tr>\n",
       "      <th>2015-11-29</th>\n",
       "      <td>1.28</td>\n",
       "      <td>51039.60</td>\n",
       "      <td>941.48</td>\n",
       "      <td>43838.39</td>\n",
       "      <td>75.78</td>\n",
       "      <td>6183.95</td>\n",
       "      <td>5986.26</td>\n",
       "      <td>197.69</td>\n",
       "      <td>0.0</td>\n",
       "      <td>conventional</td>\n",
       "      <td>2015</td>\n",
       "      <td>Albany</td>\n",
       "    </tr>\n",
       "    <tr>\n",
       "      <th>...</th>\n",
       "      <td>...</td>\n",
       "      <td>...</td>\n",
       "      <td>...</td>\n",
       "      <td>...</td>\n",
       "      <td>...</td>\n",
       "      <td>...</td>\n",
       "      <td>...</td>\n",
       "      <td>...</td>\n",
       "      <td>...</td>\n",
       "      <td>...</td>\n",
       "      <td>...</td>\n",
       "      <td>...</td>\n",
       "    </tr>\n",
       "    <tr>\n",
       "      <th>2018-02-04</th>\n",
       "      <td>1.63</td>\n",
       "      <td>17074.83</td>\n",
       "      <td>2046.96</td>\n",
       "      <td>1529.20</td>\n",
       "      <td>0.00</td>\n",
       "      <td>13498.67</td>\n",
       "      <td>13066.82</td>\n",
       "      <td>431.85</td>\n",
       "      <td>0.0</td>\n",
       "      <td>organic</td>\n",
       "      <td>2018</td>\n",
       "      <td>WestTexNewMexico</td>\n",
       "    </tr>\n",
       "    <tr>\n",
       "      <th>2018-01-28</th>\n",
       "      <td>1.71</td>\n",
       "      <td>13888.04</td>\n",
       "      <td>1191.70</td>\n",
       "      <td>3431.50</td>\n",
       "      <td>0.00</td>\n",
       "      <td>9264.84</td>\n",
       "      <td>8940.04</td>\n",
       "      <td>324.80</td>\n",
       "      <td>0.0</td>\n",
       "      <td>organic</td>\n",
       "      <td>2018</td>\n",
       "      <td>WestTexNewMexico</td>\n",
       "    </tr>\n",
       "    <tr>\n",
       "      <th>2018-01-21</th>\n",
       "      <td>1.87</td>\n",
       "      <td>13766.76</td>\n",
       "      <td>1191.92</td>\n",
       "      <td>2452.79</td>\n",
       "      <td>727.94</td>\n",
       "      <td>9394.11</td>\n",
       "      <td>9351.80</td>\n",
       "      <td>42.31</td>\n",
       "      <td>0.0</td>\n",
       "      <td>organic</td>\n",
       "      <td>2018</td>\n",
       "      <td>WestTexNewMexico</td>\n",
       "    </tr>\n",
       "    <tr>\n",
       "      <th>2018-01-14</th>\n",
       "      <td>1.93</td>\n",
       "      <td>16205.22</td>\n",
       "      <td>1527.63</td>\n",
       "      <td>2981.04</td>\n",
       "      <td>727.01</td>\n",
       "      <td>10969.54</td>\n",
       "      <td>10919.54</td>\n",
       "      <td>50.00</td>\n",
       "      <td>0.0</td>\n",
       "      <td>organic</td>\n",
       "      <td>2018</td>\n",
       "      <td>WestTexNewMexico</td>\n",
       "    </tr>\n",
       "    <tr>\n",
       "      <th>2018-01-07</th>\n",
       "      <td>1.62</td>\n",
       "      <td>17489.58</td>\n",
       "      <td>2894.77</td>\n",
       "      <td>2356.13</td>\n",
       "      <td>224.53</td>\n",
       "      <td>12014.15</td>\n",
       "      <td>11988.14</td>\n",
       "      <td>26.01</td>\n",
       "      <td>0.0</td>\n",
       "      <td>organic</td>\n",
       "      <td>2018</td>\n",
       "      <td>WestTexNewMexico</td>\n",
       "    </tr>\n",
       "  </tbody>\n",
       "</table>\n",
       "<p>18249 rows × 12 columns</p>\n",
       "</div>"
      ],
      "text/plain": [
       "            AveragePrice  Total Volume     4046       4225    4770  \\\n",
       "Date                                                                 \n",
       "2015-12-27          1.33      64236.62  1036.74   54454.85   48.16   \n",
       "2015-12-20          1.35      54876.98   674.28   44638.81   58.33   \n",
       "2015-12-13          0.93     118220.22   794.70  109149.67  130.50   \n",
       "2015-12-06          1.08      78992.15  1132.00   71976.41   72.58   \n",
       "2015-11-29          1.28      51039.60   941.48   43838.39   75.78   \n",
       "...                  ...           ...      ...        ...     ...   \n",
       "2018-02-04          1.63      17074.83  2046.96    1529.20    0.00   \n",
       "2018-01-28          1.71      13888.04  1191.70    3431.50    0.00   \n",
       "2018-01-21          1.87      13766.76  1191.92    2452.79  727.94   \n",
       "2018-01-14          1.93      16205.22  1527.63    2981.04  727.01   \n",
       "2018-01-07          1.62      17489.58  2894.77    2356.13  224.53   \n",
       "\n",
       "            Total Bags  Small Bags  Large Bags  XLarge Bags          type  \\\n",
       "Date                                                                        \n",
       "2015-12-27     8696.87     8603.62       93.25          0.0  conventional   \n",
       "2015-12-20     9505.56     9408.07       97.49          0.0  conventional   \n",
       "2015-12-13     8145.35     8042.21      103.14          0.0  conventional   \n",
       "2015-12-06     5811.16     5677.40      133.76          0.0  conventional   \n",
       "2015-11-29     6183.95     5986.26      197.69          0.0  conventional   \n",
       "...                ...         ...         ...          ...           ...   \n",
       "2018-02-04    13498.67    13066.82      431.85          0.0       organic   \n",
       "2018-01-28     9264.84     8940.04      324.80          0.0       organic   \n",
       "2018-01-21     9394.11     9351.80       42.31          0.0       organic   \n",
       "2018-01-14    10969.54    10919.54       50.00          0.0       organic   \n",
       "2018-01-07    12014.15    11988.14       26.01          0.0       organic   \n",
       "\n",
       "            year            region  \n",
       "Date                                \n",
       "2015-12-27  2015            Albany  \n",
       "2015-12-20  2015            Albany  \n",
       "2015-12-13  2015            Albany  \n",
       "2015-12-06  2015            Albany  \n",
       "2015-11-29  2015            Albany  \n",
       "...          ...               ...  \n",
       "2018-02-04  2018  WestTexNewMexico  \n",
       "2018-01-28  2018  WestTexNewMexico  \n",
       "2018-01-21  2018  WestTexNewMexico  \n",
       "2018-01-14  2018  WestTexNewMexico  \n",
       "2018-01-07  2018  WestTexNewMexico  \n",
       "\n",
       "[18249 rows x 12 columns]"
      ]
     },
     "execution_count": 5,
     "metadata": {},
     "output_type": "execute_result"
    }
   ],
   "source": [
    "df=df.set_index('Date')   # we are setting date as index column\n",
    "df"
   ]
  },
  {
   "cell_type": "code",
   "execution_count": 6,
   "id": "d60c3ae9",
   "metadata": {},
   "outputs": [
    {
     "data": {
      "text/plain": [
       "Index(['AveragePrice', 'Total Volume',           4046,           4225,\n",
       "                 4770,   'Total Bags',   'Small Bags',   'Large Bags',\n",
       "        'XLarge Bags',         'type',         'year',       'region'],\n",
       "      dtype='object')"
      ]
     },
     "execution_count": 6,
     "metadata": {},
     "output_type": "execute_result"
    }
   ],
   "source": [
    "df.columns"
   ]
  },
  {
   "cell_type": "code",
   "execution_count": 7,
   "id": "652720b8",
   "metadata": {},
   "outputs": [
    {
     "data": {
      "text/plain": [
       "AveragePrice    float64\n",
       "Total Volume    float64\n",
       "4046            float64\n",
       "4225            float64\n",
       "4770            float64\n",
       "Total Bags      float64\n",
       "Small Bags      float64\n",
       "Large Bags      float64\n",
       "XLarge Bags     float64\n",
       "type             object\n",
       "year              int64\n",
       "region           object\n",
       "dtype: object"
      ]
     },
     "execution_count": 7,
     "metadata": {},
     "output_type": "execute_result"
    }
   ],
   "source": [
    "df.dtypes"
   ]
  },
  {
   "cell_type": "code",
   "execution_count": 8,
   "id": "bf040ead",
   "metadata": {},
   "outputs": [
    {
     "data": {
      "text/plain": [
       "(18249, 12)"
      ]
     },
     "execution_count": 8,
     "metadata": {},
     "output_type": "execute_result"
    }
   ],
   "source": [
    "df.shape"
   ]
  },
  {
   "cell_type": "code",
   "execution_count": 9,
   "id": "9d9dd6fe",
   "metadata": {},
   "outputs": [
    {
     "data": {
      "text/plain": [
       "AveragePrice    0\n",
       "Total Volume    0\n",
       "4046            0\n",
       "4225            0\n",
       "4770            0\n",
       "Total Bags      0\n",
       "Small Bags      0\n",
       "Large Bags      0\n",
       "XLarge Bags     0\n",
       "type            0\n",
       "year            0\n",
       "region          0\n",
       "dtype: int64"
      ]
     },
     "execution_count": 9,
     "metadata": {},
     "output_type": "execute_result"
    }
   ],
   "source": [
    "df.isnull().sum() #no null values present in the data"
   ]
  },
  {
   "cell_type": "code",
   "execution_count": 10,
   "id": "b51f500e",
   "metadata": {},
   "outputs": [
    {
     "data": {
      "text/plain": [
       "conventional    9126\n",
       "organic         9123\n",
       "Name: type, dtype: int64"
      ]
     },
     "execution_count": 10,
     "metadata": {},
     "output_type": "execute_result"
    }
   ],
   "source": [
    "df['type'].value_counts()"
   ]
  },
  {
   "cell_type": "code",
   "execution_count": 11,
   "id": "81e1cf66",
   "metadata": {},
   "outputs": [
    {
     "data": {
      "text/plain": [
       "Albany                 338\n",
       "Sacramento             338\n",
       "Northeast              338\n",
       "NorthernNewEngland     338\n",
       "Orlando                338\n",
       "Philadelphia           338\n",
       "PhoenixTucson          338\n",
       "Pittsburgh             338\n",
       "Plains                 338\n",
       "Portland               338\n",
       "RaleighGreensboro      338\n",
       "RichmondNorfolk        338\n",
       "Roanoke                338\n",
       "SanDiego               338\n",
       "Atlanta                338\n",
       "SanFrancisco           338\n",
       "Seattle                338\n",
       "SouthCarolina          338\n",
       "SouthCentral           338\n",
       "Southeast              338\n",
       "Spokane                338\n",
       "StLouis                338\n",
       "Syracuse               338\n",
       "Tampa                  338\n",
       "TotalUS                338\n",
       "West                   338\n",
       "NewYork                338\n",
       "NewOrleansMobile       338\n",
       "Nashville              338\n",
       "Midsouth               338\n",
       "BaltimoreWashington    338\n",
       "Boise                  338\n",
       "Boston                 338\n",
       "BuffaloRochester       338\n",
       "California             338\n",
       "Charlotte              338\n",
       "Chicago                338\n",
       "CincinnatiDayton       338\n",
       "Columbus               338\n",
       "DallasFtWorth          338\n",
       "Denver                 338\n",
       "Detroit                338\n",
       "GrandRapids            338\n",
       "GreatLakes             338\n",
       "HarrisburgScranton     338\n",
       "HartfordSpringfield    338\n",
       "Houston                338\n",
       "Indianapolis           338\n",
       "Jacksonville           338\n",
       "LasVegas               338\n",
       "LosAngeles             338\n",
       "Louisville             338\n",
       "MiamiFtLauderdale      338\n",
       "WestTexNewMexico       335\n",
       "Name: region, dtype: int64"
      ]
     },
     "execution_count": 11,
     "metadata": {},
     "output_type": "execute_result"
    }
   ],
   "source": [
    "df['region'].value_counts()"
   ]
  },
  {
   "cell_type": "code",
   "execution_count": 12,
   "id": "3af88886",
   "metadata": {},
   "outputs": [
    {
     "data": {
      "text/plain": [
       "54"
      ]
     },
     "execution_count": 12,
     "metadata": {},
     "output_type": "execute_result"
    }
   ],
   "source": [
    "df['region'].nunique()"
   ]
  },
  {
   "cell_type": "markdown",
   "id": "02a230ca",
   "metadata": {},
   "source": [
    "Label Encoding to change object values into Int values"
   ]
  },
  {
   "cell_type": "code",
   "execution_count": 13,
   "id": "f5958dba",
   "metadata": {},
   "outputs": [],
   "source": [
    "from sklearn.preprocessing import LabelEncoder\n",
    "le=LabelEncoder()\n",
    "df['type']=le.fit_transform(df['type'])\n",
    "df['region']=le.fit_transform(df['region'])"
   ]
  },
  {
   "cell_type": "code",
   "execution_count": 14,
   "id": "3b79921a",
   "metadata": {},
   "outputs": [
    {
     "data": {
      "text/plain": [
       "0    9126\n",
       "1    9123\n",
       "Name: type, dtype: int64"
      ]
     },
     "execution_count": 14,
     "metadata": {},
     "output_type": "execute_result"
    }
   ],
   "source": [
    "df['type'].value_counts()"
   ]
  },
  {
   "cell_type": "code",
   "execution_count": 15,
   "id": "9108dc1c",
   "metadata": {},
   "outputs": [
    {
     "data": {
      "text/html": [
       "<div>\n",
       "<style scoped>\n",
       "    .dataframe tbody tr th:only-of-type {\n",
       "        vertical-align: middle;\n",
       "    }\n",
       "\n",
       "    .dataframe tbody tr th {\n",
       "        vertical-align: top;\n",
       "    }\n",
       "\n",
       "    .dataframe thead th {\n",
       "        text-align: right;\n",
       "    }\n",
       "</style>\n",
       "<table border=\"1\" class=\"dataframe\">\n",
       "  <thead>\n",
       "    <tr style=\"text-align: right;\">\n",
       "      <th></th>\n",
       "      <th>AveragePrice</th>\n",
       "      <th>Total Volume</th>\n",
       "      <th>4046</th>\n",
       "      <th>4225</th>\n",
       "      <th>4770</th>\n",
       "      <th>Total Bags</th>\n",
       "      <th>Small Bags</th>\n",
       "      <th>Large Bags</th>\n",
       "      <th>XLarge Bags</th>\n",
       "      <th>type</th>\n",
       "      <th>year</th>\n",
       "      <th>region</th>\n",
       "    </tr>\n",
       "  </thead>\n",
       "  <tbody>\n",
       "    <tr>\n",
       "      <th>count</th>\n",
       "      <td>18249.000000</td>\n",
       "      <td>1.824900e+04</td>\n",
       "      <td>1.824900e+04</td>\n",
       "      <td>1.824900e+04</td>\n",
       "      <td>1.824900e+04</td>\n",
       "      <td>1.824900e+04</td>\n",
       "      <td>1.824900e+04</td>\n",
       "      <td>1.824900e+04</td>\n",
       "      <td>18249.000000</td>\n",
       "      <td>18249.000000</td>\n",
       "      <td>18249.000000</td>\n",
       "      <td>18249.000000</td>\n",
       "    </tr>\n",
       "    <tr>\n",
       "      <th>mean</th>\n",
       "      <td>1.405978</td>\n",
       "      <td>8.506440e+05</td>\n",
       "      <td>2.930084e+05</td>\n",
       "      <td>2.951546e+05</td>\n",
       "      <td>2.283974e+04</td>\n",
       "      <td>2.396392e+05</td>\n",
       "      <td>1.821947e+05</td>\n",
       "      <td>5.433809e+04</td>\n",
       "      <td>3106.426507</td>\n",
       "      <td>0.499918</td>\n",
       "      <td>2016.147899</td>\n",
       "      <td>26.495644</td>\n",
       "    </tr>\n",
       "    <tr>\n",
       "      <th>std</th>\n",
       "      <td>0.402677</td>\n",
       "      <td>3.453545e+06</td>\n",
       "      <td>1.264989e+06</td>\n",
       "      <td>1.204120e+06</td>\n",
       "      <td>1.074641e+05</td>\n",
       "      <td>9.862424e+05</td>\n",
       "      <td>7.461785e+05</td>\n",
       "      <td>2.439660e+05</td>\n",
       "      <td>17692.894652</td>\n",
       "      <td>0.500014</td>\n",
       "      <td>0.939938</td>\n",
       "      <td>15.583788</td>\n",
       "    </tr>\n",
       "    <tr>\n",
       "      <th>min</th>\n",
       "      <td>0.440000</td>\n",
       "      <td>8.456000e+01</td>\n",
       "      <td>0.000000e+00</td>\n",
       "      <td>0.000000e+00</td>\n",
       "      <td>0.000000e+00</td>\n",
       "      <td>0.000000e+00</td>\n",
       "      <td>0.000000e+00</td>\n",
       "      <td>0.000000e+00</td>\n",
       "      <td>0.000000</td>\n",
       "      <td>0.000000</td>\n",
       "      <td>2015.000000</td>\n",
       "      <td>0.000000</td>\n",
       "    </tr>\n",
       "    <tr>\n",
       "      <th>25%</th>\n",
       "      <td>1.100000</td>\n",
       "      <td>1.083858e+04</td>\n",
       "      <td>8.540700e+02</td>\n",
       "      <td>3.008780e+03</td>\n",
       "      <td>0.000000e+00</td>\n",
       "      <td>5.088640e+03</td>\n",
       "      <td>2.849420e+03</td>\n",
       "      <td>1.274700e+02</td>\n",
       "      <td>0.000000</td>\n",
       "      <td>0.000000</td>\n",
       "      <td>2015.000000</td>\n",
       "      <td>13.000000</td>\n",
       "    </tr>\n",
       "    <tr>\n",
       "      <th>50%</th>\n",
       "      <td>1.370000</td>\n",
       "      <td>1.073768e+05</td>\n",
       "      <td>8.645300e+03</td>\n",
       "      <td>2.906102e+04</td>\n",
       "      <td>1.849900e+02</td>\n",
       "      <td>3.974383e+04</td>\n",
       "      <td>2.636282e+04</td>\n",
       "      <td>2.647710e+03</td>\n",
       "      <td>0.000000</td>\n",
       "      <td>0.000000</td>\n",
       "      <td>2016.000000</td>\n",
       "      <td>26.000000</td>\n",
       "    </tr>\n",
       "    <tr>\n",
       "      <th>75%</th>\n",
       "      <td>1.660000</td>\n",
       "      <td>4.329623e+05</td>\n",
       "      <td>1.110202e+05</td>\n",
       "      <td>1.502069e+05</td>\n",
       "      <td>6.243420e+03</td>\n",
       "      <td>1.107834e+05</td>\n",
       "      <td>8.333767e+04</td>\n",
       "      <td>2.202925e+04</td>\n",
       "      <td>132.500000</td>\n",
       "      <td>1.000000</td>\n",
       "      <td>2017.000000</td>\n",
       "      <td>40.000000</td>\n",
       "    </tr>\n",
       "    <tr>\n",
       "      <th>max</th>\n",
       "      <td>3.250000</td>\n",
       "      <td>6.250565e+07</td>\n",
       "      <td>2.274362e+07</td>\n",
       "      <td>2.047057e+07</td>\n",
       "      <td>2.546439e+06</td>\n",
       "      <td>1.937313e+07</td>\n",
       "      <td>1.338459e+07</td>\n",
       "      <td>5.719097e+06</td>\n",
       "      <td>551693.650000</td>\n",
       "      <td>1.000000</td>\n",
       "      <td>2018.000000</td>\n",
       "      <td>53.000000</td>\n",
       "    </tr>\n",
       "  </tbody>\n",
       "</table>\n",
       "</div>"
      ],
      "text/plain": [
       "       AveragePrice  Total Volume          4046          4225          4770  \\\n",
       "count  18249.000000  1.824900e+04  1.824900e+04  1.824900e+04  1.824900e+04   \n",
       "mean       1.405978  8.506440e+05  2.930084e+05  2.951546e+05  2.283974e+04   \n",
       "std        0.402677  3.453545e+06  1.264989e+06  1.204120e+06  1.074641e+05   \n",
       "min        0.440000  8.456000e+01  0.000000e+00  0.000000e+00  0.000000e+00   \n",
       "25%        1.100000  1.083858e+04  8.540700e+02  3.008780e+03  0.000000e+00   \n",
       "50%        1.370000  1.073768e+05  8.645300e+03  2.906102e+04  1.849900e+02   \n",
       "75%        1.660000  4.329623e+05  1.110202e+05  1.502069e+05  6.243420e+03   \n",
       "max        3.250000  6.250565e+07  2.274362e+07  2.047057e+07  2.546439e+06   \n",
       "\n",
       "         Total Bags    Small Bags    Large Bags    XLarge Bags          type  \\\n",
       "count  1.824900e+04  1.824900e+04  1.824900e+04   18249.000000  18249.000000   \n",
       "mean   2.396392e+05  1.821947e+05  5.433809e+04    3106.426507      0.499918   \n",
       "std    9.862424e+05  7.461785e+05  2.439660e+05   17692.894652      0.500014   \n",
       "min    0.000000e+00  0.000000e+00  0.000000e+00       0.000000      0.000000   \n",
       "25%    5.088640e+03  2.849420e+03  1.274700e+02       0.000000      0.000000   \n",
       "50%    3.974383e+04  2.636282e+04  2.647710e+03       0.000000      0.000000   \n",
       "75%    1.107834e+05  8.333767e+04  2.202925e+04     132.500000      1.000000   \n",
       "max    1.937313e+07  1.338459e+07  5.719097e+06  551693.650000      1.000000   \n",
       "\n",
       "               year        region  \n",
       "count  18249.000000  18249.000000  \n",
       "mean    2016.147899     26.495644  \n",
       "std        0.939938     15.583788  \n",
       "min     2015.000000      0.000000  \n",
       "25%     2015.000000     13.000000  \n",
       "50%     2016.000000     26.000000  \n",
       "75%     2017.000000     40.000000  \n",
       "max     2018.000000     53.000000  "
      ]
     },
     "execution_count": 15,
     "metadata": {},
     "output_type": "execute_result"
    }
   ],
   "source": [
    "df.describe()"
   ]
  },
  {
   "cell_type": "code",
   "execution_count": 16,
   "id": "3e448ad8",
   "metadata": {},
   "outputs": [
    {
     "data": {
      "text/html": [
       "<div>\n",
       "<style scoped>\n",
       "    .dataframe tbody tr th:only-of-type {\n",
       "        vertical-align: middle;\n",
       "    }\n",
       "\n",
       "    .dataframe tbody tr th {\n",
       "        vertical-align: top;\n",
       "    }\n",
       "\n",
       "    .dataframe thead th {\n",
       "        text-align: right;\n",
       "    }\n",
       "</style>\n",
       "<table border=\"1\" class=\"dataframe\">\n",
       "  <thead>\n",
       "    <tr style=\"text-align: right;\">\n",
       "      <th></th>\n",
       "      <th>AveragePrice</th>\n",
       "      <th>Total Volume</th>\n",
       "      <th>4046</th>\n",
       "      <th>4225</th>\n",
       "      <th>4770</th>\n",
       "      <th>Total Bags</th>\n",
       "      <th>Small Bags</th>\n",
       "      <th>Large Bags</th>\n",
       "      <th>XLarge Bags</th>\n",
       "      <th>type</th>\n",
       "      <th>year</th>\n",
       "      <th>region</th>\n",
       "    </tr>\n",
       "  </thead>\n",
       "  <tbody>\n",
       "    <tr>\n",
       "      <th>AveragePrice</th>\n",
       "      <td>1.000000</td>\n",
       "      <td>-0.192752</td>\n",
       "      <td>-0.208317</td>\n",
       "      <td>-0.172928</td>\n",
       "      <td>-0.179446</td>\n",
       "      <td>-0.177088</td>\n",
       "      <td>-0.174730</td>\n",
       "      <td>-0.172940</td>\n",
       "      <td>-0.117592</td>\n",
       "      <td>0.615845</td>\n",
       "      <td>0.093197</td>\n",
       "      <td>-0.011716</td>\n",
       "    </tr>\n",
       "    <tr>\n",
       "      <th>Total Volume</th>\n",
       "      <td>-0.192752</td>\n",
       "      <td>1.000000</td>\n",
       "      <td>0.977863</td>\n",
       "      <td>0.974181</td>\n",
       "      <td>0.872202</td>\n",
       "      <td>0.963047</td>\n",
       "      <td>0.967238</td>\n",
       "      <td>0.880640</td>\n",
       "      <td>0.747157</td>\n",
       "      <td>-0.232434</td>\n",
       "      <td>0.017193</td>\n",
       "      <td>0.174176</td>\n",
       "    </tr>\n",
       "    <tr>\n",
       "      <th>4046</th>\n",
       "      <td>-0.208317</td>\n",
       "      <td>0.977863</td>\n",
       "      <td>1.000000</td>\n",
       "      <td>0.926110</td>\n",
       "      <td>0.833389</td>\n",
       "      <td>0.920057</td>\n",
       "      <td>0.925280</td>\n",
       "      <td>0.838645</td>\n",
       "      <td>0.699377</td>\n",
       "      <td>-0.225819</td>\n",
       "      <td>0.003353</td>\n",
       "      <td>0.192073</td>\n",
       "    </tr>\n",
       "    <tr>\n",
       "      <th>4225</th>\n",
       "      <td>-0.172928</td>\n",
       "      <td>0.974181</td>\n",
       "      <td>0.926110</td>\n",
       "      <td>1.000000</td>\n",
       "      <td>0.887855</td>\n",
       "      <td>0.905787</td>\n",
       "      <td>0.916031</td>\n",
       "      <td>0.810015</td>\n",
       "      <td>0.688809</td>\n",
       "      <td>-0.232289</td>\n",
       "      <td>-0.009559</td>\n",
       "      <td>0.145726</td>\n",
       "    </tr>\n",
       "    <tr>\n",
       "      <th>4770</th>\n",
       "      <td>-0.179446</td>\n",
       "      <td>0.872202</td>\n",
       "      <td>0.833389</td>\n",
       "      <td>0.887855</td>\n",
       "      <td>1.000000</td>\n",
       "      <td>0.792314</td>\n",
       "      <td>0.802733</td>\n",
       "      <td>0.698471</td>\n",
       "      <td>0.679861</td>\n",
       "      <td>-0.210027</td>\n",
       "      <td>-0.036531</td>\n",
       "      <td>0.095252</td>\n",
       "    </tr>\n",
       "    <tr>\n",
       "      <th>Total Bags</th>\n",
       "      <td>-0.177088</td>\n",
       "      <td>0.963047</td>\n",
       "      <td>0.920057</td>\n",
       "      <td>0.905787</td>\n",
       "      <td>0.792314</td>\n",
       "      <td>1.000000</td>\n",
       "      <td>0.994335</td>\n",
       "      <td>0.943009</td>\n",
       "      <td>0.804233</td>\n",
       "      <td>-0.217788</td>\n",
       "      <td>0.071552</td>\n",
       "      <td>0.175256</td>\n",
       "    </tr>\n",
       "    <tr>\n",
       "      <th>Small Bags</th>\n",
       "      <td>-0.174730</td>\n",
       "      <td>0.967238</td>\n",
       "      <td>0.925280</td>\n",
       "      <td>0.916031</td>\n",
       "      <td>0.802733</td>\n",
       "      <td>0.994335</td>\n",
       "      <td>1.000000</td>\n",
       "      <td>0.902589</td>\n",
       "      <td>0.806845</td>\n",
       "      <td>-0.220535</td>\n",
       "      <td>0.063915</td>\n",
       "      <td>0.164702</td>\n",
       "    </tr>\n",
       "    <tr>\n",
       "      <th>Large Bags</th>\n",
       "      <td>-0.172940</td>\n",
       "      <td>0.880640</td>\n",
       "      <td>0.838645</td>\n",
       "      <td>0.810015</td>\n",
       "      <td>0.698471</td>\n",
       "      <td>0.943009</td>\n",
       "      <td>0.902589</td>\n",
       "      <td>1.000000</td>\n",
       "      <td>0.710858</td>\n",
       "      <td>-0.193177</td>\n",
       "      <td>0.087891</td>\n",
       "      <td>0.198768</td>\n",
       "    </tr>\n",
       "    <tr>\n",
       "      <th>XLarge Bags</th>\n",
       "      <td>-0.117592</td>\n",
       "      <td>0.747157</td>\n",
       "      <td>0.699377</td>\n",
       "      <td>0.688809</td>\n",
       "      <td>0.679861</td>\n",
       "      <td>0.804233</td>\n",
       "      <td>0.806845</td>\n",
       "      <td>0.710858</td>\n",
       "      <td>1.000000</td>\n",
       "      <td>-0.175483</td>\n",
       "      <td>0.081033</td>\n",
       "      <td>0.082281</td>\n",
       "    </tr>\n",
       "    <tr>\n",
       "      <th>type</th>\n",
       "      <td>0.615845</td>\n",
       "      <td>-0.232434</td>\n",
       "      <td>-0.225819</td>\n",
       "      <td>-0.232289</td>\n",
       "      <td>-0.210027</td>\n",
       "      <td>-0.217788</td>\n",
       "      <td>-0.220535</td>\n",
       "      <td>-0.193177</td>\n",
       "      <td>-0.175483</td>\n",
       "      <td>1.000000</td>\n",
       "      <td>-0.000032</td>\n",
       "      <td>-0.000280</td>\n",
       "    </tr>\n",
       "    <tr>\n",
       "      <th>year</th>\n",
       "      <td>0.093197</td>\n",
       "      <td>0.017193</td>\n",
       "      <td>0.003353</td>\n",
       "      <td>-0.009559</td>\n",
       "      <td>-0.036531</td>\n",
       "      <td>0.071552</td>\n",
       "      <td>0.063915</td>\n",
       "      <td>0.087891</td>\n",
       "      <td>0.081033</td>\n",
       "      <td>-0.000032</td>\n",
       "      <td>1.000000</td>\n",
       "      <td>-0.000055</td>\n",
       "    </tr>\n",
       "    <tr>\n",
       "      <th>region</th>\n",
       "      <td>-0.011716</td>\n",
       "      <td>0.174176</td>\n",
       "      <td>0.192073</td>\n",
       "      <td>0.145726</td>\n",
       "      <td>0.095252</td>\n",
       "      <td>0.175256</td>\n",
       "      <td>0.164702</td>\n",
       "      <td>0.198768</td>\n",
       "      <td>0.082281</td>\n",
       "      <td>-0.000280</td>\n",
       "      <td>-0.000055</td>\n",
       "      <td>1.000000</td>\n",
       "    </tr>\n",
       "  </tbody>\n",
       "</table>\n",
       "</div>"
      ],
      "text/plain": [
       "              AveragePrice  Total Volume      4046      4225      4770  \\\n",
       "AveragePrice      1.000000     -0.192752 -0.208317 -0.172928 -0.179446   \n",
       "Total Volume     -0.192752      1.000000  0.977863  0.974181  0.872202   \n",
       "4046             -0.208317      0.977863  1.000000  0.926110  0.833389   \n",
       "4225             -0.172928      0.974181  0.926110  1.000000  0.887855   \n",
       "4770             -0.179446      0.872202  0.833389  0.887855  1.000000   \n",
       "Total Bags       -0.177088      0.963047  0.920057  0.905787  0.792314   \n",
       "Small Bags       -0.174730      0.967238  0.925280  0.916031  0.802733   \n",
       "Large Bags       -0.172940      0.880640  0.838645  0.810015  0.698471   \n",
       "XLarge Bags      -0.117592      0.747157  0.699377  0.688809  0.679861   \n",
       "type              0.615845     -0.232434 -0.225819 -0.232289 -0.210027   \n",
       "year              0.093197      0.017193  0.003353 -0.009559 -0.036531   \n",
       "region           -0.011716      0.174176  0.192073  0.145726  0.095252   \n",
       "\n",
       "              Total Bags  Small Bags  Large Bags  XLarge Bags      type  \\\n",
       "AveragePrice   -0.177088   -0.174730   -0.172940    -0.117592  0.615845   \n",
       "Total Volume    0.963047    0.967238    0.880640     0.747157 -0.232434   \n",
       "4046            0.920057    0.925280    0.838645     0.699377 -0.225819   \n",
       "4225            0.905787    0.916031    0.810015     0.688809 -0.232289   \n",
       "4770            0.792314    0.802733    0.698471     0.679861 -0.210027   \n",
       "Total Bags      1.000000    0.994335    0.943009     0.804233 -0.217788   \n",
       "Small Bags      0.994335    1.000000    0.902589     0.806845 -0.220535   \n",
       "Large Bags      0.943009    0.902589    1.000000     0.710858 -0.193177   \n",
       "XLarge Bags     0.804233    0.806845    0.710858     1.000000 -0.175483   \n",
       "type           -0.217788   -0.220535   -0.193177    -0.175483  1.000000   \n",
       "year            0.071552    0.063915    0.087891     0.081033 -0.000032   \n",
       "region          0.175256    0.164702    0.198768     0.082281 -0.000280   \n",
       "\n",
       "                  year    region  \n",
       "AveragePrice  0.093197 -0.011716  \n",
       "Total Volume  0.017193  0.174176  \n",
       "4046          0.003353  0.192073  \n",
       "4225         -0.009559  0.145726  \n",
       "4770         -0.036531  0.095252  \n",
       "Total Bags    0.071552  0.175256  \n",
       "Small Bags    0.063915  0.164702  \n",
       "Large Bags    0.087891  0.198768  \n",
       "XLarge Bags   0.081033  0.082281  \n",
       "type         -0.000032 -0.000280  \n",
       "year          1.000000 -0.000055  \n",
       "region       -0.000055  1.000000  "
      ]
     },
     "execution_count": 16,
     "metadata": {},
     "output_type": "execute_result"
    }
   ],
   "source": [
    "df.corr()"
   ]
  },
  {
   "cell_type": "code",
   "execution_count": 17,
   "id": "a39d3660",
   "metadata": {},
   "outputs": [
    {
     "data": {
      "text/plain": [
       "4046           -0.208317\n",
       "Total Volume   -0.192752\n",
       "4770           -0.179446\n",
       "Total Bags     -0.177088\n",
       "Small Bags     -0.174730\n",
       "Large Bags     -0.172940\n",
       "4225           -0.172928\n",
       "XLarge Bags    -0.117592\n",
       "region         -0.011716\n",
       "year            0.093197\n",
       "type            0.615845\n",
       "AveragePrice    1.000000\n",
       "Name: AveragePrice, dtype: float64"
      ]
     },
     "execution_count": 17,
     "metadata": {},
     "output_type": "execute_result"
    }
   ],
   "source": [
    "df.corr()['AveragePrice'].sort_values()   #for regression type"
   ]
  },
  {
   "cell_type": "code",
   "execution_count": 18,
   "id": "28e25acd",
   "metadata": {},
   "outputs": [
    {
     "data": {
      "text/plain": [
       "AveragePrice   -0.011716\n",
       "type           -0.000280\n",
       "year           -0.000055\n",
       "XLarge Bags     0.082281\n",
       "4770            0.095252\n",
       "4225            0.145726\n",
       "Small Bags      0.164702\n",
       "Total Volume    0.174176\n",
       "Total Bags      0.175256\n",
       "4046            0.192073\n",
       "Large Bags      0.198768\n",
       "region          1.000000\n",
       "Name: region, dtype: float64"
      ]
     },
     "execution_count": 18,
     "metadata": {},
     "output_type": "execute_result"
    }
   ],
   "source": [
    "df.corr()['region'].sort_values()   #for classification "
   ]
  },
  {
   "cell_type": "code",
   "execution_count": 19,
   "id": "e11de153",
   "metadata": {},
   "outputs": [
    {
     "data": {
      "image/png": "[encoded data removed]",
      "text/plain": [
       "<Figure size 720x720 with 2 Axes>"
      ]
     },
     "metadata": {
      "needs_background": "light"
     },
     "output_type": "display_data"
    }
   ],
   "source": [
    "plt.figure(figsize=(10,10))\n",
    "sns.heatmap(df.corr(),annot=True,fmt='.2f',linewidth=2)  # we can see few columns are corelated with each other\n",
    "plt.show()"
   ]
  },
  {
   "cell_type": "markdown",
   "id": "e9ae1c77",
   "metadata": {},
   "source": [
    "Bivariant Visualisation"
   ]
  },
  {
   "cell_type": "code",
   "execution_count": 20,
   "id": "16ebf5e8",
   "metadata": {},
   "outputs": [
    {
     "data": {
      "text/plain": [
       "<AxesSubplot:xlabel='Total Volume', ylabel='AveragePrice'>"
      ]
     },
     "execution_count": 20,
     "metadata": {},
     "output_type": "execute_result"
    },
    {
     "data": {
      "image/png": "[encoded data removed]",
      "text/plain": [
       "<Figure size 432x288 with 1 Axes>"
      ]
     },
     "metadata": {
      "needs_background": "light"
     },
     "output_type": "display_data"
    }
   ],
   "source": [
    "sns.scatterplot(x=\"Total Volume\",y='AveragePrice',data=df)   # for target variable Average Price (regression)"
   ]
  },
  {
   "cell_type": "code",
   "execution_count": 21,
   "id": "08d47059",
   "metadata": {},
   "outputs": [
    {
     "data": {
      "text/plain": [
       "<AxesSubplot:xlabel='Total Bags', ylabel='AveragePrice'>"
      ]
     },
     "execution_count": 21,
     "metadata": {},
     "output_type": "execute_result"
    },
    {
     "data": {
      "image/png": "[encoded data removed]",
      "text/plain": [
       "<Figure size 432x288 with 1 Axes>"
      ]
     },
     "metadata": {
      "needs_background": "light"
     },
     "output_type": "display_data"
    }
   ],
   "source": [
    "sns.scatterplot(x=\"Total Bags\",y='AveragePrice',data=df)"
   ]
  },
  {
   "cell_type": "code",
   "execution_count": 22,
   "id": "6d0f796e",
   "metadata": {},
   "outputs": [
    {
     "data": {
      "text/plain": [
       "<AxesSubplot:xlabel='Small Bags', ylabel='AveragePrice'>"
      ]
     },
     "execution_count": 22,
     "metadata": {},
     "output_type": "execute_result"
    },
    {
     "data": {
      "image/png": "[encoded data removed]",
      "text/plain": [
       "<Figure size 432x288 with 1 Axes>"
      ]
     },
     "metadata": {
      "needs_background": "light"
     },
     "output_type": "display_data"
    }
   ],
   "source": [
    "sns.scatterplot(x=\"Small Bags\",y='AveragePrice',data=df)"
   ]
  },
  {
   "cell_type": "code",
   "execution_count": 23,
   "id": "805d95b4",
   "metadata": {},
   "outputs": [
    {
     "data": {
      "text/plain": [
       "<AxesSubplot:xlabel='type', ylabel='AveragePrice'>"
      ]
     },
     "execution_count": 23,
     "metadata": {},
     "output_type": "execute_result"
    },
    {
     "data": {
      "image/png": "[encoded data removed]",
      "text/plain": [
       "<Figure size 432x288 with 1 Axes>"
      ]
     },
     "metadata": {
      "needs_background": "light"
     },
     "output_type": "display_data"
    }
   ],
   "source": [
    "sns.scatterplot(x=\"type\",y='AveragePrice',data=df)"
   ]
  },
  {
   "cell_type": "code",
   "execution_count": 24,
   "id": "3b37682a",
   "metadata": {},
   "outputs": [
    {
     "data": {
      "text/plain": [
       "<AxesSubplot:xlabel='region', ylabel='AveragePrice'>"
      ]
     },
     "execution_count": 24,
     "metadata": {},
     "output_type": "execute_result"
    },
    {
     "data": {
      "image/png": "[encoded data removed]",
      "text/plain": [
       "<Figure size 432x288 with 1 Axes>"
      ]
     },
     "metadata": {
      "needs_background": "light"
     },
     "output_type": "display_data"
    }
   ],
   "source": [
    "sns.scatterplot(x='region',y='AveragePrice',data=df)"
   ]
  },
  {
   "cell_type": "code",
   "execution_count": 25,
   "id": "4ec5ad85",
   "metadata": {},
   "outputs": [
    {
     "data": {
      "text/plain": [
       "<AxesSubplot:xlabel='year', ylabel='AveragePrice'>"
      ]
     },
     "execution_count": 25,
     "metadata": {},
     "output_type": "execute_result"
    },
    {
     "data": {
      "image/png": "[encoded data removed]",
      "text/plain": [
       "<Figure size 432x288 with 1 Axes>"
      ]
     },
     "metadata": {
      "needs_background": "light"
     },
     "output_type": "display_data"
    }
   ],
   "source": [
    "sns.scatterplot(x='year',y='AveragePrice',data=df)"
   ]
  },
  {
   "cell_type": "code",
   "execution_count": 26,
   "id": "2e5b6099",
   "metadata": {},
   "outputs": [
    {
     "data": {
      "text/plain": [
       "<AxesSubplot:xlabel='XLarge Bags', ylabel='AveragePrice'>"
      ]
     },
     "execution_count": 26,
     "metadata": {},
     "output_type": "execute_result"
    },
    {
     "data": {
      "image/png": "[encoded data removed]",
      "text/plain": [
       "<Figure size 432x288 with 1 Axes>"
      ]
     },
     "metadata": {
      "needs_background": "light"
     },
     "output_type": "display_data"
    }
   ],
   "source": [
    "sns.scatterplot(x='XLarge Bags',y='AveragePrice',data=df)"
   ]
  },
  {
   "cell_type": "code",
   "execution_count": 27,
   "id": "f666f976",
   "metadata": {},
   "outputs": [
    {
     "data": {
      "text/plain": [
       "<AxesSubplot:xlabel='type', ylabel='region'>"
      ]
     },
     "execution_count": 27,
     "metadata": {},
     "output_type": "execute_result"
    },
    {
     "data": {
      "image/png": "[encoded data removed]",
      "text/plain": [
       "<Figure size 432x288 with 1 Axes>"
      ]
     },
     "metadata": {
      "needs_background": "light"
     },
     "output_type": "display_data"
    }
   ],
   "source": [
    "sns.scatterplot(x=\"type\",y='region',data=df)   #for target variable Region  (classification)"
   ]
  },
  {
   "cell_type": "code",
   "execution_count": 28,
   "id": "72d940fd",
   "metadata": {},
   "outputs": [
    {
     "data": {
      "text/plain": [
       "<AxesSubplot:xlabel='AveragePrice', ylabel='region'>"
      ]
     },
     "execution_count": 28,
     "metadata": {},
     "output_type": "execute_result"
    },
    {
     "data": {
      "image/png": "[encoded data removed]",
      "text/plain": [
       "<Figure size 432x288 with 1 Axes>"
      ]
     },
     "metadata": {
      "needs_background": "light"
     },
     "output_type": "display_data"
    }
   ],
   "source": [
    "sns.scatterplot(x='AveragePrice',y='region',data=df)"
   ]
  },
  {
   "cell_type": "code",
   "execution_count": 29,
   "id": "e2274868",
   "metadata": {},
   "outputs": [
    {
     "data": {
      "text/plain": [
       "<AxesSubplot:xlabel='Total Bags', ylabel='region'>"
      ]
     },
     "execution_count": 29,
     "metadata": {},
     "output_type": "execute_result"
    },
    {
     "data": {
      "image/png": "[encoded data removed]",
      "text/plain": [
       "<Figure size 432x288 with 1 Axes>"
      ]
     },
     "metadata": {
      "needs_background": "light"
     },
     "output_type": "display_data"
    }
   ],
   "source": [
    "sns.scatterplot(x='Total Bags',y='region',data=df)"
   ]
  },
  {
   "cell_type": "code",
   "execution_count": 30,
   "id": "82786a1c",
   "metadata": {},
   "outputs": [
    {
     "data": {
      "text/plain": [
       "<AxesSubplot:xlabel='Small Bags', ylabel='region'>"
      ]
     },
     "execution_count": 30,
     "metadata": {},
     "output_type": "execute_result"
    },
    {
     "data": {
      "image/png": "[encoded data removed]",
      "text/plain": [
       "<Figure size 432x288 with 1 Axes>"
      ]
     },
     "metadata": {
      "needs_background": "light"
     },
     "output_type": "display_data"
    }
   ],
   "source": [
    "sns.scatterplot(x='Small Bags',y='region',data=df)"
   ]
  },
  {
   "cell_type": "code",
   "execution_count": 31,
   "id": "6049f11f",
   "metadata": {},
   "outputs": [
    {
     "data": {
      "text/plain": [
       "<AxesSubplot:xlabel='year', ylabel='region'>"
      ]
     },
     "execution_count": 31,
     "metadata": {},
     "output_type": "execute_result"
    },
    {
     "data": {
      "image/png": "[encoded data removed]",
      "text/plain": [
       "<Figure size 432x288 with 1 Axes>"
      ]
     },
     "metadata": {
      "needs_background": "light"
     },
     "output_type": "display_data"
    }
   ],
   "source": [
    "sns.scatterplot(x='year',y='region',data=df)"
   ]
  },
  {
   "cell_type": "code",
   "execution_count": 32,
   "id": "86e094d8",
   "metadata": {},
   "outputs": [
    {
     "data": {
      "text/plain": [
       "<AxesSubplot:xlabel='Total Volume', ylabel='region'>"
      ]
     },
     "execution_count": 32,
     "metadata": {},
     "output_type": "execute_result"
    },
    {
     "data": {
      "image/png": "[encoded data removed]",
      "text/plain": [
       "<Figure size 432x288 with 1 Axes>"
      ]
     },
     "metadata": {
      "needs_background": "light"
     },
     "output_type": "display_data"
    }
   ],
   "source": [
    "sns.scatterplot(x='Total Volume',y='region',data=df)"
   ]
  },
  {
   "cell_type": "markdown",
   "id": "49cff811",
   "metadata": {},
   "source": [
    "Checking Skewness"
   ]
  },
  {
   "cell_type": "code",
   "execution_count": 33,
   "id": "5fbf811e",
   "metadata": {},
   "outputs": [
    {
     "data": {
      "text/plain": [
       "AveragePrice     0.580303\n",
       "Total Volume     9.007687\n",
       "4046             8.648220\n",
       "4225             8.942466\n",
       "4770            10.159396\n",
       "Total Bags       9.756072\n",
       "Small Bags       9.540660\n",
       "Large Bags       9.796455\n",
       "XLarge Bags     13.139751\n",
       "type             0.000329\n",
       "year             0.215339\n",
       "region           0.000030\n",
       "dtype: float64"
      ]
     },
     "execution_count": 33,
     "metadata": {},
     "output_type": "execute_result"
    }
   ],
   "source": [
    "df.skew()     #Skewness is present in the columns"
   ]
  },
  {
   "cell_type": "code",
   "execution_count": 34,
   "id": "a9c81f3b",
   "metadata": {},
   "outputs": [
    {
     "data": {
      "text/plain": [
       "<AxesSubplot:xlabel='Total Volume', ylabel='Density'>"
      ]
     },
     "execution_count": 34,
     "metadata": {},
     "output_type": "execute_result"
    },
    {
     "data": {
      "image/png": "[encoded data removed]",
      "text/plain": [
       "<Figure size 432x288 with 1 Axes>"
      ]
     },
     "metadata": {
      "needs_background": "light"
     },
     "output_type": "display_data"
    }
   ],
   "source": [
    "sns.distplot(df['Total Volume'])"
   ]
  },
  {
   "cell_type": "code",
   "execution_count": 35,
   "id": "4a1b6fae",
   "metadata": {},
   "outputs": [
    {
     "data": {
      "text/plain": [
       "<AxesSubplot:xlabel='XLarge Bags', ylabel='Density'>"
      ]
     },
     "execution_count": 35,
     "metadata": {},
     "output_type": "execute_result"
    },
    {
     "data": {
      "image/png": "[encoded data removed]",
      "text/plain": [
       "<Figure size 432x288 with 1 Axes>"
      ]
     },
     "metadata": {
      "needs_background": "light"
     },
     "output_type": "display_data"
    }
   ],
   "source": [
    "sns.distplot(df['XLarge Bags'])"
   ]
  },
  {
   "cell_type": "code",
   "execution_count": 36,
   "id": "013c7bd5",
   "metadata": {},
   "outputs": [
    {
     "data": {
      "text/plain": [
       "array([[<AxesSubplot:ylabel='Density'>, <AxesSubplot:ylabel='Density'>,\n",
       "        <AxesSubplot:ylabel='Density'>, <AxesSubplot:ylabel='Density'>,\n",
       "        <AxesSubplot:ylabel='Density'>],\n",
       "       [<AxesSubplot:ylabel='Density'>, <AxesSubplot:ylabel='Density'>,\n",
       "        <AxesSubplot:ylabel='Density'>, <AxesSubplot:ylabel='Density'>,\n",
       "        <AxesSubplot:ylabel='Density'>],\n",
       "       [<AxesSubplot:ylabel='Density'>, <AxesSubplot:ylabel='Density'>,\n",
       "        <AxesSubplot:ylabel='Density'>, <AxesSubplot:ylabel='Density'>,\n",
       "        <AxesSubplot:ylabel='Density'>]], dtype=object)"
      ]
     },
     "execution_count": 36,
     "metadata": {},
     "output_type": "execute_result"
    },
    {
     "data": {
      "image/png": "[encoded data removed]",
      "text/plain": [
       "<Figure size 720x864 with 15 Axes>"
      ]
     },
     "metadata": {
      "needs_background": "light"
     },
     "output_type": "display_data"
    }
   ],
   "source": [
    "df.plot(kind='kde',subplots=True,layout=(3,5),figsize=(10,12))  # to find skewness of all the columns"
   ]
  },
  {
   "cell_type": "markdown",
   "id": "79a092e7",
   "metadata": {},
   "source": [
    "Checking Outliers"
   ]
  },
  {
   "cell_type": "code",
   "execution_count": 37,
   "id": "3cdb01f2",
   "metadata": {},
   "outputs": [
    {
     "data": {
      "text/plain": [
       "<AxesSubplot:xlabel='AveragePrice'>"
      ]
     },
     "execution_count": 37,
     "metadata": {},
     "output_type": "execute_result"
    },
    {
     "data": {
      "image/png": "[encoded data removed]",
      "text/plain": [
       "<Figure size 432x288 with 1 Axes>"
      ]
     },
     "metadata": {
      "needs_background": "light"
     },
     "output_type": "display_data"
    }
   ],
   "source": [
    "sns.boxplot(df['AveragePrice'])   #outliers are present in this column"
   ]
  },
  {
   "cell_type": "code",
   "execution_count": 38,
   "id": "f98f7e72",
   "metadata": {},
   "outputs": [
    {
     "data": {
      "text/plain": [
       "<AxesSubplot:xlabel='Total Volume'>"
      ]
     },
     "execution_count": 38,
     "metadata": {},
     "output_type": "execute_result"
    },
    {
     "data": {
      "image/png": "[encoded data removed]",
      "text/plain": [
       "<Figure size 432x288 with 1 Axes>"
      ]
     },
     "metadata": {
      "needs_background": "light"
     },
     "output_type": "display_data"
    }
   ],
   "source": [
    "sns.boxplot(df['Total Volume'])"
   ]
  },
  {
   "cell_type": "code",
   "execution_count": 39,
   "id": "f6629f8f",
   "metadata": {},
   "outputs": [
    {
     "data": {
      "text/plain": [
       "<AxesSubplot:xlabel='XLarge Bags'>"
      ]
     },
     "execution_count": 39,
     "metadata": {},
     "output_type": "execute_result"
    },
    {
     "data": {
      "image/png": "[encoded data removed]",
      "text/plain": [
       "<Figure size 432x288 with 1 Axes>"
      ]
     },
     "metadata": {
      "needs_background": "light"
     },
     "output_type": "display_data"
    }
   ],
   "source": [
    "sns.boxplot(df['XLarge Bags'])"
   ]
  },
  {
   "cell_type": "code",
   "execution_count": 40,
   "id": "a88c6783",
   "metadata": {},
   "outputs": [
    {
     "data": {
      "text/plain": [
       "<AxesSubplot:xlabel='Large Bags'>"
      ]
     },
     "execution_count": 40,
     "metadata": {},
     "output_type": "execute_result"
    },
    {
     "data": {
      "image/png": "[encoded data removed]",
      "text/plain": [
       "<Figure size 432x288 with 1 Axes>"
      ]
     },
     "metadata": {
      "needs_background": "light"
     },
     "output_type": "display_data"
    }
   ],
   "source": [
    "sns.boxplot(df['Large Bags'])"
   ]
  },
  {
   "cell_type": "code",
   "execution_count": 41,
   "id": "52bc982b",
   "metadata": {},
   "outputs": [
    {
     "data": {
      "text/plain": [
       "<AxesSubplot:xlabel='Total Bags'>"
      ]
     },
     "execution_count": 41,
     "metadata": {},
     "output_type": "execute_result"
    },
    {
     "data": {
      "image/png": "[encoded data removed]",
      "text/plain": [
       "<Figure size 432x288 with 1 Axes>"
      ]
     },
     "metadata": {
      "needs_background": "light"
     },
     "output_type": "display_data"
    }
   ],
   "source": [
    "sns.boxplot(df['Total Bags'])"
   ]
  },
  {
   "cell_type": "code",
   "execution_count": 42,
   "id": "ed451966",
   "metadata": {},
   "outputs": [
    {
     "data": {
      "text/plain": [
       "<AxesSubplot:xlabel='Small Bags'>"
      ]
     },
     "execution_count": 42,
     "metadata": {},
     "output_type": "execute_result"
    },
    {
     "data": {
      "image/png": "[encoded data removed]",
      "text/plain": [
       "<Figure size 432x288 with 1 Axes>"
      ]
     },
     "metadata": {
      "needs_background": "light"
     },
     "output_type": "display_data"
    }
   ],
   "source": [
    "sns.boxplot(df['Small Bags'])"
   ]
  },
  {
   "cell_type": "code",
   "execution_count": 43,
   "id": "50be6271",
   "metadata": {},
   "outputs": [
    {
     "data": {
      "text/plain": [
       "<AxesSubplot:xlabel='4046'>"
      ]
     },
     "execution_count": 43,
     "metadata": {},
     "output_type": "execute_result"
    },
    {
     "data": {
      "image/png": "[encoded data removed]",
      "text/plain": [
       "<Figure size 432x288 with 1 Axes>"
      ]
     },
     "metadata": {
      "needs_background": "light"
     },
     "output_type": "display_data"
    }
   ],
   "source": [
    "sns.boxplot(df[4046])"
   ]
  },
  {
   "cell_type": "code",
   "execution_count": 44,
   "id": "63a174b8",
   "metadata": {},
   "outputs": [
    {
     "data": {
      "text/plain": [
       "<AxesSubplot:xlabel='4225'>"
      ]
     },
     "execution_count": 44,
     "metadata": {},
     "output_type": "execute_result"
    },
    {
     "data": {
      "image/png": "[encoded data removed]",
      "text/plain": [
       "<Figure size 432x288 with 1 Axes>"
      ]
     },
     "metadata": {
      "needs_background": "light"
     },
     "output_type": "display_data"
    }
   ],
   "source": [
    "sns.boxplot(df[4225])"
   ]
  },
  {
   "cell_type": "code",
   "execution_count": 45,
   "id": "7ece7853",
   "metadata": {},
   "outputs": [
    {
     "data": {
      "text/plain": [
       "<AxesSubplot:xlabel='4770'>"
      ]
     },
     "execution_count": 45,
     "metadata": {},
     "output_type": "execute_result"
    },
    {
     "data": {
      "image/png": "[encoded data removed]",
      "text/plain": [
       "<Figure size 432x288 with 1 Axes>"
      ]
     },
     "metadata": {
      "needs_background": "light"
     },
     "output_type": "display_data"
    }
   ],
   "source": [
    "sns.boxplot(df[4770])"
   ]
  },
  {
   "cell_type": "markdown",
   "id": "96a00a76",
   "metadata": {},
   "source": [
    "We see huge Outliers are present in all the columns"
   ]
  },
  {
   "cell_type": "markdown",
   "id": "ec687734",
   "metadata": {},
   "source": [
    "  Removing outliers from the data"
   ]
  },
  {
   "cell_type": "code",
   "execution_count": 46,
   "id": "72fd748d",
   "metadata": {},
   "outputs": [
    {
     "data": {
      "text/plain": [
       "(18249, 12)"
      ]
     },
     "execution_count": 46,
     "metadata": {},
     "output_type": "execute_result"
    }
   ],
   "source": [
    "from scipy.stats import zscore\n",
    "z=np.abs(zscore(df))\n",
    "z.shape"
   ]
  },
  {
   "cell_type": "code",
   "execution_count": 47,
   "id": "8ef77222",
   "metadata": {},
   "outputs": [
    {
     "name": "stdout",
     "output_type": "stream",
     "text": [
      "(array([  346,   359,   780, ..., 17304, 17402, 17428], dtype=int64), array([2, 2, 8, ..., 0, 0, 0], dtype=int64))\n"
     ]
    }
   ],
   "source": [
    "threshold=3\n",
    "print(np.where(z>3))"
   ]
  },
  {
   "cell_type": "code",
   "execution_count": 48,
   "id": "c205b7f0",
   "metadata": {},
   "outputs": [
    {
     "data": {
      "text/plain": [
       "1773"
      ]
     },
     "execution_count": 48,
     "metadata": {},
     "output_type": "execute_result"
    }
   ],
   "source": [
    "len(np.where(z>3)[0])"
   ]
  },
  {
   "cell_type": "code",
   "execution_count": 49,
   "id": "83966e70",
   "metadata": {},
   "outputs": [
    {
     "name": "stdout",
     "output_type": "stream",
     "text": [
      "df_new shape (17651, 12)\n",
      "df shape (18249, 12)\n"
     ]
    }
   ],
   "source": [
    "df_new=df[(z<3).all(axis=1)]\n",
    "print('df_new shape',df_new.shape)\n",
    "print('df shape',df.shape)"
   ]
  },
  {
   "cell_type": "code",
   "execution_count": 50,
   "id": "a625a98a",
   "metadata": {},
   "outputs": [
    {
     "name": "stdout",
     "output_type": "stream",
     "text": [
      "% of loss= 3.276891884486821\n"
     ]
    }
   ],
   "source": [
    "loss_data=(18249-17651)/18249*100\n",
    "print('% of loss=',loss_data)"
   ]
  },
  {
   "cell_type": "markdown",
   "id": "0266ef69",
   "metadata": {},
   "source": [
    "Less percentage of data loss"
   ]
  },
  {
   "cell_type": "code",
   "execution_count": 51,
   "id": "2b51dd2c",
   "metadata": {},
   "outputs": [
    {
     "name": "stdout",
     "output_type": "stream",
     "text": [
      "         feature           VIF\n",
      "0   Total Volume  5.212294e+09\n",
      "1           4046  6.946814e+08\n",
      "2           4225  6.332813e+08\n",
      "3           4770  4.973250e+06\n",
      "4     Total Bags  2.502000e+14\n",
      "5     Small Bags  1.429714e+14\n",
      "6     Large Bags  1.521486e+13\n",
      "7    XLarge Bags  7.855572e+10\n",
      "8           type  2.123029e+00\n",
      "9           year  5.050744e+00\n",
      "10        region  4.160407e+00\n"
     ]
    }
   ],
   "source": [
    "from statsmodels.stats.outliers_influence import variance_inflation_factor  \n",
    "X = df[['Total Volume',4046,4225,4770,'Total Bags','Small Bags','Large Bags',\n",
    "        'XLarge Bags','type','year','region']]\n",
    "  \n",
    "# VIF dataframe                                       # to find multi colinearity\n",
    "vif_df = pd.DataFrame()\n",
    "vif_df[\"feature\"] = X.columns\n",
    "  \n",
    "# calculating VIF for each feature\n",
    "vif_df[\"VIF\"] = [variance_inflation_factor(X.values, i)\n",
    "                          for i in range(len(X.columns))]                 #we find there's no much mutlicolinearity in the data\n",
    "print(vif_df)"
   ]
  },
  {
   "cell_type": "code",
   "execution_count": 52,
   "id": "b05b2a01",
   "metadata": {},
   "outputs": [],
   "source": [
    "# we will drop few columns due to colinearity using VIF"
   ]
  },
  {
   "cell_type": "code",
   "execution_count": 53,
   "id": "463c053b",
   "metadata": {},
   "outputs": [],
   "source": [
    "#Splitting of data\n",
    "x1=df_new.drop(['AveragePrice',4046,'Small Bags'],axis=1)    #for regression model\n",
    "y1=df_new['AveragePrice']\n",
    "\n",
    "x2=df_new.drop(('region'),axis=1)         #for classification model\n",
    "y2=df_new['region']"
   ]
  },
  {
   "cell_type": "code",
   "execution_count": 54,
   "id": "730194f7",
   "metadata": {},
   "outputs": [],
   "source": [
    "#But we see that when PCA is applied  the r2score of the model is decreasing hence we would conider the previous data"
   ]
  },
  {
   "cell_type": "code",
   "execution_count": 55,
   "id": "924c93af",
   "metadata": {},
   "outputs": [
    {
     "data": {
      "text/html": [
       "<div>\n",
       "<style scoped>\n",
       "    .dataframe tbody tr th:only-of-type {\n",
       "        vertical-align: middle;\n",
       "    }\n",
       "\n",
       "    .dataframe tbody tr th {\n",
       "        vertical-align: top;\n",
       "    }\n",
       "\n",
       "    .dataframe thead th {\n",
       "        text-align: right;\n",
       "    }\n",
       "</style>\n",
       "<table border=\"1\" class=\"dataframe\">\n",
       "  <thead>\n",
       "    <tr style=\"text-align: right;\">\n",
       "      <th></th>\n",
       "      <th>Total Volume</th>\n",
       "      <th>4225</th>\n",
       "      <th>4770</th>\n",
       "      <th>Total Bags</th>\n",
       "      <th>Large Bags</th>\n",
       "      <th>XLarge Bags</th>\n",
       "      <th>type</th>\n",
       "      <th>year</th>\n",
       "      <th>region</th>\n",
       "    </tr>\n",
       "    <tr>\n",
       "      <th>Date</th>\n",
       "      <th></th>\n",
       "      <th></th>\n",
       "      <th></th>\n",
       "      <th></th>\n",
       "      <th></th>\n",
       "      <th></th>\n",
       "      <th></th>\n",
       "      <th></th>\n",
       "      <th></th>\n",
       "    </tr>\n",
       "  </thead>\n",
       "  <tbody>\n",
       "    <tr>\n",
       "      <th>2015-12-27</th>\n",
       "      <td>64236.62</td>\n",
       "      <td>54454.85</td>\n",
       "      <td>48.16</td>\n",
       "      <td>8696.87</td>\n",
       "      <td>93.25</td>\n",
       "      <td>0.0</td>\n",
       "      <td>0</td>\n",
       "      <td>2015</td>\n",
       "      <td>0</td>\n",
       "    </tr>\n",
       "    <tr>\n",
       "      <th>2015-12-20</th>\n",
       "      <td>54876.98</td>\n",
       "      <td>44638.81</td>\n",
       "      <td>58.33</td>\n",
       "      <td>9505.56</td>\n",
       "      <td>97.49</td>\n",
       "      <td>0.0</td>\n",
       "      <td>0</td>\n",
       "      <td>2015</td>\n",
       "      <td>0</td>\n",
       "    </tr>\n",
       "    <tr>\n",
       "      <th>2015-12-13</th>\n",
       "      <td>118220.22</td>\n",
       "      <td>109149.67</td>\n",
       "      <td>130.50</td>\n",
       "      <td>8145.35</td>\n",
       "      <td>103.14</td>\n",
       "      <td>0.0</td>\n",
       "      <td>0</td>\n",
       "      <td>2015</td>\n",
       "      <td>0</td>\n",
       "    </tr>\n",
       "    <tr>\n",
       "      <th>2015-12-06</th>\n",
       "      <td>78992.15</td>\n",
       "      <td>71976.41</td>\n",
       "      <td>72.58</td>\n",
       "      <td>5811.16</td>\n",
       "      <td>133.76</td>\n",
       "      <td>0.0</td>\n",
       "      <td>0</td>\n",
       "      <td>2015</td>\n",
       "      <td>0</td>\n",
       "    </tr>\n",
       "    <tr>\n",
       "      <th>2015-11-29</th>\n",
       "      <td>51039.60</td>\n",
       "      <td>43838.39</td>\n",
       "      <td>75.78</td>\n",
       "      <td>6183.95</td>\n",
       "      <td>197.69</td>\n",
       "      <td>0.0</td>\n",
       "      <td>0</td>\n",
       "      <td>2015</td>\n",
       "      <td>0</td>\n",
       "    </tr>\n",
       "    <tr>\n",
       "      <th>...</th>\n",
       "      <td>...</td>\n",
       "      <td>...</td>\n",
       "      <td>...</td>\n",
       "      <td>...</td>\n",
       "      <td>...</td>\n",
       "      <td>...</td>\n",
       "      <td>...</td>\n",
       "      <td>...</td>\n",
       "      <td>...</td>\n",
       "    </tr>\n",
       "    <tr>\n",
       "      <th>2018-02-04</th>\n",
       "      <td>17074.83</td>\n",
       "      <td>1529.20</td>\n",
       "      <td>0.00</td>\n",
       "      <td>13498.67</td>\n",
       "      <td>431.85</td>\n",
       "      <td>0.0</td>\n",
       "      <td>1</td>\n",
       "      <td>2018</td>\n",
       "      <td>53</td>\n",
       "    </tr>\n",
       "    <tr>\n",
       "      <th>2018-01-28</th>\n",
       "      <td>13888.04</td>\n",
       "      <td>3431.50</td>\n",
       "      <td>0.00</td>\n",
       "      <td>9264.84</td>\n",
       "      <td>324.80</td>\n",
       "      <td>0.0</td>\n",
       "      <td>1</td>\n",
       "      <td>2018</td>\n",
       "      <td>53</td>\n",
       "    </tr>\n",
       "    <tr>\n",
       "      <th>2018-01-21</th>\n",
       "      <td>13766.76</td>\n",
       "      <td>2452.79</td>\n",
       "      <td>727.94</td>\n",
       "      <td>9394.11</td>\n",
       "      <td>42.31</td>\n",
       "      <td>0.0</td>\n",
       "      <td>1</td>\n",
       "      <td>2018</td>\n",
       "      <td>53</td>\n",
       "    </tr>\n",
       "    <tr>\n",
       "      <th>2018-01-14</th>\n",
       "      <td>16205.22</td>\n",
       "      <td>2981.04</td>\n",
       "      <td>727.01</td>\n",
       "      <td>10969.54</td>\n",
       "      <td>50.00</td>\n",
       "      <td>0.0</td>\n",
       "      <td>1</td>\n",
       "      <td>2018</td>\n",
       "      <td>53</td>\n",
       "    </tr>\n",
       "    <tr>\n",
       "      <th>2018-01-07</th>\n",
       "      <td>17489.58</td>\n",
       "      <td>2356.13</td>\n",
       "      <td>224.53</td>\n",
       "      <td>12014.15</td>\n",
       "      <td>26.01</td>\n",
       "      <td>0.0</td>\n",
       "      <td>1</td>\n",
       "      <td>2018</td>\n",
       "      <td>53</td>\n",
       "    </tr>\n",
       "  </tbody>\n",
       "</table>\n",
       "<p>17651 rows × 9 columns</p>\n",
       "</div>"
      ],
      "text/plain": [
       "            Total Volume       4225    4770  Total Bags  Large Bags  \\\n",
       "Date                                                                  \n",
       "2015-12-27      64236.62   54454.85   48.16     8696.87       93.25   \n",
       "2015-12-20      54876.98   44638.81   58.33     9505.56       97.49   \n",
       "2015-12-13     118220.22  109149.67  130.50     8145.35      103.14   \n",
       "2015-12-06      78992.15   71976.41   72.58     5811.16      133.76   \n",
       "2015-11-29      51039.60   43838.39   75.78     6183.95      197.69   \n",
       "...                  ...        ...     ...         ...         ...   \n",
       "2018-02-04      17074.83    1529.20    0.00    13498.67      431.85   \n",
       "2018-01-28      13888.04    3431.50    0.00     9264.84      324.80   \n",
       "2018-01-21      13766.76    2452.79  727.94     9394.11       42.31   \n",
       "2018-01-14      16205.22    2981.04  727.01    10969.54       50.00   \n",
       "2018-01-07      17489.58    2356.13  224.53    12014.15       26.01   \n",
       "\n",
       "            XLarge Bags  type  year  region  \n",
       "Date                                         \n",
       "2015-12-27          0.0     0  2015       0  \n",
       "2015-12-20          0.0     0  2015       0  \n",
       "2015-12-13          0.0     0  2015       0  \n",
       "2015-12-06          0.0     0  2015       0  \n",
       "2015-11-29          0.0     0  2015       0  \n",
       "...                 ...   ...   ...     ...  \n",
       "2018-02-04          0.0     1  2018      53  \n",
       "2018-01-28          0.0     1  2018      53  \n",
       "2018-01-21          0.0     1  2018      53  \n",
       "2018-01-14          0.0     1  2018      53  \n",
       "2018-01-07          0.0     1  2018      53  \n",
       "\n",
       "[17651 rows x 9 columns]"
      ]
     },
     "execution_count": 55,
     "metadata": {},
     "output_type": "execute_result"
    }
   ],
   "source": [
    "x1"
   ]
  },
  {
   "cell_type": "code",
   "execution_count": 56,
   "id": "bf8e7b4c",
   "metadata": {},
   "outputs": [
    {
     "data": {
      "text/plain": [
       "Date\n",
       "2015-12-27    1.33\n",
       "2015-12-20    1.35\n",
       "2015-12-13    0.93\n",
       "2015-12-06    1.08\n",
       "2015-11-29    1.28\n",
       "              ... \n",
       "2018-02-04    1.63\n",
       "2018-01-28    1.71\n",
       "2018-01-21    1.87\n",
       "2018-01-14    1.93\n",
       "2018-01-07    1.62\n",
       "Name: AveragePrice, Length: 17651, dtype: float64"
      ]
     },
     "execution_count": 56,
     "metadata": {},
     "output_type": "execute_result"
    }
   ],
   "source": [
    "y1"
   ]
  },
  {
   "cell_type": "markdown",
   "id": "f538804b",
   "metadata": {},
   "source": [
    "To remove Skewness"
   ]
  },
  {
   "cell_type": "code",
   "execution_count": 57,
   "id": "95722251",
   "metadata": {},
   "outputs": [],
   "source": [
    "from sklearn.preprocessing import power_transform     #to remove skewness in the data\n",
    "x1=power_transform(x1,method='yeo-johnson')"
   ]
  },
  {
   "cell_type": "code",
   "execution_count": 58,
   "id": "f0bc1bfb",
   "metadata": {},
   "outputs": [
    {
     "data": {
      "text/plain": [
       "array([[-0.07532391,  0.35142978, -0.22256614, ..., -1.01904715,\n",
       "        -1.2106467 , -2.01058988],\n",
       "       [-0.14749743,  0.26951276, -0.17522332, ..., -1.01904715,\n",
       "        -1.2106467 , -2.01058988],\n",
       "       [ 0.20555557,  0.64933326,  0.02392282, ..., -1.01904715,\n",
       "        -1.2106467 , -2.01058988],\n",
       "       ...,\n",
       "       [-0.77527398, -0.77889327,  0.4457104 , ...,  0.98130886,\n",
       "         1.97870686,  1.57828237],\n",
       "       [-0.70179733, -0.71637127,  0.44539937, ...,  0.98130886,\n",
       "         1.97870686,  1.57828237],\n",
       "       [-0.66738095, -0.79165015,  0.15776753, ...,  0.98130886,\n",
       "         1.97870686,  1.57828237]])"
      ]
     },
     "execution_count": 58,
     "metadata": {},
     "output_type": "execute_result"
    }
   ],
   "source": [
    "x1"
   ]
  },
  {
   "cell_type": "code",
   "execution_count": 59,
   "id": "84d48a51",
   "metadata": {},
   "outputs": [
    {
     "data": {
      "text/plain": [
       "array([[-0.07532391,  0.35142978, -0.22256614, ..., -1.01904715,\n",
       "        -1.21061818, -2.01058988],\n",
       "       [-0.14749743,  0.26951276, -0.17522332, ..., -1.01904715,\n",
       "        -1.21061818, -2.01058988],\n",
       "       [ 0.20555557,  0.64933326,  0.02392282, ..., -1.01904715,\n",
       "        -1.21061818, -2.01058988],\n",
       "       ...,\n",
       "       [-0.77527398, -0.77889327,  0.4457104 , ...,  0.98130886,\n",
       "         1.97873539,  1.57828237],\n",
       "       [-0.70179733, -0.71637127,  0.44539937, ...,  0.98130886,\n",
       "         1.97873539,  1.57828237],\n",
       "       [-0.66738095, -0.79165015,  0.15776753, ...,  0.98130886,\n",
       "         1.97873539,  1.57828237]])"
      ]
     },
     "execution_count": 59,
     "metadata": {},
     "output_type": "execute_result"
    }
   ],
   "source": [
    "from sklearn.preprocessing import StandardScaler   # to scale the data\n",
    "sc=StandardScaler()\n",
    "x1=sc.fit_transform(x1)\n",
    "x1"
   ]
  },
  {
   "cell_type": "code",
   "execution_count": 60,
   "id": "f3562d1b",
   "metadata": {},
   "outputs": [],
   "source": [
    "#The data is now fit to be trained"
   ]
  },
  {
   "cell_type": "code",
   "execution_count": 61,
   "id": "074ab7c6",
   "metadata": {},
   "outputs": [],
   "source": [
    "# For Regression model Average Price is the target variable"
   ]
  },
  {
   "cell_type": "code",
   "execution_count": 62,
   "id": "082000e3",
   "metadata": {},
   "outputs": [],
   "source": [
    "from sklearn.linear_model import LinearRegression\n",
    "lr=LinearRegression()\n",
    "from sklearn.metrics import r2_score     #r2score is used to test the model's accuracy\n",
    "from sklearn.model_selection import train_test_split"
   ]
  },
  {
   "cell_type": "code",
   "execution_count": 63,
   "id": "2d99a2da",
   "metadata": {},
   "outputs": [
    {
     "name": "stdout",
     "output_type": "stream",
     "text": [
      "at random state 0,the training accuracy is,0.5083007414981483\n",
      "at random state 0, the testing accuracy is ,0.5040914083658776\n",
      "\n",
      "\n",
      "at random state 1,the training accuracy is,0.5085630622832635\n",
      "at random state 1, the testing accuracy is ,0.503249280774026\n",
      "\n",
      "\n",
      "at random state 2,the training accuracy is,0.5111082509641134\n",
      "at random state 2, the testing accuracy is ,0.4928903046962595\n",
      "\n",
      "\n",
      "at random state 3,the training accuracy is,0.505026634833533\n",
      "at random state 3, the testing accuracy is ,0.5173221813378663\n",
      "\n",
      "\n",
      "at random state 4,the training accuracy is,0.5062493855235047\n",
      "at random state 4, the testing accuracy is ,0.5124403442084526\n",
      "\n",
      "\n",
      "at random state 5,the training accuracy is,0.502217146277091\n",
      "at random state 5, the testing accuracy is ,0.5276018841634813\n",
      "\n",
      "\n",
      "at random state 6,the training accuracy is,0.5017883332001036\n",
      "at random state 6, the testing accuracy is ,0.5295569095636956\n",
      "\n",
      "\n",
      "at random state 7,the training accuracy is,0.5055523769451946\n",
      "at random state 7, the testing accuracy is ,0.5147275743009787\n",
      "\n",
      "\n",
      "at random state 8,the training accuracy is,0.5044641869110924\n",
      "at random state 8, the testing accuracy is ,0.5185526102408229\n",
      "\n",
      "\n",
      "at random state 9,the training accuracy is,0.5054004651230761\n",
      "at random state 9, the testing accuracy is ,0.5154939609689265\n",
      "\n",
      "\n",
      "at random state 10,the training accuracy is,0.5124749800822854\n",
      "at random state 10, the testing accuracy is ,0.486906092746781\n",
      "\n",
      "\n",
      "at random state 11,the training accuracy is,0.5060266942551599\n",
      "at random state 11, the testing accuracy is ,0.5131598385912491\n",
      "\n",
      "\n",
      "at random state 12,the training accuracy is,0.5091291578198285\n",
      "at random state 12, the testing accuracy is ,0.5008568157673857\n",
      "\n",
      "\n",
      "at random state 13,the training accuracy is,0.5077151118951652\n",
      "at random state 13, the testing accuracy is ,0.5064995291731982\n",
      "\n",
      "\n",
      "at random state 14,the training accuracy is,0.5046580754283018\n",
      "at random state 14, the testing accuracy is ,0.5191273683885516\n",
      "\n",
      "\n",
      "at random state 15,the training accuracy is,0.5067626616384482\n",
      "at random state 15, the testing accuracy is ,0.5103299407589571\n",
      "\n",
      "\n",
      "at random state 16,the training accuracy is,0.5074594721235312\n",
      "at random state 16, the testing accuracy is ,0.5074303849486825\n",
      "\n",
      "\n",
      "at random state 17,the training accuracy is,0.5070587051514786\n",
      "at random state 17, the testing accuracy is ,0.5090525974582119\n",
      "\n",
      "\n",
      "at random state 18,the training accuracy is,0.5071034252702467\n",
      "at random state 18, the testing accuracy is ,0.5087448782602995\n",
      "\n",
      "\n",
      "at random state 19,the training accuracy is,0.50353298471366\n",
      "at random state 19, the testing accuracy is ,0.5236957166706362\n",
      "\n",
      "\n",
      "at random state 20,the training accuracy is,0.5064955075692121\n",
      "at random state 20, the testing accuracy is ,0.5113764722649492\n",
      "\n",
      "\n",
      "at random state 21,the training accuracy is,0.5097517083981585\n",
      "at random state 21, the testing accuracy is ,0.49824872345747373\n",
      "\n",
      "\n",
      "at random state 22,the training accuracy is,0.5112761220244901\n",
      "at random state 22, the testing accuracy is ,0.49186292349674743\n",
      "\n",
      "\n",
      "at random state 23,the training accuracy is,0.5078471792397319\n",
      "at random state 23, the testing accuracy is ,0.505448418968475\n",
      "\n",
      "\n",
      "at random state 24,the training accuracy is,0.5088105332378103\n",
      "at random state 24, the testing accuracy is ,0.5018838959389816\n",
      "\n",
      "\n",
      "at random state 25,the training accuracy is,0.5055361607527668\n",
      "at random state 25, the testing accuracy is ,0.5152652639538089\n",
      "\n",
      "\n",
      "at random state 26,the training accuracy is,0.5073661801028226\n",
      "at random state 26, the testing accuracy is ,0.5079796542816982\n",
      "\n",
      "\n",
      "at random state 27,the training accuracy is,0.5074961952901547\n",
      "at random state 27, the testing accuracy is ,0.5072500506130194\n",
      "\n",
      "\n",
      "at random state 28,the training accuracy is,0.5024892735214496\n",
      "at random state 28, the testing accuracy is ,0.527886214764206\n",
      "\n",
      "\n",
      "at random state 29,the training accuracy is,0.5064198134005757\n",
      "at random state 29, the testing accuracy is ,0.5114660824174142\n",
      "\n",
      "\n",
      "at random state 30,the training accuracy is,0.5102874468981349\n",
      "at random state 30, the testing accuracy is ,0.4956090688614653\n",
      "\n",
      "\n",
      "at random state 31,the training accuracy is,0.5033465289820265\n",
      "at random state 31, the testing accuracy is ,0.5237663704689547\n",
      "\n",
      "\n",
      "at random state 32,the training accuracy is,0.5081966596078384\n",
      "at random state 32, the testing accuracy is ,0.504595716212143\n",
      "\n",
      "\n",
      "at random state 33,the training accuracy is,0.5070155395066287\n",
      "at random state 33, the testing accuracy is ,0.5091175862199677\n",
      "\n",
      "\n",
      "at random state 34,the training accuracy is,0.5087652313400385\n",
      "at random state 34, the testing accuracy is ,0.5017740630644001\n",
      "\n",
      "\n",
      "at random state 35,the training accuracy is,0.5050049733173247\n",
      "at random state 35, the testing accuracy is ,0.5172489549188457\n",
      "\n",
      "\n",
      "at random state 36,the training accuracy is,0.5104140199828711\n",
      "at random state 36, the testing accuracy is ,0.49469403089080366\n",
      "\n",
      "\n",
      "at random state 37,the training accuracy is,0.5054765587883037\n",
      "at random state 37, the testing accuracy is ,0.5155695964721333\n",
      "\n",
      "\n",
      "at random state 38,the training accuracy is,0.5061951571712433\n",
      "at random state 38, the testing accuracy is ,0.5122765101982623\n",
      "\n",
      "\n",
      "at random state 39,the training accuracy is,0.5117608069075554\n",
      "at random state 39, the testing accuracy is ,0.4895124880727265\n",
      "\n",
      "\n",
      "at random state 40,the training accuracy is,0.5077639211241112\n",
      "at random state 40, the testing accuracy is ,0.5063306784122037\n",
      "\n",
      "\n",
      "at random state 41,the training accuracy is,0.5058424206286538\n",
      "at random state 41, the testing accuracy is ,0.5139492755798023\n",
      "\n",
      "\n",
      "at random state 42,the training accuracy is,0.5061583246080659\n",
      "at random state 42, the testing accuracy is ,0.5121530207148668\n",
      "\n",
      "\n",
      "at random state 43,the training accuracy is,0.5047636223513301\n",
      "at random state 43, the testing accuracy is ,0.5181503716302838\n",
      "\n",
      "\n",
      "at random state 44,the training accuracy is,0.5127772801408412\n",
      "at random state 44, the testing accuracy is ,0.48611160756387395\n",
      "\n",
      "\n",
      "at random state 45,the training accuracy is,0.5069358095658032\n",
      "at random state 45, the testing accuracy is ,0.5091778237629903\n",
      "\n",
      "\n",
      "at random state 46,the training accuracy is,0.503875240125313\n",
      "at random state 46, the testing accuracy is ,0.5214854513407431\n",
      "\n",
      "\n",
      "at random state 47,the training accuracy is,0.5078016901555291\n",
      "at random state 47, the testing accuracy is ,0.5061242164745972\n",
      "\n",
      "\n",
      "at random state 48,the training accuracy is,0.5070319478645113\n",
      "at random state 48, the testing accuracy is ,0.5091318124311179\n",
      "\n",
      "\n",
      "at random state 49,the training accuracy is,0.5064898072116981\n",
      "at random state 49, the testing accuracy is ,0.5108267652592433\n",
      "\n",
      "\n",
      "at random state 50,the training accuracy is,0.5078778681496696\n",
      "at random state 50, the testing accuracy is ,0.5058071969653692\n",
      "\n",
      "\n",
      "at random state 51,the training accuracy is,0.5103511597441692\n",
      "at random state 51, the testing accuracy is ,0.4959481613768826\n",
      "\n",
      "\n",
      "at random state 52,the training accuracy is,0.508202932803916\n",
      "at random state 52, the testing accuracy is ,0.5045917306457511\n",
      "\n",
      "\n",
      "at random state 53,the training accuracy is,0.5054896155376783\n",
      "at random state 53, the testing accuracy is ,0.5152715950744982\n",
      "\n",
      "\n",
      "at random state 54,the training accuracy is,0.512981150867265\n",
      "at random state 54, the testing accuracy is ,0.485181664880564\n",
      "\n",
      "\n",
      "at random state 55,the training accuracy is,0.5094411681213324\n",
      "at random state 55, the testing accuracy is ,0.4984975463566026\n",
      "\n",
      "\n",
      "at random state 56,the training accuracy is,0.5068658385313933\n",
      "at random state 56, the testing accuracy is ,0.5095216426025697\n",
      "\n",
      "\n",
      "at random state 57,the training accuracy is,0.5039755477525835\n",
      "at random state 57, the testing accuracy is ,0.5208263155756501\n",
      "\n",
      "\n",
      "at random state 58,the training accuracy is,0.505866554147443\n",
      "at random state 58, the testing accuracy is ,0.5135492304880966\n",
      "\n",
      "\n",
      "at random state 59,the training accuracy is,0.5103853493523112\n",
      "at random state 59, the testing accuracy is ,0.49537522419540414\n",
      "\n",
      "\n",
      "at random state 60,the training accuracy is,0.5026260822176629\n",
      "at random state 60, the testing accuracy is ,0.5257836560786981\n",
      "\n",
      "\n",
      "at random state 61,the training accuracy is,0.5113914348027222\n",
      "at random state 61, the testing accuracy is ,0.49142721632399233\n",
      "\n",
      "\n",
      "at random state 62,the training accuracy is,0.5126216416507687\n",
      "at random state 62, the testing accuracy is ,0.48661760772625073\n",
      "\n",
      "\n",
      "at random state 63,the training accuracy is,0.5059339401883739\n",
      "at random state 63, the testing accuracy is ,0.5133216078848823\n",
      "\n",
      "\n",
      "at random state 64,the training accuracy is,0.5065635815313163\n",
      "at random state 64, the testing accuracy is ,0.5112003348333962\n",
      "\n",
      "\n",
      "at random state 65,the training accuracy is,0.5088373328804254\n",
      "at random state 65, the testing accuracy is ,0.5020654843185912\n",
      "\n",
      "\n",
      "at random state 66,the training accuracy is,0.5104481401406802\n",
      "at random state 66, the testing accuracy is ,0.4944163402560878\n",
      "\n",
      "\n"
     ]
    },
    {
     "name": "stdout",
     "output_type": "stream",
     "text": [
      "at random state 67,the training accuracy is,0.5084761545348883\n",
      "at random state 67, the testing accuracy is ,0.5035424462194401\n",
      "\n",
      "\n",
      "at random state 68,the training accuracy is,0.507112179770562\n",
      "at random state 68, the testing accuracy is ,0.5087464080692203\n",
      "\n",
      "\n",
      "at random state 69,the training accuracy is,0.5040998651462519\n",
      "at random state 69, the testing accuracy is ,0.5203977655384406\n",
      "\n",
      "\n",
      "at random state 70,the training accuracy is,0.5084514139125115\n",
      "at random state 70, the testing accuracy is ,0.5033200182588112\n",
      "\n",
      "\n",
      "at random state 71,the training accuracy is,0.5080612471999253\n",
      "at random state 71, the testing accuracy is ,0.5052597867351744\n",
      "\n",
      "\n",
      "at random state 72,the training accuracy is,0.5066019709023614\n",
      "at random state 72, the testing accuracy is ,0.5102751560020031\n",
      "\n",
      "\n",
      "at random state 73,the training accuracy is,0.5077493359358273\n",
      "at random state 73, the testing accuracy is ,0.5061536088079303\n",
      "\n",
      "\n",
      "at random state 74,the training accuracy is,0.5059582925177637\n",
      "at random state 74, the testing accuracy is ,0.5136513481764915\n",
      "\n",
      "\n",
      "at random state 75,the training accuracy is,0.5071197576713263\n",
      "at random state 75, the testing accuracy is ,0.5088969916094501\n",
      "\n",
      "\n",
      "at random state 76,the training accuracy is,0.506318447773467\n",
      "at random state 76, the testing accuracy is ,0.5121859723625751\n",
      "\n",
      "\n",
      "at random state 77,the training accuracy is,0.5083593683161478\n",
      "at random state 77, the testing accuracy is ,0.5039876207057321\n",
      "\n",
      "\n",
      "at random state 78,the training accuracy is,0.507245153787294\n",
      "at random state 78, the testing accuracy is ,0.5084940319031868\n",
      "\n",
      "\n",
      "at random state 79,the training accuracy is,0.5041990709804349\n",
      "at random state 79, the testing accuracy is ,0.5206456870227271\n",
      "\n",
      "\n",
      "at random state 80,the training accuracy is,0.5084860352947977\n",
      "at random state 80, the testing accuracy is ,0.503255625642498\n",
      "\n",
      "\n",
      "at random state 81,the training accuracy is,0.5071821169066733\n",
      "at random state 81, the testing accuracy is ,0.5086662270659618\n",
      "\n",
      "\n",
      "at random state 82,the training accuracy is,0.5027240040352812\n",
      "at random state 82, the testing accuracy is ,0.5262492050969569\n",
      "\n",
      "\n",
      "at random state 83,the training accuracy is,0.510892565465991\n",
      "at random state 83, the testing accuracy is ,0.49350038760976733\n",
      "\n",
      "\n",
      "at random state 84,the training accuracy is,0.5062279888278267\n",
      "at random state 84, the testing accuracy is ,0.5125030921332349\n",
      "\n",
      "\n",
      "at random state 85,the training accuracy is,0.50176976897644\n",
      "at random state 85, the testing accuracy is ,0.5277883193735616\n",
      "\n",
      "\n",
      "at random state 86,the training accuracy is,0.5074105845113259\n",
      "at random state 86, the testing accuracy is ,0.5077723053619145\n",
      "\n",
      "\n",
      "at random state 87,the training accuracy is,0.5079758841962314\n",
      "at random state 87, the testing accuracy is ,0.5054663714411834\n",
      "\n",
      "\n",
      "at random state 88,the training accuracy is,0.5089231868349111\n",
      "at random state 88, the testing accuracy is ,0.5016767833528513\n",
      "\n",
      "\n",
      "at random state 89,the training accuracy is,0.5064034881271855\n",
      "at random state 89, the testing accuracy is ,0.511932518197879\n",
      "\n",
      "\n",
      "at random state 90,the training accuracy is,0.5146999894514835\n",
      "at random state 90, the testing accuracy is ,0.4775648938471686\n",
      "\n",
      "\n",
      "at random state 91,the training accuracy is,0.5082631289288426\n",
      "at random state 91, the testing accuracy is ,0.5039075218291518\n",
      "\n",
      "\n",
      "at random state 92,the training accuracy is,0.5102818716546096\n",
      "at random state 92, the testing accuracy is ,0.49579776790149543\n",
      "\n",
      "\n",
      "at random state 93,the training accuracy is,0.5094991899716328\n",
      "at random state 93, the testing accuracy is ,0.49949335187512656\n",
      "\n",
      "\n",
      "at random state 94,the training accuracy is,0.5114130433768833\n",
      "at random state 94, the testing accuracy is ,0.491467026584684\n",
      "\n",
      "\n",
      "at random state 95,the training accuracy is,0.506407927287704\n",
      "at random state 95, the testing accuracy is ,0.5116560398278264\n",
      "\n",
      "\n",
      "at random state 96,the training accuracy is,0.5062109473963017\n",
      "at random state 96, the testing accuracy is ,0.512463754977285\n",
      "\n",
      "\n",
      "at random state 97,the training accuracy is,0.51082190236416\n",
      "at random state 97, the testing accuracy is ,0.4939266430231066\n",
      "\n",
      "\n",
      "at random state 98,the training accuracy is,0.5073184946366999\n",
      "at random state 98, the testing accuracy is ,0.5081596655236689\n",
      "\n",
      "\n",
      "at random state 99,the training accuracy is,0.5079004477500513\n",
      "at random state 99, the testing accuracy is ,0.5053341519487355\n",
      "\n",
      "\n"
     ]
    }
   ],
   "source": [
    "for i in range (0,100):\n",
    "    x1_train,x1_test,y1_train,y1_test=train_test_split(x1,y1,random_state=i,test_size=.20)\n",
    "    lr.fit(x1_train,y1_train)\n",
    "    pred_train=lr.predict(x1_train)\n",
    "    pred_test=lr.predict(x1_test)\n",
    "    print(f'at random state {i},the training accuracy is,{r2_score(y1_train,pred_train)}')\n",
    "    print(f'at random state {i}, the testing accuracy is ,{r2_score(y1_test,pred_test)}')\n",
    "    print('\\n')"
   ]
  },
  {
   "cell_type": "code",
   "execution_count": 64,
   "id": "30b6609f",
   "metadata": {},
   "outputs": [],
   "source": [
    "# we see that the r2score of the model is around 50 %"
   ]
  },
  {
   "cell_type": "code",
   "execution_count": 65,
   "id": "0a8ed9ec",
   "metadata": {},
   "outputs": [],
   "source": [
    "x1_train,x1_test,y1_train,y1_test=train_test_split(x1,y1,random_state=75,test_size=.20)"
   ]
  },
  {
   "cell_type": "code",
   "execution_count": 66,
   "id": "5880246a",
   "metadata": {},
   "outputs": [
    {
     "data": {
      "text/plain": [
       "LinearRegression()"
      ]
     },
     "execution_count": 66,
     "metadata": {},
     "output_type": "execute_result"
    }
   ],
   "source": [
    "lr.fit(x1_train,y1_train)"
   ]
  },
  {
   "cell_type": "code",
   "execution_count": 67,
   "id": "b8fe17af",
   "metadata": {},
   "outputs": [],
   "source": [
    "pred_test=lr.predict(x1_test)"
   ]
  },
  {
   "cell_type": "code",
   "execution_count": 68,
   "id": "1746680d",
   "metadata": {},
   "outputs": [
    {
     "name": "stdout",
     "output_type": "stream",
     "text": [
      "0.5088969916094501\n"
     ]
    }
   ],
   "source": [
    "print(r2_score(y1_test,pred_test))"
   ]
  },
  {
   "cell_type": "code",
   "execution_count": 69,
   "id": "b275f26a",
   "metadata": {},
   "outputs": [],
   "source": [
    "#we see the r2score is 50%\n"
   ]
  },
  {
   "cell_type": "markdown",
   "id": "41470d04",
   "metadata": {},
   "source": [
    "Performing Cross Validation"
   ]
  },
  {
   "cell_type": "code",
   "execution_count": 70,
   "id": "a6fa49f3",
   "metadata": {},
   "outputs": [
    {
     "name": "stdout",
     "output_type": "stream",
     "text": [
      "at cross fold 2 the cv score is -3.7872220640223255 and the train accuracy score is -0.5474956678920146 and test accuracy score is 0.5088969916094501\n",
      "\n",
      "\n",
      "at cross fold 3 the cv score is 0.06990094991056013 and the train accuracy score is -0.5474956678920146 and test accuracy score is 0.5088969916094501\n",
      "\n",
      "\n",
      "at cross fold 4 the cv score is 0.052706301878229195 and the train accuracy score is -0.5474956678920146 and test accuracy score is 0.5088969916094501\n",
      "\n",
      "\n",
      "at cross fold 5 the cv score is 0.1286303789636766 and the train accuracy score is -0.5474956678920146 and test accuracy score is 0.5088969916094501\n",
      "\n",
      "\n",
      "at cross fold 6 the cv score is 0.09279745558098994 and the train accuracy score is -0.5474956678920146 and test accuracy score is 0.5088969916094501\n",
      "\n",
      "\n",
      "at cross fold 7 the cv score is 0.10027475072966195 and the train accuracy score is -0.5474956678920146 and test accuracy score is 0.5088969916094501\n",
      "\n",
      "\n",
      "at cross fold 8 the cv score is 0.10649026372138819 and the train accuracy score is -0.5474956678920146 and test accuracy score is 0.5088969916094501\n",
      "\n",
      "\n",
      "at cross fold 9 the cv score is 0.1252309535140727 and the train accuracy score is -0.5474956678920146 and test accuracy score is 0.5088969916094501\n",
      "\n",
      "\n"
     ]
    }
   ],
   "source": [
    "Train_accuracy=r2_score(y1_train,pred_train)\n",
    "testing_accuracy=r2_score(y1_test,pred_test)\n",
    "\n",
    "from sklearn.model_selection import cross_val_score\n",
    "for j in range(2,10):\n",
    "    cv_score=cross_val_score(lr,x1,y1,cv=j)\n",
    "    cv_mean=cv_score.mean()\n",
    "    print(f'at cross fold {j} the cv score is {cv_mean} and the train accuracy score is {Train_accuracy} and test accuracy score is {testing_accuracy}')\n",
    "    print('\\n')"
   ]
  },
  {
   "cell_type": "code",
   "execution_count": 71,
   "id": "7f136ccb",
   "metadata": {},
   "outputs": [
    {
     "data": {
      "image/png": "[encoded data removed]",
      "text/plain": [
       "<Figure size 576x432 with 1 Axes>"
      ]
     },
     "metadata": {
      "needs_background": "light"
     },
     "output_type": "display_data"
    }
   ],
   "source": [
    "plt.figure(figsize=[8,6])\n",
    "plt.scatter(x=y1_test,y=pred_test,color='red')\n",
    "plt.plot(y1_test,y1_test,color='b')\n",
    "plt.xlabel('actual average Price')\n",
    "plt.ylabel('predicted average Price')\n",
    "plt.title('Linear Regression')\n",
    "plt.show()"
   ]
  },
  {
   "cell_type": "markdown",
   "id": "9fea4339",
   "metadata": {},
   "source": [
    "Regularisation"
   ]
  },
  {
   "cell_type": "code",
   "execution_count": 72,
   "id": "0c7ddb23",
   "metadata": {},
   "outputs": [
    {
     "name": "stdout",
     "output_type": "stream",
     "text": [
      "{'alpha': 0.0001, 'random_state': 0}\n"
     ]
    }
   ],
   "source": [
    "from sklearn.model_selection import GridSearchCV\n",
    "from sklearn.linear_model import Lasso\n",
    "parameters= {'alpha':[.0001,.001,.01,.1,1,10],'random_state':list(range(0,10))}\n",
    "ls=Lasso()\n",
    "clf=GridSearchCV(ls,parameters)\n",
    "clf.fit(x1_train,y1_train)\n",
    "print(clf.best_params_)"
   ]
  },
  {
   "cell_type": "code",
   "execution_count": 73,
   "id": "fb899603",
   "metadata": {},
   "outputs": [
    {
     "data": {
      "text/plain": [
       "50.71166223518456"
      ]
     },
     "execution_count": 73,
     "metadata": {},
     "output_type": "execute_result"
    }
   ],
   "source": [
    "#Training the model\n",
    "ls=Lasso(alpha=0.0001,random_state=0)\n",
    "ls.fit(x1_train,y1_train)\n",
    "ls_score_training=ls.score(x1_train,y1_train)\n",
    "pred_ls=ls.predict(x1_test)\n",
    "ls_score_training*100"
   ]
  },
  {
   "cell_type": "code",
   "execution_count": 74,
   "id": "ddf6db88",
   "metadata": {},
   "outputs": [
    {
     "data": {
      "text/plain": [
       "50.88621402790646"
      ]
     },
     "execution_count": 74,
     "metadata": {},
     "output_type": "execute_result"
    }
   ],
   "source": [
    "lss=r2_score(y1_test,pred_ls)\n",
    "lss*100"
   ]
  },
  {
   "cell_type": "code",
   "execution_count": 75,
   "id": "fdd015f5",
   "metadata": {},
   "outputs": [],
   "source": [
    "# we see that the r2score is same even after Regularisation"
   ]
  },
  {
   "cell_type": "code",
   "execution_count": 76,
   "id": "6d66696c",
   "metadata": {},
   "outputs": [],
   "source": [
    "#Ensemble method  using random forest  Regressor"
   ]
  },
  {
   "cell_type": "code",
   "execution_count": 77,
   "id": "10d054c4",
   "metadata": {},
   "outputs": [
    {
     "name": "stdout",
     "output_type": "stream",
     "text": [
      "GradientBoostingRegressor()\n",
      "the training accuracy is {0.6907521994622283}\n",
      "the testing accuracy is {0.6718337055681216}\n",
      "Mean absolute error is 0.1672913854049445\n",
      "Mean squared error is 0.22017103565923282\n",
      "\n",
      "\n",
      "AdaBoostRegressor()\n",
      "the training accuracy is {0.5076791265524512}\n",
      "the testing accuracy is {0.4903125250271477}\n",
      "Mean absolute error is 0.2194175066481963\n",
      "Mean squared error is 0.27438804123996846\n",
      "\n",
      "\n",
      "RandomForestRegressor()\n",
      "the training accuracy is {0.9761309399304352}\n",
      "the testing accuracy is {0.8371707765941744}\n",
      "Mean absolute error is 0.10911076182384592\n",
      "Mean squared error is 0.15508842106653115\n",
      "\n",
      "\n"
     ]
    }
   ],
   "source": [
    "from sklearn.ensemble import RandomForestRegressor,AdaBoostRegressor,GradientBoostingRegressor\n",
    "from sklearn.metrics import r2_score,mean_absolute_error,mean_squared_error\n",
    "rfr=RandomForestRegressor()\n",
    "ad=AdaBoostRegressor()\n",
    "gb=GradientBoostingRegressor()\n",
    "x1_train,x1_test,y1_train,y1_test=train_test_split(x1,y1,random_state=42,test_size=.20)\n",
    "for i in [gb,ad,rfr]:\n",
    "    i.fit(x1_train,y1_train)\n",
    "    pred_train=i.predict(x1_train)\n",
    "    pred_test=i.predict(x1_test)\n",
    "    test_score=r2_score(y1_test,pred_test)\n",
    "    train_score=r2_score(y1_train,pred_train)\n",
    "    print(i)\n",
    "    print('the training accuracy is',{r2_score(y1_train,pred_train)})\n",
    "    print('the testing accuracy is',{r2_score(y1_test, pred_test)})\n",
    "    print('Mean absolute error is',mean_absolute_error(y1_test,pred_test))\n",
    "    print('Mean squared error is',(mean_squared_error(y1_test,pred_test,squared=False)))\n",
    "    print('\\n')"
   ]
  },
  {
   "cell_type": "code",
   "execution_count": 78,
   "id": "304cf357",
   "metadata": {},
   "outputs": [],
   "source": [
    "#Using ensemble model the r2score of the modle is increased to 83% but there would be overfitting of the model"
   ]
  },
  {
   "cell_type": "markdown",
   "id": "82e209a8",
   "metadata": {},
   "source": [
    "Classification model"
   ]
  },
  {
   "cell_type": "code",
   "execution_count": 79,
   "id": "19eda403",
   "metadata": {},
   "outputs": [
    {
     "data": {
      "text/plain": [
       "array([[-0.11782446, -0.07532391, -0.65742071, ..., -0.67791909,\n",
       "        -1.01904715, -1.2106467 ],\n",
       "       [-0.06432986, -0.14749743, -0.77717852, ..., -0.67791909,\n",
       "        -1.01904715, -1.2106467 ],\n",
       "       [-1.29886469,  0.20555557, -0.7317763 , ..., -0.67791909,\n",
       "        -1.01904715, -1.2106467 ],\n",
       "       ...,\n",
       "       [ 1.18432357, -0.77527398, -0.61796649, ..., -0.67791909,\n",
       "         0.98130886,  1.97870686],\n",
       "       [ 1.31329624, -0.70179733, -0.54701087, ..., -0.67791909,\n",
       "         0.98130886,  1.97870686],\n",
       "       [ 0.61561867, -0.66738095, -0.35967077, ..., -0.67791909,\n",
       "         0.98130886,  1.97870686]])"
      ]
     },
     "execution_count": 79,
     "metadata": {},
     "output_type": "execute_result"
    }
   ],
   "source": [
    "from sklearn.preprocessing import power_transform     #to remove skewness in the data\n",
    "x2=power_transform(x2,method='yeo-johnson')\n",
    "x2"
   ]
  },
  {
   "cell_type": "code",
   "execution_count": 80,
   "id": "c7ae78e2",
   "metadata": {},
   "outputs": [
    {
     "data": {
      "text/plain": [
       "array([[-0.11782446, -0.07532391, -0.65742071, ..., -0.67791909,\n",
       "        -1.01904715, -1.21061818],\n",
       "       [-0.06432986, -0.14749743, -0.77717852, ..., -0.67791909,\n",
       "        -1.01904715, -1.21061818],\n",
       "       [-1.29886469,  0.20555557, -0.7317763 , ..., -0.67791909,\n",
       "        -1.01904715, -1.21061818],\n",
       "       ...,\n",
       "       [ 1.18432357, -0.77527398, -0.61796649, ..., -0.67791909,\n",
       "         0.98130886,  1.97873539],\n",
       "       [ 1.31329624, -0.70179733, -0.54701087, ..., -0.67791909,\n",
       "         0.98130886,  1.97873539],\n",
       "       [ 0.61561867, -0.66738095, -0.35967077, ..., -0.67791909,\n",
       "         0.98130886,  1.97873539]])"
      ]
     },
     "execution_count": 80,
     "metadata": {},
     "output_type": "execute_result"
    }
   ],
   "source": [
    "from sklearn.preprocessing import StandardScaler\n",
    "sc=StandardScaler()\n",
    "x2=sc.fit_transform(x2)\n",
    "x2"
   ]
  },
  {
   "cell_type": "code",
   "execution_count": 81,
   "id": "7b750a2e",
   "metadata": {},
   "outputs": [],
   "source": [
    "from sklearn.model_selection import train_test_split\n",
    "from sklearn.linear_model import  LogisticRegression\n",
    "lr=LogisticRegression() \n",
    "from sklearn.metrics import accuracy_score\n",
    "x2_train,x2_test,y2_train,y2_test=train_test_split(x2,y2,random_state=42,test_size=.20)"
   ]
  },
  {
   "cell_type": "code",
   "execution_count": 82,
   "id": "6a2849f6",
   "metadata": {},
   "outputs": [
    {
     "name": "stdout",
     "output_type": "stream",
     "text": [
      "accuracy score of KNeighborsClassifier() is:\n",
      "0.8555649957519117\n",
      "[[65  0  0 ...  0  0  0]\n",
      " [ 0 58  0 ...  0  0  0]\n",
      " [ 0  0 64 ...  0  0  0]\n",
      " ...\n",
      " [ 0  0  0 ... 39  0  0]\n",
      " [ 0  0  0 ...  0 37  0]\n",
      " [ 0  0  0 ...  0  0 51]]\n",
      "              precision    recall  f1-score   support\n",
      "\n",
      "           0       0.80      0.96      0.87        68\n",
      "           1       0.67      0.84      0.75        69\n",
      "           2       0.94      1.00      0.97        64\n",
      "           3       0.85      0.82      0.84        62\n",
      "           4       0.90      0.88      0.89        69\n",
      "           5       0.84      0.78      0.81        72\n",
      "           6       0.98      0.93      0.95        56\n",
      "           7       0.86      0.88      0.87        78\n",
      "           8       0.89      0.94      0.92        54\n",
      "           9       0.85      0.80      0.82        76\n",
      "          10       0.60      0.75      0.67        59\n",
      "          11       0.81      0.99      0.89        68\n",
      "          12       0.94      0.96      0.95        68\n",
      "          13       0.72      0.77      0.74        64\n",
      "          14       0.89      0.94      0.92        72\n",
      "          15       0.95      0.95      0.95        60\n",
      "          16       0.95      0.92      0.93        75\n",
      "          17       0.88      0.86      0.87        59\n",
      "          18       0.90      0.80      0.85        79\n",
      "          19       0.81      0.77      0.79        70\n",
      "          20       0.94      0.87      0.91        77\n",
      "          21       0.63      0.75      0.68        59\n",
      "          22       0.99      0.97      0.98        72\n",
      "          23       0.83      0.83      0.83        59\n",
      "          24       0.64      0.58      0.61        65\n",
      "          25       0.94      0.97      0.96        77\n",
      "          26       0.63      0.83      0.72        63\n",
      "          27       0.95      0.81      0.87        68\n",
      "          28       1.00      0.95      0.97        60\n",
      "          29       0.97      0.98      0.97        58\n",
      "          30       0.91      0.88      0.89        77\n",
      "          31       0.54      0.62      0.57        60\n",
      "          32       0.90      0.90      0.90        62\n",
      "          33       0.81      0.85      0.83        79\n",
      "          34       0.90      0.87      0.88        60\n",
      "          35       0.93      1.00      0.96        62\n",
      "          36       0.75      0.83      0.79        48\n",
      "          37       0.82      0.92      0.87        53\n",
      "          38       0.94      0.85      0.89        68\n",
      "          39       0.81      0.85      0.83        65\n",
      "          40       0.90      0.83      0.86        69\n",
      "          41       0.85      0.67      0.75        76\n",
      "          42       0.92      0.94      0.93        65\n",
      "          43       0.92      0.81      0.86        59\n",
      "          44       0.93      0.86      0.90        81\n",
      "          45       0.98      0.92      0.95        66\n",
      "          46       0.94      0.97      0.95        60\n",
      "          47       0.91      0.78      0.84        80\n",
      "          48       0.91      0.79      0.85        67\n",
      "          49       0.88      0.89      0.89        65\n",
      "          50       0.63      0.46      0.53        69\n",
      "          51       1.00      1.00      1.00        39\n",
      "          52       0.97      0.97      0.97        38\n",
      "          53       0.86      0.81      0.84        63\n",
      "\n",
      "    accuracy                           0.86      3531\n",
      "   macro avg       0.86      0.86      0.86      3531\n",
      "weighted avg       0.86      0.86      0.86      3531\n",
      "\n",
      "\n",
      "\n",
      "accuracy score of LogisticRegression() is:\n",
      "0.5562163693004815\n",
      "[[49  0  0 ...  0  0  0]\n",
      " [ 0 29  0 ...  0  0  1]\n",
      " [ 0  0 45 ...  0  0  2]\n",
      " ...\n",
      " [ 0  0  0 ... 35  4  0]\n",
      " [ 0  0  0 ...  1 34  0]\n",
      " [ 0  1  0 ...  0  0 16]]\n",
      "              precision    recall  f1-score   support\n",
      "\n",
      "           0       0.68      0.72      0.70        68\n",
      "           1       0.31      0.42      0.35        69\n",
      "           2       0.76      0.70      0.73        64\n",
      "           3       0.72      0.50      0.59        62\n",
      "           4       0.47      0.39      0.43        69\n",
      "           5       0.59      0.54      0.57        72\n",
      "           6       0.83      0.77      0.80        56\n",
      "           7       0.73      0.69      0.71        78\n",
      "           8       0.63      0.81      0.71        54\n",
      "           9       0.54      0.74      0.63        76\n",
      "          10       0.40      0.39      0.40        59\n",
      "          11       0.51      0.66      0.57        68\n",
      "          12       0.46      0.47      0.47        68\n",
      "          13       0.36      0.23      0.28        64\n",
      "          14       0.73      0.72      0.73        72\n",
      "          15       0.86      0.62      0.72        60\n",
      "          16       0.56      0.47      0.51        75\n",
      "          17       0.51      0.64      0.57        59\n",
      "          18       0.39      0.39      0.39        79\n",
      "          19       0.55      0.67      0.60        70\n",
      "          20       0.51      0.60      0.55        77\n",
      "          21       0.36      0.36      0.36        59\n",
      "          22       0.77      0.74      0.75        72\n",
      "          23       0.57      0.73      0.64        59\n",
      "          24       0.00      0.00      0.00        65\n",
      "          25       0.63      0.90      0.74        77\n",
      "          26       0.18      0.14      0.16        63\n",
      "          27       0.30      0.47      0.37        68\n",
      "          28       0.76      0.70      0.73        60\n",
      "          29       0.78      0.78      0.78        58\n",
      "          30       0.68      0.53      0.60        77\n",
      "          31       0.48      0.40      0.44        60\n",
      "          32       0.62      0.74      0.68        62\n",
      "          33       0.41      0.48      0.44        79\n",
      "          34       0.26      0.27      0.26        60\n",
      "          35       0.61      0.53      0.57        62\n",
      "          36       0.44      0.31      0.37        48\n",
      "          37       0.46      0.49      0.47        53\n",
      "          38       0.54      0.57      0.56        68\n",
      "          39       0.33      0.48      0.39        65\n",
      "          40       0.72      0.84      0.77        69\n",
      "          41       0.44      0.37      0.40        76\n",
      "          42       0.82      0.82      0.82        65\n",
      "          43       0.74      0.58      0.65        59\n",
      "          44       0.53      0.51      0.52        81\n",
      "          45       0.84      0.82      0.83        66\n",
      "          46       0.72      0.68      0.70        60\n",
      "          47       0.63      0.69      0.66        80\n",
      "          48       0.42      0.16      0.24        67\n",
      "          49       0.66      0.78      0.72        65\n",
      "          50       0.26      0.17      0.21        69\n",
      "          51       0.97      0.90      0.93        39\n",
      "          52       0.69      0.89      0.78        38\n",
      "          53       0.32      0.25      0.28        63\n",
      "\n",
      "    accuracy                           0.56      3531\n",
      "   macro avg       0.56      0.56      0.55      3531\n",
      "weighted avg       0.55      0.56      0.55      3531\n",
      "\n",
      "\n",
      "\n",
      "accuracy score of GaussianNB() is:\n",
      "0.05720758991787029\n",
      "[[ 4  0  0 ...  0  0  0]\n",
      " [ 2  0  0 ...  0 15  0]\n",
      " [ 9  0  0 ...  0  0  0]\n",
      " ...\n",
      " [ 0  0  0 ... 39  0  0]\n",
      " [ 0  0  1 ...  1  9  0]\n",
      " [ 9  0  0 ...  0 27  0]]\n",
      "              precision    recall  f1-score   support\n",
      "\n",
      "           0       0.01      0.06      0.02        68\n",
      "           1       0.00      0.00      0.00        69\n",
      "           2       0.00      0.00      0.00        64\n",
      "           3       0.13      0.23      0.16        62\n",
      "           4       0.00      0.00      0.00        69\n",
      "           5       0.00      0.00      0.00        72\n",
      "           6       0.00      0.00      0.00        56\n",
      "           7       0.04      0.01      0.02        78\n",
      "           8       0.00      0.00      0.00        54\n",
      "           9       0.15      0.20      0.17        76\n",
      "          10       0.00      0.00      0.00        59\n",
      "          11       0.00      0.00      0.00        68\n",
      "          12       0.01      0.01      0.01        68\n",
      "          13       0.04      0.03      0.03        64\n",
      "          14       0.00      0.00      0.00        72\n",
      "          15       0.40      0.03      0.06        60\n",
      "          16       0.00      0.00      0.00        75\n",
      "          17       0.07      0.05      0.06        59\n",
      "          18       0.00      0.00      0.00        79\n",
      "          19       0.00      0.00      0.00        70\n",
      "          20       0.40      0.03      0.05        77\n",
      "          21       0.00      0.00      0.00        59\n",
      "          22       0.06      0.08      0.07        72\n",
      "          23       0.05      0.02      0.02        59\n",
      "          24       0.00      0.00      0.00        65\n",
      "          25       0.12      0.47      0.19        77\n",
      "          26       0.05      0.03      0.04        63\n",
      "          27       0.00      0.00      0.00        68\n",
      "          28       0.02      0.02      0.02        60\n",
      "          29       0.19      0.14      0.16        58\n",
      "          30       0.18      0.09      0.12        77\n",
      "          31       0.00      0.00      0.00        60\n",
      "          32       0.00      0.00      0.00        62\n",
      "          33       0.00      0.00      0.00        79\n",
      "          34       0.00      0.00      0.00        60\n",
      "          35       0.00      0.00      0.00        62\n",
      "          36       0.00      0.00      0.00        48\n",
      "          37       0.03      0.04      0.03        53\n",
      "          38       0.00      0.00      0.00        68\n",
      "          39       0.01      0.02      0.01        65\n",
      "          40       0.12      0.04      0.06        69\n",
      "          41       0.00      0.00      0.00        76\n",
      "          42       0.00      0.00      0.00        65\n",
      "          43       0.00      0.00      0.00        59\n",
      "          44       0.00      0.00      0.00        81\n",
      "          45       1.00      0.02      0.03        66\n",
      "          46       1.00      0.05      0.10        60\n",
      "          47       0.12      0.16      0.13        80\n",
      "          48       0.00      0.00      0.00        67\n",
      "          49       0.04      0.40      0.08        65\n",
      "          50       0.00      0.00      0.00        69\n",
      "          51       0.97      1.00      0.99        39\n",
      "          52       0.04      0.24      0.06        38\n",
      "          53       0.00      0.00      0.00        63\n",
      "\n",
      "    accuracy                           0.06      3531\n",
      "   macro avg       0.10      0.06      0.05      3531\n",
      "weighted avg       0.09      0.06      0.04      3531\n",
      "\n",
      "\n",
      "\n"
     ]
    },
    {
     "name": "stdout",
     "output_type": "stream",
     "text": [
      "accuracy score of SVC() is:\n",
      "0.8145001416029454\n",
      "[[64  0  0 ...  0  0  0]\n",
      " [ 0 55  0 ...  0  0  2]\n",
      " [ 0  0 63 ...  0  0  0]\n",
      " ...\n",
      " [ 0  0  0 ... 39  0  0]\n",
      " [ 0  0  0 ...  0 37  0]\n",
      " [ 0  0  0 ...  0  0 45]]\n",
      "              precision    recall  f1-score   support\n",
      "\n",
      "           0       0.78      0.94      0.85        68\n",
      "           1       0.66      0.80      0.72        69\n",
      "           2       0.98      0.98      0.98        64\n",
      "           3       0.81      0.82      0.82        62\n",
      "           4       0.87      0.84      0.85        69\n",
      "           5       0.81      0.65      0.72        72\n",
      "           6       1.00      0.95      0.97        56\n",
      "           7       0.84      0.81      0.82        78\n",
      "           8       0.95      0.96      0.95        54\n",
      "           9       0.82      0.82      0.82        76\n",
      "          10       0.60      0.78      0.68        59\n",
      "          11       0.79      0.82      0.81        68\n",
      "          12       0.90      0.94      0.92        68\n",
      "          13       0.62      0.78      0.69        64\n",
      "          14       0.89      0.94      0.92        72\n",
      "          15       0.95      0.97      0.96        60\n",
      "          16       0.99      0.93      0.96        75\n",
      "          17       0.91      0.86      0.89        59\n",
      "          18       0.82      0.73      0.77        79\n",
      "          19       0.83      0.71      0.77        70\n",
      "          20       0.94      0.84      0.89        77\n",
      "          21       0.60      0.66      0.63        59\n",
      "          22       0.99      0.97      0.98        72\n",
      "          23       0.71      0.69      0.70        59\n",
      "          24       0.73      0.58      0.65        65\n",
      "          25       0.94      0.94      0.94        77\n",
      "          26       0.66      0.43      0.52        63\n",
      "          27       0.69      0.71      0.70        68\n",
      "          28       1.00      0.95      0.97        60\n",
      "          29       0.97      0.97      0.97        58\n",
      "          30       0.86      0.83      0.85        77\n",
      "          31       0.55      0.65      0.60        60\n",
      "          32       0.88      0.92      0.90        62\n",
      "          33       0.66      0.77      0.71        79\n",
      "          34       0.70      0.87      0.78        60\n",
      "          35       0.90      0.97      0.93        62\n",
      "          36       0.74      0.81      0.77        48\n",
      "          37       0.67      0.79      0.72        53\n",
      "          38       0.76      0.75      0.76        68\n",
      "          39       0.66      0.92      0.77        65\n",
      "          40       0.82      0.90      0.86        69\n",
      "          41       0.75      0.68      0.72        76\n",
      "          42       0.93      0.97      0.95        65\n",
      "          43       0.92      0.75      0.82        59\n",
      "          44       0.88      0.75      0.81        81\n",
      "          45       0.98      0.85      0.91        66\n",
      "          46       0.82      0.92      0.87        60\n",
      "          47       0.89      0.85      0.87        80\n",
      "          48       0.81      0.70      0.75        67\n",
      "          49       0.80      0.86      0.83        65\n",
      "          50       0.42      0.20      0.27        69\n",
      "          51       1.00      1.00      1.00        39\n",
      "          52       0.97      0.97      0.97        38\n",
      "          53       0.78      0.71      0.74        63\n",
      "\n",
      "    accuracy                           0.81      3531\n",
      "   macro avg       0.82      0.82      0.81      3531\n",
      "weighted avg       0.82      0.81      0.81      3531\n",
      "\n",
      "\n",
      "\n",
      "accuracy score of DecisionTreeClassifier() is:\n",
      "0.8009062588501841\n",
      "[[52  0  0 ...  0  0  0]\n",
      " [ 0 52  0 ...  0  0  1]\n",
      " [ 0  0 56 ...  0  0  1]\n",
      " ...\n",
      " [ 0  0  0 ... 39  0  0]\n",
      " [ 0  0  0 ...  1 36  0]\n",
      " [ 0  1  1 ...  0  0 41]]\n",
      "              precision    recall  f1-score   support\n",
      "\n",
      "           0       0.83      0.76      0.79        68\n",
      "           1       0.75      0.75      0.75        69\n",
      "           2       0.89      0.88      0.88        64\n",
      "           3       0.82      0.90      0.86        62\n",
      "           4       0.84      0.90      0.87        69\n",
      "           5       0.72      0.81      0.76        72\n",
      "           6       0.95      0.95      0.95        56\n",
      "           7       0.85      0.79      0.82        78\n",
      "           8       0.89      0.94      0.92        54\n",
      "           9       0.82      0.72      0.77        76\n",
      "          10       0.70      0.66      0.68        59\n",
      "          11       0.85      0.88      0.86        68\n",
      "          12       0.90      0.81      0.85        68\n",
      "          13       0.73      0.75      0.74        64\n",
      "          14       0.90      0.78      0.84        72\n",
      "          15       0.95      0.90      0.92        60\n",
      "          16       0.86      0.92      0.89        75\n",
      "          17       0.78      0.73      0.75        59\n",
      "          18       0.83      0.82      0.83        79\n",
      "          19       0.80      0.84      0.82        70\n",
      "          20       0.85      0.75      0.80        77\n",
      "          21       0.61      0.75      0.67        59\n",
      "          22       0.86      0.94      0.90        72\n",
      "          23       0.80      0.69      0.75        59\n",
      "          24       0.63      0.63      0.63        65\n",
      "          25       0.97      0.94      0.95        77\n",
      "          26       0.68      0.71      0.70        63\n",
      "          27       0.75      0.78      0.76        68\n",
      "          28       0.84      0.80      0.82        60\n",
      "          29       0.91      0.86      0.88        58\n",
      "          30       0.88      0.87      0.88        77\n",
      "          31       0.59      0.63      0.61        60\n",
      "          32       0.84      0.84      0.84        62\n",
      "          33       0.77      0.78      0.77        79\n",
      "          34       0.81      0.78      0.80        60\n",
      "          35       0.84      0.90      0.87        62\n",
      "          36       0.67      0.79      0.72        48\n",
      "          37       0.68      0.77      0.73        53\n",
      "          38       0.82      0.85      0.83        68\n",
      "          39       0.72      0.85      0.78        65\n",
      "          40       0.85      0.81      0.83        69\n",
      "          41       0.76      0.83      0.79        76\n",
      "          42       0.85      0.92      0.88        65\n",
      "          43       0.80      0.73      0.76        59\n",
      "          44       0.82      0.78      0.80        81\n",
      "          45       0.92      0.86      0.89        66\n",
      "          46       0.89      0.83      0.86        60\n",
      "          47       0.79      0.70      0.74        80\n",
      "          48       0.75      0.66      0.70        67\n",
      "          49       0.71      0.74      0.72        65\n",
      "          50       0.52      0.48      0.50        69\n",
      "          51       0.97      1.00      0.99        39\n",
      "          52       0.90      0.95      0.92        38\n",
      "          53       0.69      0.65      0.67        63\n",
      "\n",
      "    accuracy                           0.80      3531\n",
      "   macro avg       0.80      0.80      0.80      3531\n",
      "weighted avg       0.80      0.80      0.80      3531\n",
      "\n",
      "\n",
      "\n"
     ]
    }
   ],
   "source": [
    "import sklearn\n",
    "from sklearn.naive_bayes import GaussianNB\n",
    "from sklearn.svm import SVC\n",
    "from sklearn.neighbors import  KNeighborsClassifier\n",
    "from sklearn.tree import DecisionTreeClassifier\n",
    "\n",
    "from sklearn.metrics import accuracy_score,confusion_matrix,classification_report\n",
    "import warnings\n",
    "warnings.filterwarnings('ignore')\n",
    "\n",
    "knn=KNeighborsClassifier()\n",
    "lg=LogisticRegression()\n",
    "gnb=GaussianNB()\n",
    "svc=SVC()\n",
    "dtc=DecisionTreeClassifier()\n",
    "\n",
    "\n",
    "model=[knn,lg,gnb,svc,dtc]\n",
    "\n",
    "for m in model:\n",
    "    m.fit(x2_train,y2_train)\n",
    "    m.score(x2_test,y2_test)\n",
    "    predm=m.predict(x2_test)\n",
    "    print ('accuracy score of',m,'is:')\n",
    "    print(accuracy_score(y2_test,predm))\n",
    "    print(confusion_matrix(y2_test,predm))\n",
    "    print(classification_report(y2_test,predm))\n",
    "    print('\\n')"
   ]
  },
  {
   "cell_type": "markdown",
   "id": "b58b6c92",
   "metadata": {},
   "source": [
    "We see that KNN is providing highest accuracy of 85% for this model"
   ]
  },
  {
   "cell_type": "code",
   "execution_count": 83,
   "id": "3b0f8f55",
   "metadata": {},
   "outputs": [],
   "source": [
    "pred_test=knn.predict(x2_test)"
   ]
  },
  {
   "cell_type": "code",
   "execution_count": 84,
   "id": "05789a6e",
   "metadata": {},
   "outputs": [
    {
     "name": "stdout",
     "output_type": "stream",
     "text": [
      "at cv= 2\n",
      "cross validation score is 7.093045977343529\n",
      "accuracy_score is 85.55649957519117\n",
      "\n",
      "\n",
      "at cv= 3\n",
      "cross validation score is 44.13873424750379\n",
      "accuracy_score is 85.55649957519117\n",
      "\n",
      "\n",
      "at cv= 4\n",
      "cross validation score is 50.52378625009476\n",
      "accuracy_score is 85.55649957519117\n",
      "\n",
      "\n",
      "at cv= 5\n",
      "cross validation score is 54.00229773844452\n",
      "accuracy_score is 85.55649957519117\n",
      "\n",
      "\n",
      "at cv= 6\n",
      "cross validation score is 50.93210895169006\n",
      "accuracy_score is 85.55649957519117\n",
      "\n",
      "\n",
      "at cv= 7\n",
      "cross validation score is 57.80359672306494\n",
      "accuracy_score is 85.55649957519117\n",
      "\n",
      "\n",
      "at cv= 8\n",
      "cross validation score is 59.927632284320765\n",
      "accuracy_score is 85.55649957519117\n",
      "\n",
      "\n",
      "at cv= 9\n",
      "cross validation score is 60.720457345002956\n",
      "accuracy_score is 85.55649957519117\n",
      "\n",
      "\n"
     ]
    }
   ],
   "source": [
    "#cross validation for Kneighbour classifier\n",
    "from sklearn.model_selection import cross_val_score\n",
    "lss=accuracy_score(y2_test,pred_test)\n",
    "for j in range(2,10):\n",
    "    lsscore= cross_val_score(knn,x2,y2,cv=j)\n",
    "    lsc= lsscore.mean()\n",
    "    print('at cv=',j)\n",
    "    print('cross validation score is',lsc *100)\n",
    "    print('accuracy_score is',lss*100)\n",
    "    print('\\n')"
   ]
  },
  {
   "cell_type": "code",
   "execution_count": 85,
   "id": "6904b6da",
   "metadata": {},
   "outputs": [],
   "source": [
    "#at cv=9 we are getting highest cross validation and accuracy score "
   ]
  },
  {
   "cell_type": "code",
   "execution_count": 86,
   "id": "2fc8ca75",
   "metadata": {},
   "outputs": [],
   "source": [
    "#we will use ensemble method"
   ]
  },
  {
   "cell_type": "code",
   "execution_count": 87,
   "id": "6125be74",
   "metadata": {},
   "outputs": [
    {
     "name": "stdout",
     "output_type": "stream",
     "text": [
      "0.902577173605211\n",
      "[[65  0  0 ...  0  0  0]\n",
      " [ 0 62  0 ...  0  0  0]\n",
      " [ 0  0 64 ...  0  0  0]\n",
      " ...\n",
      " [ 0  0  0 ... 39  0  0]\n",
      " [ 0  0  0 ...  1 37  0]\n",
      " [ 0  0  0 ...  0  0 54]]\n",
      "              precision    recall  f1-score   support\n",
      "\n",
      "           0       0.83      0.96      0.89        68\n",
      "           1       0.84      0.90      0.87        69\n",
      "           2       0.94      1.00      0.97        64\n",
      "           3       0.88      0.84      0.86        62\n",
      "           4       0.94      0.96      0.95        69\n",
      "           5       0.88      0.83      0.86        72\n",
      "           6       0.93      0.96      0.95        56\n",
      "           7       0.91      0.92      0.92        78\n",
      "           8       0.92      1.00      0.96        54\n",
      "           9       0.93      0.84      0.88        76\n",
      "          10       0.87      0.81      0.84        59\n",
      "          11       0.89      0.96      0.92        68\n",
      "          12       0.93      0.96      0.94        68\n",
      "          13       0.86      0.86      0.86        64\n",
      "          14       0.94      0.89      0.91        72\n",
      "          15       1.00      0.95      0.97        60\n",
      "          16       0.97      0.95      0.96        75\n",
      "          17       0.91      0.88      0.90        59\n",
      "          18       0.91      0.86      0.88        79\n",
      "          19       0.86      0.89      0.87        70\n",
      "          20       0.99      0.90      0.94        77\n",
      "          21       0.76      0.81      0.79        59\n",
      "          22       0.99      1.00      0.99        72\n",
      "          23       0.80      0.83      0.82        59\n",
      "          24       0.74      0.74      0.74        65\n",
      "          25       0.95      0.99      0.97        77\n",
      "          26       0.83      0.87      0.85        63\n",
      "          27       0.93      0.93      0.93        68\n",
      "          28       0.96      0.92      0.94        60\n",
      "          29       1.00      0.97      0.98        58\n",
      "          30       0.94      0.94      0.94        77\n",
      "          31       0.79      0.82      0.80        60\n",
      "          32       0.92      0.98      0.95        62\n",
      "          33       0.86      0.90      0.88        79\n",
      "          34       0.90      0.95      0.93        60\n",
      "          35       0.94      0.95      0.94        62\n",
      "          36       0.84      0.85      0.85        48\n",
      "          37       0.89      0.89      0.89        53\n",
      "          38       0.93      0.93      0.93        68\n",
      "          39       0.83      0.91      0.87        65\n",
      "          40       0.91      0.91      0.91        69\n",
      "          41       0.85      0.89      0.87        76\n",
      "          42       0.94      0.95      0.95        65\n",
      "          43       0.95      0.88      0.91        59\n",
      "          44       0.95      0.89      0.92        81\n",
      "          45       1.00      0.98      0.99        66\n",
      "          46       0.97      0.98      0.98        60\n",
      "          47       0.88      0.88      0.88        80\n",
      "          48       0.95      0.88      0.91        67\n",
      "          49       0.91      0.82      0.86        65\n",
      "          50       0.73      0.64      0.68        69\n",
      "          51       0.97      1.00      0.99        39\n",
      "          52       0.97      0.97      0.97        38\n",
      "          53       0.89      0.86      0.87        63\n",
      "\n",
      "    accuracy                           0.90      3531\n",
      "   macro avg       0.90      0.90      0.90      3531\n",
      "weighted avg       0.90      0.90      0.90      3531\n",
      "\n"
     ]
    }
   ],
   "source": [
    "from sklearn.ensemble import RandomForestClassifier\n",
    "rf=RandomForestClassifier(n_estimators=100,random_state=42)\n",
    "rf.fit(x2_train,y2_train)\n",
    "predrf=rf.predict(x2_test)\n",
    "print(accuracy_score(y2_test,predrf))\n",
    "print(confusion_matrix(y2_test,predrf))\n",
    "print(classification_report(y2_test,predrf))"
   ]
  },
  {
   "cell_type": "code",
   "execution_count": 88,
   "id": "9a72cbad",
   "metadata": {},
   "outputs": [
    {
     "name": "stdout",
     "output_type": "stream",
     "text": [
      "0.06343811951288587\n",
      "[[0 0 0 ... 0 0 0]\n",
      " [0 0 0 ... 0 0 0]\n",
      " [0 0 0 ... 0 0 0]\n",
      " ...\n",
      " [0 0 0 ... 0 0 0]\n",
      " [0 0 0 ... 0 0 0]\n",
      " [0 0 0 ... 0 0 0]]\n",
      "              precision    recall  f1-score   support\n",
      "\n",
      "           0       0.00      0.00      0.00        68\n",
      "           1       0.00      0.00      0.00        69\n",
      "           2       0.00      0.00      0.00        64\n",
      "           3       0.00      0.00      0.00        62\n",
      "           4       0.10      0.03      0.04        69\n",
      "           5       0.00      0.00      0.00        72\n",
      "           6       0.00      0.00      0.00        56\n",
      "           7       0.00      0.00      0.00        78\n",
      "           8       0.00      0.00      0.00        54\n",
      "           9       0.00      0.00      0.00        76\n",
      "          10       0.03      0.98      0.05        59\n",
      "          11       0.07      0.37      0.11        68\n",
      "          12       0.00      0.00      0.00        68\n",
      "          13       0.00      0.00      0.00        64\n",
      "          14       0.00      0.00      0.00        72\n",
      "          15       0.00      0.00      0.00        60\n",
      "          16       0.00      0.00      0.00        75\n",
      "          17       0.12      0.12      0.12        59\n",
      "          18       0.00      0.00      0.00        79\n",
      "          19       0.17      0.09      0.11        70\n",
      "          20       0.00      0.00      0.00        77\n",
      "          21       0.00      0.00      0.00        59\n",
      "          22       0.15      0.43      0.22        72\n",
      "          23       0.40      0.36      0.38        59\n",
      "          24       0.00      0.00      0.00        65\n",
      "          25       0.00      0.00      0.00        77\n",
      "          26       0.00      0.00      0.00        63\n",
      "          27       0.00      0.00      0.00        68\n",
      "          28       0.00      0.00      0.00        60\n",
      "          29       0.00      0.00      0.00        58\n",
      "          30       0.12      0.96      0.21        77\n",
      "          31       0.00      0.00      0.00        60\n",
      "          32       0.00      0.00      0.00        62\n",
      "          33       0.00      0.00      0.00        79\n",
      "          34       0.00      0.00      0.00        60\n",
      "          35       0.00      0.00      0.00        62\n",
      "          36       0.00      0.00      0.00        48\n",
      "          37       0.00      0.00      0.00        53\n",
      "          38       0.00      0.00      0.00        68\n",
      "          39       0.00      0.00      0.00        65\n",
      "          40       0.00      0.00      0.00        69\n",
      "          41       0.00      0.00      0.00        76\n",
      "          42       0.00      0.00      0.00        65\n",
      "          43       0.00      0.00      0.00        59\n",
      "          44       0.00      0.00      0.00        81\n",
      "          45       0.00      0.00      0.00        66\n",
      "          46       0.00      0.00      0.00        60\n",
      "          47       0.00      0.00      0.00        80\n",
      "          48       0.00      0.00      0.00        67\n",
      "          49       0.00      0.00      0.00        65\n",
      "          50       0.00      0.00      0.00        69\n",
      "          51       0.00      0.00      0.00        39\n",
      "          52       0.00      0.00      0.00        38\n",
      "          53       0.00      0.00      0.00        63\n",
      "\n",
      "    accuracy                           0.06      3531\n",
      "   macro avg       0.02      0.06      0.02      3531\n",
      "weighted avg       0.02      0.06      0.02      3531\n",
      "\n"
     ]
    }
   ],
   "source": [
    "from sklearn.ensemble import AdaBoostClassifier\n",
    "ad=AdaBoostClassifier()\n",
    "ad.fit(x2_train,y2_train)\n",
    "ad_pred=ad.predict(x2_test)\n",
    "print(accuracy_score(y2_test,ad_pred))\n",
    "print(confusion_matrix(y2_test,ad_pred))\n",
    "print(classification_report(y2_test,ad_pred))"
   ]
  },
  {
   "cell_type": "code",
   "execution_count": 89,
   "id": "13ba1975",
   "metadata": {},
   "outputs": [],
   "source": [
    "#using random forest classifier we are getting 90% accuracy but it will be overfitting the model"
   ]
  },
  {
   "cell_type": "code",
   "execution_count": null,
   "id": "d70f3c16",
   "metadata": {},
   "outputs": [],
   "source": [
    "#saving the model"
   ]
  },
  {
   "cell_type": "code",
   "execution_count": 92,
   "id": "f40e0e36",
   "metadata": {},
   "outputs": [
    {
     "data": {
      "text/plain": [
       "['avacado.pkl']"
      ]
     },
     "execution_count": 92,
     "metadata": {},
     "output_type": "execute_result"
    }
   ],
   "source": [
    "import joblib\n",
    "joblib.dump(rf,'avacado.pkl')"
   ]
  },
  {
   "cell_type": "code",
   "execution_count": null,
   "id": "39c1eec1",
   "metadata": {},
   "outputs": [],
   "source": []
  }
 ],
 "metadata": {
  "kernelspec": {
   "display_name": "Python 3 (ipykernel)",
   "language": "python",
   "name": "python3"
  },
  "language_info": {
   "codemirror_mode": {
    "name": "ipython",
    "version": 3
   },
   "file_extension": ".py",
   "mimetype": "text/x-python",
   "name": "python",
   "nbconvert_exporter": "python",
   "pygments_lexer": "ipython3",
   "version": "3.9.7"
  }
 },
 "nbformat": 4,
 "nbformat_minor": 5
}
